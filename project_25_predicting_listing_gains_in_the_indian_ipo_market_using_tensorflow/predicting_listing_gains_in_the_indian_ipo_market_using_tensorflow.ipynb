{
 "cells": [
  {
   "cell_type": "markdown",
   "id": "865207a0-a897-47f5-bdc5-caec8e5c0c1a",
   "metadata": {},
   "source": [
    "# Project 25 - Predicting Listing Gains in the Indian IPO Market Using TensorFlow"
   ]
  },
  {
   "cell_type": "markdown",
   "id": "37c485bd-5ba3-48f8-af77-d62fb04af672",
   "metadata": {},
   "source": [
    "In this project our <b>task is to build a deep learning classification model to determine if there will be listing gains for the IPO</b>. Listing gains are the percentage increase in the share price of a company from its IPO issue price on the day of listing.\n",
    "\n",
    "The dataset we'll be using for this project contains information on past IPOs in the Indian market and comes from [moneycontrol](https://www.moneycontrol.com/mccode/loginConsent.php?url=https://www.moneycontrol.com/ipo/ipo-historic-table?classic=true&classic=true)."
   ]
  },
  {
   "cell_type": "markdown",
   "id": "6b4a60b3-3057-40aa-882e-c1946abc2e8d",
   "metadata": {},
   "source": [
    "## Reading in the Data"
   ]
  },
  {
   "cell_type": "code",
   "execution_count": 1,
   "id": "8fe1f256-687f-4101-82b0-01213da4c70b",
   "metadata": {},
   "outputs": [
    {
     "name": "stdout",
     "output_type": "stream",
     "text": [
      "(319, 9)\n"
     ]
    },
    {
     "data": {
      "text/html": [
       "<div>\n",
       "<style scoped>\n",
       "    .dataframe tbody tr th:only-of-type {\n",
       "        vertical-align: middle;\n",
       "    }\n",
       "\n",
       "    .dataframe tbody tr th {\n",
       "        vertical-align: top;\n",
       "    }\n",
       "\n",
       "    .dataframe thead th {\n",
       "        text-align: right;\n",
       "    }\n",
       "</style>\n",
       "<table border=\"1\" class=\"dataframe\">\n",
       "  <thead>\n",
       "    <tr style=\"text-align: right;\">\n",
       "      <th></th>\n",
       "      <th>Date</th>\n",
       "      <th>IPOName</th>\n",
       "      <th>Issue_Size</th>\n",
       "      <th>Subscription_QIB</th>\n",
       "      <th>Subscription_HNI</th>\n",
       "      <th>Subscription_RII</th>\n",
       "      <th>Subscription_Total</th>\n",
       "      <th>Issue_Price</th>\n",
       "      <th>Listing_Gains_Percent</th>\n",
       "    </tr>\n",
       "  </thead>\n",
       "  <tbody>\n",
       "    <tr>\n",
       "      <th>0</th>\n",
       "      <td>03/02/10</td>\n",
       "      <td>Infinite Comp</td>\n",
       "      <td>189.80</td>\n",
       "      <td>48.44</td>\n",
       "      <td>106.02</td>\n",
       "      <td>11.08</td>\n",
       "      <td>43.22</td>\n",
       "      <td>165</td>\n",
       "      <td>11.82</td>\n",
       "    </tr>\n",
       "    <tr>\n",
       "      <th>1</th>\n",
       "      <td>08/02/10</td>\n",
       "      <td>Jubilant Food</td>\n",
       "      <td>328.70</td>\n",
       "      <td>59.39</td>\n",
       "      <td>51.95</td>\n",
       "      <td>3.79</td>\n",
       "      <td>31.11</td>\n",
       "      <td>145</td>\n",
       "      <td>-84.21</td>\n",
       "    </tr>\n",
       "    <tr>\n",
       "      <th>2</th>\n",
       "      <td>15/02/10</td>\n",
       "      <td>Syncom Health</td>\n",
       "      <td>56.25</td>\n",
       "      <td>0.99</td>\n",
       "      <td>16.60</td>\n",
       "      <td>6.25</td>\n",
       "      <td>5.17</td>\n",
       "      <td>75</td>\n",
       "      <td>17.13</td>\n",
       "    </tr>\n",
       "    <tr>\n",
       "      <th>3</th>\n",
       "      <td>15/02/10</td>\n",
       "      <td>Vascon Engineer</td>\n",
       "      <td>199.80</td>\n",
       "      <td>1.12</td>\n",
       "      <td>3.65</td>\n",
       "      <td>0.62</td>\n",
       "      <td>1.22</td>\n",
       "      <td>165</td>\n",
       "      <td>-11.28</td>\n",
       "    </tr>\n",
       "    <tr>\n",
       "      <th>4</th>\n",
       "      <td>19/02/10</td>\n",
       "      <td>Thangamayil</td>\n",
       "      <td>0.00</td>\n",
       "      <td>0.52</td>\n",
       "      <td>1.52</td>\n",
       "      <td>2.26</td>\n",
       "      <td>1.12</td>\n",
       "      <td>75</td>\n",
       "      <td>-5.20</td>\n",
       "    </tr>\n",
       "  </tbody>\n",
       "</table>\n",
       "</div>"
      ],
      "text/plain": [
       "      Date           IPOName  Issue_Size  Subscription_QIB  Subscription_HNI  \\\n",
       "0  03/02/10    Infinite Comp      189.80             48.44            106.02   \n",
       "1  08/02/10    Jubilant Food      328.70             59.39             51.95   \n",
       "2  15/02/10    Syncom Health       56.25              0.99             16.60   \n",
       "3  15/02/10  Vascon Engineer      199.80              1.12              3.65   \n",
       "4  19/02/10      Thangamayil        0.00              0.52              1.52   \n",
       "\n",
       "   Subscription_RII  Subscription_Total  Issue_Price  Listing_Gains_Percent  \n",
       "0             11.08               43.22          165                  11.82  \n",
       "1              3.79               31.11          145                 -84.21  \n",
       "2              6.25                5.17           75                  17.13  \n",
       "3              0.62                1.22          165                 -11.28  \n",
       "4              2.26                1.12           75                  -5.20  "
      ]
     },
     "execution_count": 1,
     "metadata": {},
     "output_type": "execute_result"
    }
   ],
   "source": [
    "import pandas as pd\n",
    "data = pd.read_csv('Indian_IPO_Market_Data.csv')\n",
    "print(data.shape)\n",
    "data.head(5)"
   ]
  },
  {
   "cell_type": "markdown",
   "id": "8d4e7f2c-4239-49a7-bd97-c29807d01c5f",
   "metadata": {},
   "source": [
    "Our table contains 319 rows and 9 columns. The columns are the following:\n",
    "\n",
    "| Column name | Description |\n",
    "|-------------|-------------|\n",
    "|Date | date when the IPO was listed |\n",
    "|IPOName| name of the IPO |\n",
    "|Issue_Size| size of the IPO issue, in INR Crores |\n",
    "|Subscription_QIB| number of times the IPO was subscribed by the QIB (Qualified Institutional Buyer) investor category |\n",
    "|Subscription_HNI| number of times the IPO was subscribed by the HNI (High Networth Individual) investor category|\n",
    "|Subscription_RII| number of times the IPO was subscribed by the RII (Retail Individual Investors) investor category |\n",
    "|Subscription_Total| total number of times the IPO was subscribed overall|\n",
    "|Issue_Price| the price in INR at which the IPO was issued|\n",
    "|Listing_Gains_Percent | the percentage gain in the listing price over the issue price |"
   ]
  },
  {
   "cell_type": "code",
   "execution_count": 2,
   "id": "657a218d-6150-4927-bf5e-70421e917a03",
   "metadata": {},
   "outputs": [
    {
     "data": {
      "text/html": [
       "<div>\n",
       "<style scoped>\n",
       "    .dataframe tbody tr th:only-of-type {\n",
       "        vertical-align: middle;\n",
       "    }\n",
       "\n",
       "    .dataframe tbody tr th {\n",
       "        vertical-align: top;\n",
       "    }\n",
       "\n",
       "    .dataframe thead th {\n",
       "        text-align: right;\n",
       "    }\n",
       "</style>\n",
       "<table border=\"1\" class=\"dataframe\">\n",
       "  <thead>\n",
       "    <tr style=\"text-align: right;\">\n",
       "      <th></th>\n",
       "      <th>Date</th>\n",
       "      <th>IPOName</th>\n",
       "      <th>Issue_Size</th>\n",
       "      <th>Subscription_QIB</th>\n",
       "      <th>Subscription_HNI</th>\n",
       "      <th>Subscription_RII</th>\n",
       "      <th>Subscription_Total</th>\n",
       "      <th>Issue_Price</th>\n",
       "      <th>Listing_Gains_Percent</th>\n",
       "    </tr>\n",
       "  </thead>\n",
       "  <tbody>\n",
       "    <tr>\n",
       "      <th>count</th>\n",
       "      <td>319</td>\n",
       "      <td>319</td>\n",
       "      <td>319.000000</td>\n",
       "      <td>319.000000</td>\n",
       "      <td>319.000000</td>\n",
       "      <td>319.000000</td>\n",
       "      <td>319.000000</td>\n",
       "      <td>319.000000</td>\n",
       "      <td>319.000000</td>\n",
       "    </tr>\n",
       "    <tr>\n",
       "      <th>unique</th>\n",
       "      <td>287</td>\n",
       "      <td>319</td>\n",
       "      <td>NaN</td>\n",
       "      <td>NaN</td>\n",
       "      <td>NaN</td>\n",
       "      <td>NaN</td>\n",
       "      <td>NaN</td>\n",
       "      <td>NaN</td>\n",
       "      <td>NaN</td>\n",
       "    </tr>\n",
       "    <tr>\n",
       "      <th>top</th>\n",
       "      <td>16/08/21</td>\n",
       "      <td>Infinite Comp</td>\n",
       "      <td>NaN</td>\n",
       "      <td>NaN</td>\n",
       "      <td>NaN</td>\n",
       "      <td>NaN</td>\n",
       "      <td>NaN</td>\n",
       "      <td>NaN</td>\n",
       "      <td>NaN</td>\n",
       "    </tr>\n",
       "    <tr>\n",
       "      <th>freq</th>\n",
       "      <td>4</td>\n",
       "      <td>1</td>\n",
       "      <td>NaN</td>\n",
       "      <td>NaN</td>\n",
       "      <td>NaN</td>\n",
       "      <td>NaN</td>\n",
       "      <td>NaN</td>\n",
       "      <td>NaN</td>\n",
       "      <td>NaN</td>\n",
       "    </tr>\n",
       "    <tr>\n",
       "      <th>mean</th>\n",
       "      <td>NaN</td>\n",
       "      <td>NaN</td>\n",
       "      <td>1192.859969</td>\n",
       "      <td>25.684138</td>\n",
       "      <td>70.091379</td>\n",
       "      <td>8.561599</td>\n",
       "      <td>27.447147</td>\n",
       "      <td>375.128527</td>\n",
       "      <td>4.742696</td>\n",
       "    </tr>\n",
       "    <tr>\n",
       "      <th>std</th>\n",
       "      <td>NaN</td>\n",
       "      <td>NaN</td>\n",
       "      <td>2384.643786</td>\n",
       "      <td>40.716782</td>\n",
       "      <td>142.454416</td>\n",
       "      <td>14.508670</td>\n",
       "      <td>48.772203</td>\n",
       "      <td>353.897614</td>\n",
       "      <td>47.650946</td>\n",
       "    </tr>\n",
       "    <tr>\n",
       "      <th>min</th>\n",
       "      <td>NaN</td>\n",
       "      <td>NaN</td>\n",
       "      <td>0.000000</td>\n",
       "      <td>0.000000</td>\n",
       "      <td>0.000000</td>\n",
       "      <td>0.000000</td>\n",
       "      <td>0.000000</td>\n",
       "      <td>0.000000</td>\n",
       "      <td>-97.150000</td>\n",
       "    </tr>\n",
       "    <tr>\n",
       "      <th>25%</th>\n",
       "      <td>NaN</td>\n",
       "      <td>NaN</td>\n",
       "      <td>169.005000</td>\n",
       "      <td>1.150000</td>\n",
       "      <td>1.255000</td>\n",
       "      <td>1.275000</td>\n",
       "      <td>1.645000</td>\n",
       "      <td>119.000000</td>\n",
       "      <td>-11.555000</td>\n",
       "    </tr>\n",
       "    <tr>\n",
       "      <th>50%</th>\n",
       "      <td>NaN</td>\n",
       "      <td>NaN</td>\n",
       "      <td>496.250000</td>\n",
       "      <td>4.940000</td>\n",
       "      <td>5.070000</td>\n",
       "      <td>3.420000</td>\n",
       "      <td>4.930000</td>\n",
       "      <td>250.000000</td>\n",
       "      <td>1.810000</td>\n",
       "    </tr>\n",
       "    <tr>\n",
       "      <th>75%</th>\n",
       "      <td>NaN</td>\n",
       "      <td>NaN</td>\n",
       "      <td>1100.000000</td>\n",
       "      <td>34.635000</td>\n",
       "      <td>62.095000</td>\n",
       "      <td>8.605000</td>\n",
       "      <td>33.395000</td>\n",
       "      <td>536.000000</td>\n",
       "      <td>25.310000</td>\n",
       "    </tr>\n",
       "    <tr>\n",
       "      <th>max</th>\n",
       "      <td>NaN</td>\n",
       "      <td>NaN</td>\n",
       "      <td>21000.000000</td>\n",
       "      <td>215.450000</td>\n",
       "      <td>958.070000</td>\n",
       "      <td>119.440000</td>\n",
       "      <td>326.490000</td>\n",
       "      <td>2150.000000</td>\n",
       "      <td>270.400000</td>\n",
       "    </tr>\n",
       "  </tbody>\n",
       "</table>\n",
       "</div>"
      ],
      "text/plain": [
       "           Date         IPOName    Issue_Size  Subscription_QIB  \\\n",
       "count        319            319    319.000000        319.000000   \n",
       "unique       287            319           NaN               NaN   \n",
       "top     16/08/21  Infinite Comp           NaN               NaN   \n",
       "freq           4              1           NaN               NaN   \n",
       "mean         NaN            NaN   1192.859969         25.684138   \n",
       "std          NaN            NaN   2384.643786         40.716782   \n",
       "min          NaN            NaN      0.000000          0.000000   \n",
       "25%          NaN            NaN    169.005000          1.150000   \n",
       "50%          NaN            NaN    496.250000          4.940000   \n",
       "75%          NaN            NaN   1100.000000         34.635000   \n",
       "max          NaN            NaN  21000.000000        215.450000   \n",
       "\n",
       "        Subscription_HNI  Subscription_RII  Subscription_Total  Issue_Price  \\\n",
       "count         319.000000        319.000000          319.000000   319.000000   \n",
       "unique               NaN               NaN                 NaN          NaN   \n",
       "top                  NaN               NaN                 NaN          NaN   \n",
       "freq                 NaN               NaN                 NaN          NaN   \n",
       "mean           70.091379          8.561599           27.447147   375.128527   \n",
       "std           142.454416         14.508670           48.772203   353.897614   \n",
       "min             0.000000          0.000000            0.000000     0.000000   \n",
       "25%             1.255000          1.275000            1.645000   119.000000   \n",
       "50%             5.070000          3.420000            4.930000   250.000000   \n",
       "75%            62.095000          8.605000           33.395000   536.000000   \n",
       "max           958.070000        119.440000          326.490000  2150.000000   \n",
       "\n",
       "        Listing_Gains_Percent  \n",
       "count              319.000000  \n",
       "unique                    NaN  \n",
       "top                       NaN  \n",
       "freq                      NaN  \n",
       "mean                 4.742696  \n",
       "std                 47.650946  \n",
       "min                -97.150000  \n",
       "25%                -11.555000  \n",
       "50%                  1.810000  \n",
       "75%                 25.310000  \n",
       "max                270.400000  "
      ]
     },
     "execution_count": 2,
     "metadata": {},
     "output_type": "execute_result"
    }
   ],
   "source": [
    "data.describe(include='all')"
   ]
  },
  {
   "cell_type": "code",
   "execution_count": 3,
   "id": "5c5f1117-56f6-41e8-9387-cea890bb2560",
   "metadata": {},
   "outputs": [
    {
     "data": {
      "text/plain": [
       "Date                      object\n",
       "IPOName                   object\n",
       "Issue_Size               float64\n",
       "Subscription_QIB         float64\n",
       "Subscription_HNI         float64\n",
       "Subscription_RII         float64\n",
       "Subscription_Total       float64\n",
       "Issue_Price                int64\n",
       "Listing_Gains_Percent    float64\n",
       "dtype: object"
      ]
     },
     "execution_count": 3,
     "metadata": {},
     "output_type": "execute_result"
    }
   ],
   "source": [
    "data.dtypes"
   ]
  },
  {
   "cell_type": "markdown",
   "id": "c43f6b5c-2035-49ad-8d34-9d8d451fd0d1",
   "metadata": {},
   "source": [
    "## Exploring the Data"
   ]
  },
  {
   "cell_type": "markdown",
   "id": "1573e436-de4e-4125-a91c-e30f222ff483",
   "metadata": {},
   "source": [
    "From the summary table we can see that `Listing_Gains_Percent` contains negative and positive values. We will create a new categorical target variable `Listing_Gains_Profit` with values 1 (positive) and 0 (negative)."
   ]
  },
  {
   "cell_type": "code",
   "execution_count": 4,
   "id": "247615e9-6d89-4a37-a151-826a7283d563",
   "metadata": {},
   "outputs": [
    {
     "data": {
      "text/html": [
       "<div>\n",
       "<style scoped>\n",
       "    .dataframe tbody tr th:only-of-type {\n",
       "        vertical-align: middle;\n",
       "    }\n",
       "\n",
       "    .dataframe tbody tr th {\n",
       "        vertical-align: top;\n",
       "    }\n",
       "\n",
       "    .dataframe thead th {\n",
       "        text-align: right;\n",
       "    }\n",
       "</style>\n",
       "<table border=\"1\" class=\"dataframe\">\n",
       "  <thead>\n",
       "    <tr style=\"text-align: right;\">\n",
       "      <th></th>\n",
       "      <th>Date</th>\n",
       "      <th>IPOName</th>\n",
       "      <th>Issue_Size</th>\n",
       "      <th>Subscription_QIB</th>\n",
       "      <th>Subscription_HNI</th>\n",
       "      <th>Subscription_RII</th>\n",
       "      <th>Subscription_Total</th>\n",
       "      <th>Issue_Price</th>\n",
       "      <th>Listing_Gains_Percent</th>\n",
       "      <th>Listing_Gains_Profit</th>\n",
       "    </tr>\n",
       "  </thead>\n",
       "  <tbody>\n",
       "    <tr>\n",
       "      <th>0</th>\n",
       "      <td>03/02/10</td>\n",
       "      <td>Infinite Comp</td>\n",
       "      <td>189.80</td>\n",
       "      <td>48.44</td>\n",
       "      <td>106.02</td>\n",
       "      <td>11.08</td>\n",
       "      <td>43.22</td>\n",
       "      <td>165</td>\n",
       "      <td>11.82</td>\n",
       "      <td>1</td>\n",
       "    </tr>\n",
       "    <tr>\n",
       "      <th>1</th>\n",
       "      <td>08/02/10</td>\n",
       "      <td>Jubilant Food</td>\n",
       "      <td>328.70</td>\n",
       "      <td>59.39</td>\n",
       "      <td>51.95</td>\n",
       "      <td>3.79</td>\n",
       "      <td>31.11</td>\n",
       "      <td>145</td>\n",
       "      <td>-84.21</td>\n",
       "      <td>0</td>\n",
       "    </tr>\n",
       "    <tr>\n",
       "      <th>2</th>\n",
       "      <td>15/02/10</td>\n",
       "      <td>Syncom Health</td>\n",
       "      <td>56.25</td>\n",
       "      <td>0.99</td>\n",
       "      <td>16.60</td>\n",
       "      <td>6.25</td>\n",
       "      <td>5.17</td>\n",
       "      <td>75</td>\n",
       "      <td>17.13</td>\n",
       "      <td>1</td>\n",
       "    </tr>\n",
       "    <tr>\n",
       "      <th>3</th>\n",
       "      <td>15/02/10</td>\n",
       "      <td>Vascon Engineer</td>\n",
       "      <td>199.80</td>\n",
       "      <td>1.12</td>\n",
       "      <td>3.65</td>\n",
       "      <td>0.62</td>\n",
       "      <td>1.22</td>\n",
       "      <td>165</td>\n",
       "      <td>-11.28</td>\n",
       "      <td>0</td>\n",
       "    </tr>\n",
       "    <tr>\n",
       "      <th>4</th>\n",
       "      <td>19/02/10</td>\n",
       "      <td>Thangamayil</td>\n",
       "      <td>0.00</td>\n",
       "      <td>0.52</td>\n",
       "      <td>1.52</td>\n",
       "      <td>2.26</td>\n",
       "      <td>1.12</td>\n",
       "      <td>75</td>\n",
       "      <td>-5.20</td>\n",
       "      <td>0</td>\n",
       "    </tr>\n",
       "  </tbody>\n",
       "</table>\n",
       "</div>"
      ],
      "text/plain": [
       "      Date           IPOName  Issue_Size  Subscription_QIB  Subscription_HNI  \\\n",
       "0  03/02/10    Infinite Comp      189.80             48.44            106.02   \n",
       "1  08/02/10    Jubilant Food      328.70             59.39             51.95   \n",
       "2  15/02/10    Syncom Health       56.25              0.99             16.60   \n",
       "3  15/02/10  Vascon Engineer      199.80              1.12              3.65   \n",
       "4  19/02/10      Thangamayil        0.00              0.52              1.52   \n",
       "\n",
       "   Subscription_RII  Subscription_Total  Issue_Price  Listing_Gains_Percent  \\\n",
       "0             11.08               43.22          165                  11.82   \n",
       "1              3.79               31.11          145                 -84.21   \n",
       "2              6.25                5.17           75                  17.13   \n",
       "3              0.62                1.22          165                 -11.28   \n",
       "4              2.26                1.12           75                  -5.20   \n",
       "\n",
       "   Listing_Gains_Profit  \n",
       "0                     1  \n",
       "1                     0  \n",
       "2                     1  \n",
       "3                     0  \n",
       "4                     0  "
      ]
     },
     "execution_count": 4,
     "metadata": {},
     "output_type": "execute_result"
    }
   ],
   "source": [
    "data['Listing_Gains_Profit'] = data['Listing_Gains_Percent'].apply(lambda x: 1 if x >= 0 else 0)\n",
    "data.head(5)"
   ]
  },
  {
   "cell_type": "code",
   "execution_count": 5,
   "id": "db09e77f-bc27-4c00-afd1-ed73b333eb47",
   "metadata": {},
   "outputs": [
    {
     "data": {
      "text/plain": [
       "Listing_Gains_Profit\n",
       "1    0.551724\n",
       "0    0.448276\n",
       "Name: proportion, dtype: float64"
      ]
     },
     "execution_count": 5,
     "metadata": {},
     "output_type": "execute_result"
    }
   ],
   "source": [
    "data['Listing_Gains_Profit'].value_counts(normalize=True)"
   ]
  },
  {
   "cell_type": "markdown",
   "id": "69b35921-7cf3-41fc-8cef-f9daf04a71da",
   "metadata": {},
   "source": [
    "From above we can see that 55% of the listings are profitable and 45% are not."
   ]
  },
  {
   "cell_type": "markdown",
   "id": "eee99563-3ac1-4d93-add8-ee8fe6d49f1d",
   "metadata": {},
   "source": [
    "### Null values"
   ]
  },
  {
   "cell_type": "code",
   "execution_count": 6,
   "id": "8a04dd0e-544d-47f7-8632-d39dd636a1a5",
   "metadata": {},
   "outputs": [
    {
     "data": {
      "text/plain": [
       "Date                     0\n",
       "IPOName                  0\n",
       "Issue_Size               0\n",
       "Subscription_QIB         0\n",
       "Subscription_HNI         0\n",
       "Subscription_RII         0\n",
       "Subscription_Total       0\n",
       "Issue_Price              0\n",
       "Listing_Gains_Percent    0\n",
       "Listing_Gains_Profit     0\n",
       "dtype: int64"
      ]
     },
     "execution_count": 6,
     "metadata": {},
     "output_type": "execute_result"
    }
   ],
   "source": [
    "data.isnull().sum()"
   ]
  },
  {
   "cell_type": "markdown",
   "id": "3b2c1e93-1b09-4170-992e-75a7d0f64b59",
   "metadata": {},
   "source": [
    "There are no null values in our data."
   ]
  },
  {
   "cell_type": "markdown",
   "id": "4e45c6d6-a671-4ad0-aec2-ddae9c5a3239",
   "metadata": {},
   "source": [
    "### Dropping Useless Columns"
   ]
  },
  {
   "cell_type": "markdown",
   "id": "65961dfd-6dcf-426b-afd0-95f5b4a28599",
   "metadata": {},
   "source": [
    "Now I will drop all the columns we won't be using for our model. These are `Date`, `IPOName` and `Listing_Gains_Percent`. We can't use `Listing_Gains_Percent` in our model, because it would obviously know the correct answer if it sees this data."
   ]
  },
  {
   "cell_type": "code",
   "execution_count": 7,
   "id": "c8a1402d-c196-42e4-ab35-e184e2858819",
   "metadata": {},
   "outputs": [
    {
     "data": {
      "text/html": [
       "<div>\n",
       "<style scoped>\n",
       "    .dataframe tbody tr th:only-of-type {\n",
       "        vertical-align: middle;\n",
       "    }\n",
       "\n",
       "    .dataframe tbody tr th {\n",
       "        vertical-align: top;\n",
       "    }\n",
       "\n",
       "    .dataframe thead th {\n",
       "        text-align: right;\n",
       "    }\n",
       "</style>\n",
       "<table border=\"1\" class=\"dataframe\">\n",
       "  <thead>\n",
       "    <tr style=\"text-align: right;\">\n",
       "      <th></th>\n",
       "      <th>Issue_Size</th>\n",
       "      <th>Subscription_QIB</th>\n",
       "      <th>Subscription_HNI</th>\n",
       "      <th>Subscription_RII</th>\n",
       "      <th>Subscription_Total</th>\n",
       "      <th>Issue_Price</th>\n",
       "      <th>Listing_Gains_Profit</th>\n",
       "    </tr>\n",
       "  </thead>\n",
       "  <tbody>\n",
       "    <tr>\n",
       "      <th>0</th>\n",
       "      <td>189.80</td>\n",
       "      <td>48.44</td>\n",
       "      <td>106.02</td>\n",
       "      <td>11.08</td>\n",
       "      <td>43.22</td>\n",
       "      <td>165</td>\n",
       "      <td>1</td>\n",
       "    </tr>\n",
       "    <tr>\n",
       "      <th>1</th>\n",
       "      <td>328.70</td>\n",
       "      <td>59.39</td>\n",
       "      <td>51.95</td>\n",
       "      <td>3.79</td>\n",
       "      <td>31.11</td>\n",
       "      <td>145</td>\n",
       "      <td>0</td>\n",
       "    </tr>\n",
       "    <tr>\n",
       "      <th>2</th>\n",
       "      <td>56.25</td>\n",
       "      <td>0.99</td>\n",
       "      <td>16.60</td>\n",
       "      <td>6.25</td>\n",
       "      <td>5.17</td>\n",
       "      <td>75</td>\n",
       "      <td>1</td>\n",
       "    </tr>\n",
       "    <tr>\n",
       "      <th>3</th>\n",
       "      <td>199.80</td>\n",
       "      <td>1.12</td>\n",
       "      <td>3.65</td>\n",
       "      <td>0.62</td>\n",
       "      <td>1.22</td>\n",
       "      <td>165</td>\n",
       "      <td>0</td>\n",
       "    </tr>\n",
       "    <tr>\n",
       "      <th>4</th>\n",
       "      <td>0.00</td>\n",
       "      <td>0.52</td>\n",
       "      <td>1.52</td>\n",
       "      <td>2.26</td>\n",
       "      <td>1.12</td>\n",
       "      <td>75</td>\n",
       "      <td>0</td>\n",
       "    </tr>\n",
       "  </tbody>\n",
       "</table>\n",
       "</div>"
      ],
      "text/plain": [
       "   Issue_Size  Subscription_QIB  Subscription_HNI  Subscription_RII  \\\n",
       "0      189.80             48.44            106.02             11.08   \n",
       "1      328.70             59.39             51.95              3.79   \n",
       "2       56.25              0.99             16.60              6.25   \n",
       "3      199.80              1.12              3.65              0.62   \n",
       "4        0.00              0.52              1.52              2.26   \n",
       "\n",
       "   Subscription_Total  Issue_Price  Listing_Gains_Profit  \n",
       "0               43.22          165                     1  \n",
       "1               31.11          145                     0  \n",
       "2                5.17           75                     1  \n",
       "3                1.22          165                     0  \n",
       "4                1.12           75                     0  "
      ]
     },
     "execution_count": 7,
     "metadata": {},
     "output_type": "execute_result"
    }
   ],
   "source": [
    "data = data.drop(columns = ['Date ', 'IPOName', 'Listing_Gains_Percent'], axis=1)\n",
    "data.head(5)"
   ]
  },
  {
   "cell_type": "markdown",
   "id": "dde9cb26-af9e-45cf-9abb-55069782609c",
   "metadata": {},
   "source": [
    "## Data Visualization"
   ]
  },
  {
   "cell_type": "markdown",
   "id": "bd497be4-fd07-455d-bde6-85fa0aa4f5ee",
   "metadata": {},
   "source": [
    "Next I will make some plots for a clearer picture of our variables."
   ]
  },
  {
   "cell_type": "markdown",
   "id": "e414c3fe-6cdc-4952-abf9-bcc4c03a0e56",
   "metadata": {},
   "source": [
    "### Listing Gains Profit"
   ]
  },
  {
   "cell_type": "code",
   "execution_count": 8,
   "id": "3d788a98-c270-41a2-b138-7f497feb319a",
   "metadata": {},
   "outputs": [
    {
     "data": {
      "image/png": "[encoded data removed]",
      "text/plain": [
       "<Figure size 640x480 with 1 Axes>"
      ]
     },
     "metadata": {},
     "output_type": "display_data"
    }
   ],
   "source": [
    "import seaborn as sns\n",
    "import matplotlib.pyplot as plt\n",
    "\n",
    "sns.countplot(data=data, x='Listing_Gains_Profit', hue='Listing_Gains_Profit', palette=['red', 'green'], legend=False)\n",
    "plt.title('Distribution of Listing Gains Profit')\n",
    "plt.xlabel('Listing Gains Profit (1=Yes, 0=No)')\n",
    "plt.show()"
   ]
  },
  {
   "cell_type": "markdown",
   "id": "9fff0d50-c569-4205-9e91-017b25765de5",
   "metadata": {},
   "source": [
    "Above we have the count of `Listing Gains Profit`. We can see that there are less negative values (red bar) than positive values (green bar)."
   ]
  },
  {
   "cell_type": "markdown",
   "id": "7f831d07-12d9-4877-bf8d-8afac6e6525d",
   "metadata": {},
   "source": [
    "### Outliers"
   ]
  },
  {
   "cell_type": "code",
   "execution_count": 9,
   "id": "cb04a9da-4394-4ca0-a923-919841f8f2a8",
   "metadata": {},
   "outputs": [
    {
     "data": {
      "image/png": "[encoded data removed]",
      "text/plain": [
       "<Figure size 1000x600 with 1 Axes>"
      ]
     },
     "metadata": {},
     "output_type": "display_data"
    }
   ],
   "source": [
    "plt.figure(figsize=(10,6))\n",
    "sns.boxplot(data=data)\n",
    "plt.xticks(rotation=45)\n",
    "plt.show()"
   ]
  },
  {
   "cell_type": "markdown",
   "id": "0fe32c74-2cca-4c51-a5bd-fbc518591a96",
   "metadata": {},
   "source": [
    "There are a lot of outliers in `Issue_Size`, `Subscription_HNI` and `Issue_Price`. There are some outliers in other columns too, which we can't see clearly yet. These outliers might affect the accuracy of our model, so we might have to deal with them later."
   ]
  },
  {
   "cell_type": "markdown",
   "id": "c6e6be5f-77e1-43e1-91d5-5160521be798",
   "metadata": {},
   "source": [
    "### Correlations"
   ]
  },
  {
   "cell_type": "code",
   "execution_count": 10,
   "id": "668ee3e7-a094-47ce-8a3a-94f566854228",
   "metadata": {},
   "outputs": [
    {
     "data": {
      "image/png": "[encoded data removed]",
      "text/plain": [
       "<Figure size 640x480 with 2 Axes>"
      ]
     },
     "metadata": {},
     "output_type": "display_data"
    }
   ],
   "source": [
    "correlations = data.corr()\n",
    "sns.heatmap(correlations, annot=True, cmap='Blues')\n",
    "plt.show()"
   ]
  },
  {
   "cell_type": "markdown",
   "id": "c548d3c8-f186-4626-9e96-6f800bd96606",
   "metadata": {},
   "source": [
    "Our target variable `Listing_Gains_Profit` doesn't correlate much with other variables. However one good thing about this heatmap is that it shows that `Issue_Size` and `Issue_Price` have close to 0 correlation with `Listing_Gains_Profit`. Those two columns also had a lot of outliers, so this suggests that removing them from our variables might be a good idea. But first we will try a different method: let's change the upper outliers to upper quartile and lower outliers to lower quartile."
   ]
  },
  {
   "cell_type": "markdown",
   "id": "58eb484f-4a38-43aa-a707-9b96a9e08b7f",
   "metadata": {},
   "source": [
    "### Getting Rid of Outliers"
   ]
  },
  {
   "cell_type": "code",
   "execution_count": 11,
   "id": "2292f11e-23db-439e-9e84-6ee803c2c6d3",
   "metadata": {},
   "outputs": [
    {
     "data": {
      "text/plain": [
       "count      319.000000\n",
       "mean      1192.859969\n",
       "std       2384.643786\n",
       "min          0.000000\n",
       "25%        169.005000\n",
       "50%        496.250000\n",
       "75%       1100.000000\n",
       "max      21000.000000\n",
       "Name: Issue_Size, dtype: float64"
      ]
     },
     "execution_count": 11,
     "metadata": {},
     "output_type": "execute_result"
    }
   ],
   "source": [
    "data['Issue_Size'].describe()"
   ]
  },
  {
   "cell_type": "code",
   "execution_count": 12,
   "id": "45b0ca84-0aa3-4cbc-839e-763bd64f4e82",
   "metadata": {},
   "outputs": [
    {
     "data": {
      "text/plain": [
       "count     319.00000\n",
       "mean      578.64210\n",
       "std       373.08157\n",
       "min       169.00000\n",
       "25%       169.50000\n",
       "50%       496.25000\n",
       "75%      1100.00000\n",
       "max      1100.00000\n",
       "Name: Issue_Size, dtype: float64"
      ]
     },
     "execution_count": 12,
     "metadata": {},
     "output_type": "execute_result"
    }
   ],
   "source": [
    "import numpy as np\n",
    "size_lower = 169\n",
    "size_upper = 1100\n",
    "#np.where: condition, x, y -- where true yield x otherwise yield y\n",
    "data['Issue_Size'] = np.where(data['Issue_Size'] < 169, size_lower, data['Issue_Size'])\n",
    "data['Issue_Size'] = np.where(data['Issue_Size'] > 1100, size_upper, data['Issue_Size'])\n",
    "data['Issue_Size'].describe()"
   ]
  },
  {
   "cell_type": "code",
   "execution_count": 13,
   "id": "d9837d37-8189-463d-bf23-7c10bb0093f8",
   "metadata": {},
   "outputs": [
    {
     "data": {
      "text/plain": [
       "count     319.000000\n",
       "mean      375.128527\n",
       "std       353.897614\n",
       "min         0.000000\n",
       "25%       119.000000\n",
       "50%       250.000000\n",
       "75%       536.000000\n",
       "max      2150.000000\n",
       "Name: Issue_Price, dtype: float64"
      ]
     },
     "execution_count": 13,
     "metadata": {},
     "output_type": "execute_result"
    }
   ],
   "source": [
    "data['Issue_Price'].describe()"
   ]
  },
  {
   "cell_type": "markdown",
   "id": "5cbce80b-ff99-4b81-bd2a-cfb21727480d",
   "metadata": {},
   "source": [
    "Now I will do the same for all columns."
   ]
  },
  {
   "cell_type": "code",
   "execution_count": 14,
   "id": "8ea2a33a-137d-43d6-9665-53b2e342846b",
   "metadata": {},
   "outputs": [],
   "source": [
    "price_lower = 119\n",
    "price_upper = 536\n",
    "#np.where: condition, x, y -- where true yield x otherwise yield y\n",
    "data['Issue_Price'] = np.where(data['Issue_Price'] < 169, price_lower, data['Issue_Price'])\n",
    "data['Issue_Price'] = np.where(data['Issue_Price'] > 1100, price_upper, data['Issue_Price'])"
   ]
  },
  {
   "cell_type": "code",
   "execution_count": 15,
   "id": "d4da74ef-5adb-4b61-b10e-1ea42f41afa7",
   "metadata": {},
   "outputs": [
    {
     "data": {
      "text/plain": [
       "count    319.000000\n",
       "mean      70.091379\n",
       "std      142.454416\n",
       "min        0.000000\n",
       "25%        1.255000\n",
       "50%        5.070000\n",
       "75%       62.095000\n",
       "max      958.070000\n",
       "Name: Subscription_HNI, dtype: float64"
      ]
     },
     "execution_count": 15,
     "metadata": {},
     "output_type": "execute_result"
    }
   ],
   "source": [
    "data['Subscription_HNI'].describe()"
   ]
  },
  {
   "cell_type": "code",
   "execution_count": 16,
   "id": "f2b2c081-d126-4ad6-9c31-25e9b178f700",
   "metadata": {},
   "outputs": [],
   "source": [
    "HNI_lower = 1.255\n",
    "HNI_upper = 62.1\n",
    "#np.where: condition, x, y -- where true yield x otherwise yield y\n",
    "data['Subscription_HNI'] = np.where(data['Subscription_HNI'] < 1.255, HNI_lower, data['Subscription_HNI'])\n",
    "data['Subscription_HNI'] = np.where(data['Subscription_HNI'] > 62.1, HNI_upper, data['Subscription_HNI'])"
   ]
  },
  {
   "cell_type": "code",
   "execution_count": 17,
   "id": "ff41bb29-7d2c-4f07-87a6-32ef9d634281",
   "metadata": {},
   "outputs": [
    {
     "data": {
      "text/plain": [
       "count    319.000000\n",
       "mean      25.684138\n",
       "std       40.716782\n",
       "min        0.000000\n",
       "25%        1.150000\n",
       "50%        4.940000\n",
       "75%       34.635000\n",
       "max      215.450000\n",
       "Name: Subscription_QIB, dtype: float64"
      ]
     },
     "execution_count": 17,
     "metadata": {},
     "output_type": "execute_result"
    }
   ],
   "source": [
    "data['Subscription_QIB'].describe()"
   ]
  },
  {
   "cell_type": "code",
   "execution_count": 18,
   "id": "14e5dc7d-33e5-4ae8-860a-b2f65a92c8f9",
   "metadata": {},
   "outputs": [],
   "source": [
    "QIB_lower = 1.15\n",
    "QIB_upper = 34.635\n",
    "#np.where: condition, x, y -- where true yield x otherwise yield y\n",
    "data['Subscription_QIB'] = np.where(data['Subscription_QIB'] < 1.15, QIB_lower, data['Subscription_QIB'])\n",
    "data['Subscription_QIB'] = np.where(data['Subscription_QIB'] > 34.635, QIB_upper, data['Subscription_QIB'])"
   ]
  },
  {
   "cell_type": "code",
   "execution_count": 19,
   "id": "4a0aa8bc-45ab-410c-a4ab-9ad786c7afa2",
   "metadata": {},
   "outputs": [
    {
     "data": {
      "text/plain": [
       "count    319.000000\n",
       "mean       8.561599\n",
       "std       14.508670\n",
       "min        0.000000\n",
       "25%        1.275000\n",
       "50%        3.420000\n",
       "75%        8.605000\n",
       "max      119.440000\n",
       "Name: Subscription_RII, dtype: float64"
      ]
     },
     "execution_count": 19,
     "metadata": {},
     "output_type": "execute_result"
    }
   ],
   "source": [
    "data['Subscription_RII'].describe()"
   ]
  },
  {
   "cell_type": "code",
   "execution_count": 20,
   "id": "041f567e-c98b-4ec6-b037-1690492960ba",
   "metadata": {},
   "outputs": [],
   "source": [
    "RII_lower = 1.275\n",
    "RII_upper = 8.605\n",
    "#np.where: condition, x, y -- where true yield x otherwise yield y\n",
    "data['Subscription_RII'] = np.where(data['Subscription_RII'] < 1.15, RII_lower, data['Subscription_RII'])\n",
    "data['Subscription_RII'] = np.where(data['Subscription_RII'] > 8.605, RII_upper, data['Subscription_RII'])"
   ]
  },
  {
   "cell_type": "code",
   "execution_count": 21,
   "id": "1c612fe6-0363-40f0-88e1-c8dd9232cae7",
   "metadata": {},
   "outputs": [
    {
     "data": {
      "text/plain": [
       "count    319.000000\n",
       "mean      27.447147\n",
       "std       48.772203\n",
       "min        0.000000\n",
       "25%        1.645000\n",
       "50%        4.930000\n",
       "75%       33.395000\n",
       "max      326.490000\n",
       "Name: Subscription_Total, dtype: float64"
      ]
     },
     "execution_count": 21,
     "metadata": {},
     "output_type": "execute_result"
    }
   ],
   "source": [
    "data['Subscription_Total'].describe()"
   ]
  },
  {
   "cell_type": "code",
   "execution_count": 22,
   "id": "157cf9db-d3e4-4278-bfbf-48978142a01f",
   "metadata": {},
   "outputs": [],
   "source": [
    "total_lower = 1.645\n",
    "total_upper = 33.395\n",
    "#np.where: condition, x, y -- where true yield x otherwise yield y\n",
    "data['Subscription_Total'] = np.where(data['Subscription_Total'] < 1.645, total_lower, data['Subscription_Total'])\n",
    "data['Subscription_Total'] = np.where(data['Subscription_Total'] > 33.395, total_upper, data['Subscription_Total'])"
   ]
  },
  {
   "cell_type": "code",
   "execution_count": 23,
   "id": "42c8a5a2-f357-465e-9899-4b0dc1e8997f",
   "metadata": {},
   "outputs": [
    {
     "data": {
      "image/png": "[encoded data removed]",
      "text/plain": [
       "<Figure size 1000x600 with 1 Axes>"
      ]
     },
     "metadata": {},
     "output_type": "display_data"
    }
   ],
   "source": [
    "plt.figure(figsize=(10,6))\n",
    "sns.boxplot(data=data)\n",
    "plt.xticks(rotation=45)\n",
    "plt.show()"
   ]
  },
  {
   "cell_type": "markdown",
   "id": "d7a5f663-851f-48a5-9393-af58ffbd1a26",
   "metadata": {},
   "source": [
    "Now we got rid of the outliers by changing all the high value outliers to upper quartile and low value outliers to lower quartile. We should now get a more stable model, because the outliers would have affected the model a lot."
   ]
  },
  {
   "cell_type": "markdown",
   "id": "65343224-dc68-421b-8c2e-5ae7acc95a4f",
   "metadata": {},
   "source": [
    "## Setting the Target and Predictor Variables"
   ]
  },
  {
   "cell_type": "markdown",
   "id": "3039be83-fa8e-4e5b-8785-66d65a76ac68",
   "metadata": {},
   "source": [
    "Now we are done with cleaning our data. Next we are going to assign predictors and target variables and normalize the predictors to contain values 0 to 1. I will do this manually using the following formula:\n",
    "\n",
    "$$ \\text{Normalized variable} = \\frac{\\text{variable}}{\\text{max value of variable}} $$"
   ]
  },
  {
   "cell_type": "code",
   "execution_count": 24,
   "id": "0321a608-ca4f-411e-b857-13dec34cf5e4",
   "metadata": {},
   "outputs": [
    {
     "data": {
      "text/plain": [
       "Index(['Issue_Size', 'Subscription_QIB', 'Subscription_HNI',\n",
       "       'Subscription_RII', 'Subscription_Total', 'Issue_Price',\n",
       "       'Listing_Gains_Profit'],\n",
       "      dtype='object')"
      ]
     },
     "execution_count": 24,
     "metadata": {},
     "output_type": "execute_result"
    }
   ],
   "source": [
    "data.columns"
   ]
  },
  {
   "cell_type": "code",
   "execution_count": 25,
   "id": "249552be-d832-4a59-8cc4-342c96df1420",
   "metadata": {},
   "outputs": [
    {
     "data": {
      "text/html": [
       "<div>\n",
       "<style scoped>\n",
       "    .dataframe tbody tr th:only-of-type {\n",
       "        vertical-align: middle;\n",
       "    }\n",
       "\n",
       "    .dataframe tbody tr th {\n",
       "        vertical-align: top;\n",
       "    }\n",
       "\n",
       "    .dataframe thead th {\n",
       "        text-align: right;\n",
       "    }\n",
       "</style>\n",
       "<table border=\"1\" class=\"dataframe\">\n",
       "  <thead>\n",
       "    <tr style=\"text-align: right;\">\n",
       "      <th></th>\n",
       "      <th>Issue_Size</th>\n",
       "      <th>Subscription_QIB</th>\n",
       "      <th>Subscription_HNI</th>\n",
       "      <th>Subscription_RII</th>\n",
       "      <th>Subscription_Total</th>\n",
       "      <th>Issue_Price</th>\n",
       "    </tr>\n",
       "  </thead>\n",
       "  <tbody>\n",
       "    <tr>\n",
       "      <th>count</th>\n",
       "      <td>319.000000</td>\n",
       "      <td>319.000000</td>\n",
       "      <td>319.000000</td>\n",
       "      <td>319.000000</td>\n",
       "      <td>319.000000</td>\n",
       "      <td>319.000000</td>\n",
       "    </tr>\n",
       "    <tr>\n",
       "      <th>mean</th>\n",
       "      <td>0.526038</td>\n",
       "      <td>0.386219</td>\n",
       "      <td>0.362503</td>\n",
       "      <td>0.527331</td>\n",
       "      <td>0.391152</td>\n",
       "      <td>0.318730</td>\n",
       "    </tr>\n",
       "    <tr>\n",
       "      <th>std</th>\n",
       "      <td>0.339165</td>\n",
       "      <td>0.408934</td>\n",
       "      <td>0.419589</td>\n",
       "      <td>0.356107</td>\n",
       "      <td>0.402040</td>\n",
       "      <td>0.235395</td>\n",
       "    </tr>\n",
       "    <tr>\n",
       "      <th>min</th>\n",
       "      <td>0.153636</td>\n",
       "      <td>0.033203</td>\n",
       "      <td>0.020209</td>\n",
       "      <td>0.134805</td>\n",
       "      <td>0.049259</td>\n",
       "      <td>0.109880</td>\n",
       "    </tr>\n",
       "    <tr>\n",
       "      <th>25%</th>\n",
       "      <td>0.154091</td>\n",
       "      <td>0.033203</td>\n",
       "      <td>0.020572</td>\n",
       "      <td>0.150784</td>\n",
       "      <td>0.049334</td>\n",
       "      <td>0.109880</td>\n",
       "    </tr>\n",
       "    <tr>\n",
       "      <th>50%</th>\n",
       "      <td>0.451136</td>\n",
       "      <td>0.142630</td>\n",
       "      <td>0.081643</td>\n",
       "      <td>0.397443</td>\n",
       "      <td>0.147627</td>\n",
       "      <td>0.230840</td>\n",
       "    </tr>\n",
       "    <tr>\n",
       "      <th>75%</th>\n",
       "      <td>1.000000</td>\n",
       "      <td>0.988523</td>\n",
       "      <td>0.999678</td>\n",
       "      <td>0.996804</td>\n",
       "      <td>0.999775</td>\n",
       "      <td>0.492613</td>\n",
       "    </tr>\n",
       "    <tr>\n",
       "      <th>max</th>\n",
       "      <td>1.000000</td>\n",
       "      <td>1.000000</td>\n",
       "      <td>1.000000</td>\n",
       "      <td>1.000000</td>\n",
       "      <td>1.000000</td>\n",
       "      <td>1.000000</td>\n",
       "    </tr>\n",
       "  </tbody>\n",
       "</table>\n",
       "</div>"
      ],
      "text/plain": [
       "       Issue_Size  Subscription_QIB  Subscription_HNI  Subscription_RII  \\\n",
       "count  319.000000        319.000000        319.000000        319.000000   \n",
       "mean     0.526038          0.386219          0.362503          0.527331   \n",
       "std      0.339165          0.408934          0.419589          0.356107   \n",
       "min      0.153636          0.033203          0.020209          0.134805   \n",
       "25%      0.154091          0.033203          0.020572          0.150784   \n",
       "50%      0.451136          0.142630          0.081643          0.397443   \n",
       "75%      1.000000          0.988523          0.999678          0.996804   \n",
       "max      1.000000          1.000000          1.000000          1.000000   \n",
       "\n",
       "       Subscription_Total  Issue_Price  \n",
       "count          319.000000   319.000000  \n",
       "mean             0.391152     0.318730  \n",
       "std              0.402040     0.235395  \n",
       "min              0.049259     0.109880  \n",
       "25%              0.049334     0.109880  \n",
       "50%              0.147627     0.230840  \n",
       "75%              0.999775     0.492613  \n",
       "max              1.000000     1.000000  "
      ]
     },
     "execution_count": 25,
     "metadata": {},
     "output_type": "execute_result"
    }
   ],
   "source": [
    "predictors = ['Issue_Size', 'Subscription_QIB', 'Subscription_HNI',\n",
    "       'Subscription_RII', 'Subscription_Total', 'Issue_Price']\n",
    "target_variable = ['Listing_Gains_Profit']\n",
    "\n",
    "data[predictors] = data[predictors]/data[predictors].max()\n",
    "data[predictors].describe()"
   ]
  },
  {
   "cell_type": "markdown",
   "id": "9608c37f-999f-4529-9bcc-a21cad0df4c8",
   "metadata": {},
   "source": [
    "From the table above we can see that all the values are now between 0 and 1, so the normalization was successful."
   ]
  },
  {
   "cell_type": "markdown",
   "id": "1852efa8-5bb3-4c61-bd6f-dde435569046",
   "metadata": {},
   "source": [
    "## Splitting Data to Train And Test Set"
   ]
  },
  {
   "cell_type": "markdown",
   "id": "2bea7830-f7aa-4bb6-b5c9-90bb8adb3839",
   "metadata": {},
   "source": [
    "I will be using 80-20 split for training and testing. To do this I will use `scikit learns` library."
   ]
  },
  {
   "cell_type": "code",
   "execution_count": 26,
   "id": "159735a9-48f3-40c4-b838-96650df32bfe",
   "metadata": {},
   "outputs": [
    {
     "name": "stdout",
     "output_type": "stream",
     "text": [
      "(255, 6) (64, 6) (255, 1) (64, 1)\n",
      "Listing_Gains_Profit\n",
      "1                       138\n",
      "0                       117\n",
      "Name: count, dtype: int64\n",
      "Listing_Gains_Profit\n",
      "1                       38\n",
      "0                       26\n",
      "Name: count, dtype: int64\n"
     ]
    }
   ],
   "source": [
    "from sklearn.model_selection import train_test_split\n",
    "\n",
    "X = data[predictors]\n",
    "y = data[target_variable]\n",
    "\n",
    "X_train, X_test, y_train, y_test = train_test_split(X, y, test_size = 0.2, random_state=1)\n",
    "print(X_train.shape, X_test.shape, y_train.shape, y_test.shape)\n",
    "print(y_train.value_counts())\n",
    "print(y_test.value_counts())"
   ]
  },
  {
   "cell_type": "markdown",
   "id": "4f879796-c740-4923-899f-b721ab411969",
   "metadata": {},
   "source": [
    "Both training and testing sets contain a good amount of 1 and 0, so we can continue with this split."
   ]
  },
  {
   "cell_type": "markdown",
   "id": "0a5fbf5a-3ade-4c05-b434-da60b53a89ee",
   "metadata": {},
   "source": [
    "## Define the Deep Learning Classification Model"
   ]
  },
  {
   "cell_type": "markdown",
   "id": "37601042-10ce-4614-b0d6-42e8489aba5b",
   "metadata": {},
   "source": [
    "Now it is time to build the model. I will use `the Keras Sequential API in TensorFlow`. I will add 4 hidden layers and 1 output layer. The hidden layers will use `relu` as their activation and the output layer will use a `sigmoid` activation, because `sigmoid` is good for 0 and 1 values."
   ]
  },
  {
   "cell_type": "code",
   "execution_count": 27,
   "id": "4a9b8b03-aae0-446c-bf74-0b3f647d68d6",
   "metadata": {},
   "outputs": [
    {
     "data": {
      "text/html": [
       "<pre style=\"white-space:pre;overflow-x:auto;line-height:normal;font-family:Menlo,'DejaVu Sans Mono',consolas,'Courier New',monospace\"><span style=\"font-weight: bold\">Model: \"sequential\"</span>\n",
       "</pre>\n"
      ],
      "text/plain": [
       "\u001b[1mModel: \"sequential\"\u001b[0m\n"
      ]
     },
     "metadata": {},
     "output_type": "display_data"
    },
    {
     "data": {
      "text/html": [
       "<pre style=\"white-space:pre;overflow-x:auto;line-height:normal;font-family:Menlo,'DejaVu Sans Mono',consolas,'Courier New',monospace\">┏━━━━━━━━━━━━━━━━━━━━━━━━━━━━━━━━━┳━━━━━━━━━━━━━━━━━━━━━━━━┳━━━━━━━━━━━━━━━┓\n",
       "┃<span style=\"font-weight: bold\"> Layer (type)                    </span>┃<span style=\"font-weight: bold\"> Output Shape           </span>┃<span style=\"font-weight: bold\">       Param # </span>┃\n",
       "┡━━━━━━━━━━━━━━━━━━━━━━━━━━━━━━━━━╇━━━━━━━━━━━━━━━━━━━━━━━━╇━━━━━━━━━━━━━━━┩\n",
       "│ dense (<span style=\"color: #0087ff; text-decoration-color: #0087ff\">Dense</span>)                   │ (<span style=\"color: #00d7ff; text-decoration-color: #00d7ff\">None</span>, <span style=\"color: #00af00; text-decoration-color: #00af00\">32</span>)             │           <span style=\"color: #00af00; text-decoration-color: #00af00\">224</span> │\n",
       "├─────────────────────────────────┼────────────────────────┼───────────────┤\n",
       "│ dense_1 (<span style=\"color: #0087ff; text-decoration-color: #0087ff\">Dense</span>)                 │ (<span style=\"color: #00d7ff; text-decoration-color: #00d7ff\">None</span>, <span style=\"color: #00af00; text-decoration-color: #00af00\">16</span>)             │           <span style=\"color: #00af00; text-decoration-color: #00af00\">528</span> │\n",
       "├─────────────────────────────────┼────────────────────────┼───────────────┤\n",
       "│ dense_2 (<span style=\"color: #0087ff; text-decoration-color: #0087ff\">Dense</span>)                 │ (<span style=\"color: #00d7ff; text-decoration-color: #00d7ff\">None</span>, <span style=\"color: #00af00; text-decoration-color: #00af00\">8</span>)              │           <span style=\"color: #00af00; text-decoration-color: #00af00\">136</span> │\n",
       "├─────────────────────────────────┼────────────────────────┼───────────────┤\n",
       "│ dense_3 (<span style=\"color: #0087ff; text-decoration-color: #0087ff\">Dense</span>)                 │ (<span style=\"color: #00d7ff; text-decoration-color: #00d7ff\">None</span>, <span style=\"color: #00af00; text-decoration-color: #00af00\">4</span>)              │            <span style=\"color: #00af00; text-decoration-color: #00af00\">36</span> │\n",
       "├─────────────────────────────────┼────────────────────────┼───────────────┤\n",
       "│ dense_4 (<span style=\"color: #0087ff; text-decoration-color: #0087ff\">Dense</span>)                 │ (<span style=\"color: #00d7ff; text-decoration-color: #00d7ff\">None</span>, <span style=\"color: #00af00; text-decoration-color: #00af00\">1</span>)              │             <span style=\"color: #00af00; text-decoration-color: #00af00\">5</span> │\n",
       "└─────────────────────────────────┴────────────────────────┴───────────────┘\n",
       "</pre>\n"
      ],
      "text/plain": [
       "┏━━━━━━━━━━━━━━━━━━━━━━━━━━━━━━━━━┳━━━━━━━━━━━━━━━━━━━━━━━━┳━━━━━━━━━━━━━━━┓\n",
       "┃\u001b[1m \u001b[0m\u001b[1mLayer (type)                   \u001b[0m\u001b[1m \u001b[0m┃\u001b[1m \u001b[0m\u001b[1mOutput Shape          \u001b[0m\u001b[1m \u001b[0m┃\u001b[1m \u001b[0m\u001b[1m      Param #\u001b[0m\u001b[1m \u001b[0m┃\n",
       "┡━━━━━━━━━━━━━━━━━━━━━━━━━━━━━━━━━╇━━━━━━━━━━━━━━━━━━━━━━━━╇━━━━━━━━━━━━━━━┩\n",
       "│ dense (\u001b[38;5;33mDense\u001b[0m)                   │ (\u001b[38;5;45mNone\u001b[0m, \u001b[38;5;34m32\u001b[0m)             │           \u001b[38;5;34m224\u001b[0m │\n",
       "├─────────────────────────────────┼────────────────────────┼───────────────┤\n",
       "│ dense_1 (\u001b[38;5;33mDense\u001b[0m)                 │ (\u001b[38;5;45mNone\u001b[0m, \u001b[38;5;34m16\u001b[0m)             │           \u001b[38;5;34m528\u001b[0m │\n",
       "├─────────────────────────────────┼────────────────────────┼───────────────┤\n",
       "│ dense_2 (\u001b[38;5;33mDense\u001b[0m)                 │ (\u001b[38;5;45mNone\u001b[0m, \u001b[38;5;34m8\u001b[0m)              │           \u001b[38;5;34m136\u001b[0m │\n",
       "├─────────────────────────────────┼────────────────────────┼───────────────┤\n",
       "│ dense_3 (\u001b[38;5;33mDense\u001b[0m)                 │ (\u001b[38;5;45mNone\u001b[0m, \u001b[38;5;34m4\u001b[0m)              │            \u001b[38;5;34m36\u001b[0m │\n",
       "├─────────────────────────────────┼────────────────────────┼───────────────┤\n",
       "│ dense_4 (\u001b[38;5;33mDense\u001b[0m)                 │ (\u001b[38;5;45mNone\u001b[0m, \u001b[38;5;34m1\u001b[0m)              │             \u001b[38;5;34m5\u001b[0m │\n",
       "└─────────────────────────────────┴────────────────────────┴───────────────┘\n"
      ]
     },
     "metadata": {},
     "output_type": "display_data"
    },
    {
     "data": {
      "text/html": [
       "<pre style=\"white-space:pre;overflow-x:auto;line-height:normal;font-family:Menlo,'DejaVu Sans Mono',consolas,'Courier New',monospace\"><span style=\"font-weight: bold\"> Total params: </span><span style=\"color: #00af00; text-decoration-color: #00af00\">929</span> (3.63 KB)\n",
       "</pre>\n"
      ],
      "text/plain": [
       "\u001b[1m Total params: \u001b[0m\u001b[38;5;34m929\u001b[0m (3.63 KB)\n"
      ]
     },
     "metadata": {},
     "output_type": "display_data"
    },
    {
     "data": {
      "text/html": [
       "<pre style=\"white-space:pre;overflow-x:auto;line-height:normal;font-family:Menlo,'DejaVu Sans Mono',consolas,'Courier New',monospace\"><span style=\"font-weight: bold\"> Trainable params: </span><span style=\"color: #00af00; text-decoration-color: #00af00\">929</span> (3.63 KB)\n",
       "</pre>\n"
      ],
      "text/plain": [
       "\u001b[1m Trainable params: \u001b[0m\u001b[38;5;34m929\u001b[0m (3.63 KB)\n"
      ]
     },
     "metadata": {},
     "output_type": "display_data"
    },
    {
     "data": {
      "text/html": [
       "<pre style=\"white-space:pre;overflow-x:auto;line-height:normal;font-family:Menlo,'DejaVu Sans Mono',consolas,'Courier New',monospace\"><span style=\"font-weight: bold\"> Non-trainable params: </span><span style=\"color: #00af00; text-decoration-color: #00af00\">0</span> (0.00 B)\n",
       "</pre>\n"
      ],
      "text/plain": [
       "\u001b[1m Non-trainable params: \u001b[0m\u001b[38;5;34m0\u001b[0m (0.00 B)\n"
      ]
     },
     "metadata": {},
     "output_type": "display_data"
    }
   ],
   "source": [
    "import tensorflow as tf\n",
    "tf.random.set_seed(100)\n",
    "model = tf.keras.Sequential()\n",
    "model.add(tf.keras.Input(shape=(X_train.shape[1],)))\n",
    "\n",
    "model.add(tf.keras.layers.Dense(32, activation='relu'))\n",
    "model.add(tf.keras.layers.Dense(16, activation='relu'))\n",
    "model.add(tf.keras.layers.Dense(8, activation='relu'))\n",
    "model.add(tf.keras.layers.Dense(4, activation='relu'))\n",
    "model.add(tf.keras.layers.Dense(1, activation='sigmoid'))\n",
    "model.summary()"
   ]
  },
  {
   "cell_type": "markdown",
   "id": "3ad95051-13db-42d7-a4d6-9a3e79046b98",
   "metadata": {},
   "source": [
    "## Compile and Train the Model"
   ]
  },
  {
   "cell_type": "markdown",
   "id": "edc220c1-49b3-454b-b831-a9028d90fd2f",
   "metadata": {},
   "source": [
    "Next we are going to compile and train our model. To do this we need to specify an optimizer, a loss function and an evaluation metric.\n",
    "\n",
    "For optimizer I will be using [Adam](https://keras.io/api/optimizers/adam/). For loss I will be using [BinaryCrossentropy](https://keras.io/api/losses/probabilistic_losses/), because it fits well for our binary outcome. For metrics I will use accuracy, because I am interested in how accurate the model is."
   ]
  },
  {
   "cell_type": "code",
   "execution_count": 28,
   "id": "6b89e200-6e9c-4b52-a6f7-d17dd01e6927",
   "metadata": {},
   "outputs": [
    {
     "name": "stdout",
     "output_type": "stream",
     "text": [
      "Epoch 1/150\n",
      "\u001b[1m8/8\u001b[0m \u001b[32m━━━━━━━━━━━━━━━━━━━━\u001b[0m\u001b[37m\u001b[0m \u001b[1m0s\u001b[0m 769us/step - accuracy: 0.5867 - loss: 0.6880\n",
      "Epoch 2/150\n",
      "\u001b[1m8/8\u001b[0m \u001b[32m━━━━━━━━━━━━━━━━━━━━\u001b[0m\u001b[37m\u001b[0m \u001b[1m0s\u001b[0m 606us/step - accuracy: 0.4974 - loss: 0.6828\n",
      "Epoch 3/150\n",
      "\u001b[1m8/8\u001b[0m \u001b[32m━━━━━━━━━━━━━━━━━━━━\u001b[0m\u001b[37m\u001b[0m \u001b[1m0s\u001b[0m 649us/step - accuracy: 0.4974 - loss: 0.6796\n",
      "Epoch 4/150\n",
      "\u001b[1m8/8\u001b[0m \u001b[32m━━━━━━━━━━━━━━━━━━━━\u001b[0m\u001b[37m\u001b[0m \u001b[1m0s\u001b[0m 584us/step - accuracy: 0.4974 - loss: 0.6769\n",
      "Epoch 5/150\n",
      "\u001b[1m8/8\u001b[0m \u001b[32m━━━━━━━━━━━━━━━━━━━━\u001b[0m\u001b[37m\u001b[0m \u001b[1m0s\u001b[0m 570us/step - accuracy: 0.4974 - loss: 0.6747\n",
      "Epoch 6/150\n",
      "\u001b[1m8/8\u001b[0m \u001b[32m━━━━━━━━━━━━━━━━━━━━\u001b[0m\u001b[37m\u001b[0m \u001b[1m0s\u001b[0m 2ms/step - accuracy: 0.4974 - loss: 0.6727 \n",
      "Epoch 7/150\n",
      "\u001b[1m8/8\u001b[0m \u001b[32m━━━━━━━━━━━━━━━━━━━━\u001b[0m\u001b[37m\u001b[0m \u001b[1m0s\u001b[0m 1ms/step - accuracy: 0.4974 - loss: 0.6706 \n",
      "Epoch 8/150\n",
      "\u001b[1m8/8\u001b[0m \u001b[32m━━━━━━━━━━━━━━━━━━━━\u001b[0m\u001b[37m\u001b[0m \u001b[1m0s\u001b[0m 793us/step - accuracy: 0.4983 - loss: 0.6685\n",
      "Epoch 9/150\n",
      "\u001b[1m8/8\u001b[0m \u001b[32m━━━━━━━━━━━━━━━━━━━━\u001b[0m\u001b[37m\u001b[0m \u001b[1m0s\u001b[0m 565us/step - accuracy: 0.5262 - loss: 0.6665\n",
      "Epoch 10/150\n",
      "\u001b[1m8/8\u001b[0m \u001b[32m━━━━━━━━━━━━━━━━━━━━\u001b[0m\u001b[37m\u001b[0m \u001b[1m0s\u001b[0m 585us/step - accuracy: 0.5887 - loss: 0.6647\n",
      "Epoch 11/150\n",
      "\u001b[1m8/8\u001b[0m \u001b[32m━━━━━━━━━━━━━━━━━━━━\u001b[0m\u001b[37m\u001b[0m \u001b[1m0s\u001b[0m 629us/step - accuracy: 0.5889 - loss: 0.6634\n",
      "Epoch 12/150\n",
      "\u001b[1m8/8\u001b[0m \u001b[32m━━━━━━━━━━━━━━━━━━━━\u001b[0m\u001b[37m\u001b[0m \u001b[1m0s\u001b[0m 2ms/step - accuracy: 0.6231 - loss: 0.6625 \n",
      "Epoch 13/150\n",
      "\u001b[1m8/8\u001b[0m \u001b[32m━━━━━━━━━━━━━━━━━━━━\u001b[0m\u001b[37m\u001b[0m \u001b[1m0s\u001b[0m 658us/step - accuracy: 0.6124 - loss: 0.6616\n",
      "Epoch 14/150\n",
      "\u001b[1m8/8\u001b[0m \u001b[32m━━━━━━━━━━━━━━━━━━━━\u001b[0m\u001b[37m\u001b[0m \u001b[1m0s\u001b[0m 520us/step - accuracy: 0.6369 - loss: 0.6610\n",
      "Epoch 15/150\n",
      "\u001b[1m8/8\u001b[0m \u001b[32m━━━━━━━━━━━━━━━━━━━━\u001b[0m\u001b[37m\u001b[0m \u001b[1m0s\u001b[0m 547us/step - accuracy: 0.6485 - loss: 0.6603\n",
      "Epoch 16/150\n",
      "\u001b[1m8/8\u001b[0m \u001b[32m━━━━━━━━━━━━━━━━━━━━\u001b[0m\u001b[37m\u001b[0m \u001b[1m0s\u001b[0m 538us/step - accuracy: 0.6401 - loss: 0.6599\n",
      "Epoch 17/150\n",
      "\u001b[1m8/8\u001b[0m \u001b[32m━━━━━━━━━━━━━━━━━━━━\u001b[0m\u001b[37m\u001b[0m \u001b[1m0s\u001b[0m 563us/step - accuracy: 0.6337 - loss: 0.6593\n",
      "Epoch 18/150\n",
      "\u001b[1m8/8\u001b[0m \u001b[32m━━━━━━━━━━━━━━━━━━━━\u001b[0m\u001b[37m\u001b[0m \u001b[1m0s\u001b[0m 575us/step - accuracy: 0.6377 - loss: 0.6588\n",
      "Epoch 19/150\n",
      "\u001b[1m8/8\u001b[0m \u001b[32m━━━━━━━━━━━━━━━━━━━━\u001b[0m\u001b[37m\u001b[0m \u001b[1m0s\u001b[0m 693us/step - accuracy: 0.6513 - loss: 0.6585\n",
      "Epoch 20/150\n",
      "\u001b[1m8/8\u001b[0m \u001b[32m━━━━━━━━━━━━━━━━━━━━\u001b[0m\u001b[37m\u001b[0m \u001b[1m0s\u001b[0m 675us/step - accuracy: 0.6548 - loss: 0.6579\n",
      "Epoch 21/150\n",
      "\u001b[1m8/8\u001b[0m \u001b[32m━━━━━━━━━━━━━━━━━━━━\u001b[0m\u001b[37m\u001b[0m \u001b[1m0s\u001b[0m 609us/step - accuracy: 0.6543 - loss: 0.6572\n",
      "Epoch 22/150\n",
      "\u001b[1m8/8\u001b[0m \u001b[32m━━━━━━━━━━━━━━━━━━━━\u001b[0m\u001b[37m\u001b[0m \u001b[1m0s\u001b[0m 533us/step - accuracy: 0.6685 - loss: 0.6562\n",
      "Epoch 23/150\n",
      "\u001b[1m8/8\u001b[0m \u001b[32m━━━━━━━━━━━━━━━━━━━━\u001b[0m\u001b[37m\u001b[0m \u001b[1m0s\u001b[0m 537us/step - accuracy: 0.6820 - loss: 0.6553\n",
      "Epoch 24/150\n",
      "\u001b[1m8/8\u001b[0m \u001b[32m━━━━━━━━━━━━━━━━━━━━\u001b[0m\u001b[37m\u001b[0m \u001b[1m0s\u001b[0m 534us/step - accuracy: 0.6816 - loss: 0.6545\n",
      "Epoch 25/150\n",
      "\u001b[1m8/8\u001b[0m \u001b[32m━━━━━━━━━━━━━━━━━━━━\u001b[0m\u001b[37m\u001b[0m \u001b[1m0s\u001b[0m 566us/step - accuracy: 0.6764 - loss: 0.6537\n",
      "Epoch 26/150\n",
      "\u001b[1m8/8\u001b[0m \u001b[32m━━━━━━━━━━━━━━━━━━━━\u001b[0m\u001b[37m\u001b[0m \u001b[1m0s\u001b[0m 667us/step - accuracy: 0.6665 - loss: 0.6526\n",
      "Epoch 27/150\n",
      "\u001b[1m8/8\u001b[0m \u001b[32m━━━━━━━━━━━━━━━━━━━━\u001b[0m\u001b[37m\u001b[0m \u001b[1m0s\u001b[0m 717us/step - accuracy: 0.6772 - loss: 0.6517\n",
      "Epoch 28/150\n",
      "\u001b[1m8/8\u001b[0m \u001b[32m━━━━━━━━━━━━━━━━━━━━\u001b[0m\u001b[37m\u001b[0m \u001b[1m0s\u001b[0m 2ms/step - accuracy: 0.6759 - loss: 0.6509 \n",
      "Epoch 29/150\n",
      "\u001b[1m8/8\u001b[0m \u001b[32m━━━━━━━━━━━━━━━━━━━━\u001b[0m\u001b[37m\u001b[0m \u001b[1m0s\u001b[0m 527us/step - accuracy: 0.6772 - loss: 0.6501\n",
      "Epoch 30/150\n",
      "\u001b[1m8/8\u001b[0m \u001b[32m━━━━━━━━━━━━━━━━━━━━\u001b[0m\u001b[37m\u001b[0m \u001b[1m0s\u001b[0m 546us/step - accuracy: 0.6781 - loss: 0.6494\n",
      "Epoch 31/150\n",
      "\u001b[1m8/8\u001b[0m \u001b[32m━━━━━━━━━━━━━━━━━━━━\u001b[0m\u001b[37m\u001b[0m \u001b[1m0s\u001b[0m 568us/step - accuracy: 0.6767 - loss: 0.6487\n",
      "Epoch 32/150\n",
      "\u001b[1m8/8\u001b[0m \u001b[32m━━━━━━━━━━━━━━━━━━━━\u001b[0m\u001b[37m\u001b[0m \u001b[1m0s\u001b[0m 675us/step - accuracy: 0.6767 - loss: 0.6478\n",
      "Epoch 33/150\n",
      "\u001b[1m8/8\u001b[0m \u001b[32m━━━━━━━━━━━━━━━━━━━━\u001b[0m\u001b[37m\u001b[0m \u001b[1m0s\u001b[0m 704us/step - accuracy: 0.6767 - loss: 0.6470\n",
      "Epoch 34/150\n",
      "\u001b[1m8/8\u001b[0m \u001b[32m━━━━━━━━━━━━━━━━━━━━\u001b[0m\u001b[37m\u001b[0m \u001b[1m0s\u001b[0m 518us/step - accuracy: 0.6767 - loss: 0.6463\n",
      "Epoch 35/150\n",
      "\u001b[1m8/8\u001b[0m \u001b[32m━━━━━━━━━━━━━━━━━━━━\u001b[0m\u001b[37m\u001b[0m \u001b[1m0s\u001b[0m 527us/step - accuracy: 0.6767 - loss: 0.6456\n",
      "Epoch 36/150\n",
      "\u001b[1m8/8\u001b[0m \u001b[32m━━━━━━━━━━━━━━━━━━━━\u001b[0m\u001b[37m\u001b[0m \u001b[1m0s\u001b[0m 566us/step - accuracy: 0.6802 - loss: 0.6449\n",
      "Epoch 37/150\n",
      "\u001b[1m8/8\u001b[0m \u001b[32m━━━━━━━━━━━━━━━━━━━━\u001b[0m\u001b[37m\u001b[0m \u001b[1m0s\u001b[0m 532us/step - accuracy: 0.6767 - loss: 0.6441\n",
      "Epoch 38/150\n",
      "\u001b[1m8/8\u001b[0m \u001b[32m━━━━━━━━━━━━━━━━━━━━\u001b[0m\u001b[37m\u001b[0m \u001b[1m0s\u001b[0m 571us/step - accuracy: 0.6802 - loss: 0.6435\n",
      "Epoch 39/150\n",
      "\u001b[1m8/8\u001b[0m \u001b[32m━━━━━━━━━━━━━━━━━━━━\u001b[0m\u001b[37m\u001b[0m \u001b[1m0s\u001b[0m 562us/step - accuracy: 0.6802 - loss: 0.6427\n",
      "Epoch 40/150\n",
      "\u001b[1m8/8\u001b[0m \u001b[32m━━━━━━━━━━━━━━━━━━━━\u001b[0m\u001b[37m\u001b[0m \u001b[1m0s\u001b[0m 565us/step - accuracy: 0.6802 - loss: 0.6418\n",
      "Epoch 41/150\n",
      "\u001b[1m8/8\u001b[0m \u001b[32m━━━━━━━━━━━━━━━━━━━━\u001b[0m\u001b[37m\u001b[0m \u001b[1m0s\u001b[0m 735us/step - accuracy: 0.6738 - loss: 0.6405\n",
      "Epoch 42/150\n",
      "\u001b[1m8/8\u001b[0m \u001b[32m━━━━━━━━━━━━━━━━━━━━\u001b[0m\u001b[37m\u001b[0m \u001b[1m0s\u001b[0m 2ms/step - accuracy: 0.6738 - loss: 0.6397 \n",
      "Epoch 43/150\n",
      "\u001b[1m8/8\u001b[0m \u001b[32m━━━━━━━━━━━━━━━━━━━━\u001b[0m\u001b[37m\u001b[0m \u001b[1m0s\u001b[0m 586us/step - accuracy: 0.6802 - loss: 0.6387\n",
      "Epoch 44/150\n",
      "\u001b[1m8/8\u001b[0m \u001b[32m━━━━━━━━━━━━━━━━━━━━\u001b[0m\u001b[37m\u001b[0m \u001b[1m0s\u001b[0m 514us/step - accuracy: 0.6767 - loss: 0.6379\n",
      "Epoch 45/150\n",
      "\u001b[1m8/8\u001b[0m \u001b[32m━━━━━━━━━━━━━━━━━━━━\u001b[0m\u001b[37m\u001b[0m \u001b[1m0s\u001b[0m 527us/step - accuracy: 0.6767 - loss: 0.6373\n",
      "Epoch 46/150\n",
      "\u001b[1m8/8\u001b[0m \u001b[32m━━━━━━━━━━━━━━━━━━━━\u001b[0m\u001b[37m\u001b[0m \u001b[1m0s\u001b[0m 566us/step - accuracy: 0.6732 - loss: 0.6368\n",
      "Epoch 47/150\n",
      "\u001b[1m8/8\u001b[0m \u001b[32m━━━━━━━━━━━━━━━━━━━━\u001b[0m\u001b[37m\u001b[0m \u001b[1m0s\u001b[0m 535us/step - accuracy: 0.6767 - loss: 0.6361\n",
      "Epoch 48/150\n",
      "\u001b[1m8/8\u001b[0m \u001b[32m━━━━━━━━━━━━━━━━━━━━\u001b[0m\u001b[37m\u001b[0m \u001b[1m0s\u001b[0m 611us/step - accuracy: 0.6732 - loss: 0.6353\n",
      "Epoch 49/150\n",
      "\u001b[1m8/8\u001b[0m \u001b[32m━━━━━━━━━━━━━━━━━━━━\u001b[0m\u001b[37m\u001b[0m \u001b[1m0s\u001b[0m 1ms/step - accuracy: 0.6767 - loss: 0.6345 \n",
      "Epoch 50/150\n",
      "\u001b[1m8/8\u001b[0m \u001b[32m━━━━━━━━━━━━━━━━━━━━\u001b[0m\u001b[37m\u001b[0m \u001b[1m0s\u001b[0m 739us/step - accuracy: 0.6831 - loss: 0.6338\n",
      "Epoch 51/150\n",
      "\u001b[1m8/8\u001b[0m \u001b[32m━━━━━━━━━━━━━━━━━━━━\u001b[0m\u001b[37m\u001b[0m \u001b[1m0s\u001b[0m 870us/step - accuracy: 0.6767 - loss: 0.6331\n",
      "Epoch 52/150\n",
      "\u001b[1m8/8\u001b[0m \u001b[32m━━━━━━━━━━━━━━━━━━━━\u001b[0m\u001b[37m\u001b[0m \u001b[1m0s\u001b[0m 582us/step - accuracy: 0.6831 - loss: 0.6325\n",
      "Epoch 53/150\n",
      "\u001b[1m8/8\u001b[0m \u001b[32m━━━━━━━━━━━━━━━━━━━━\u001b[0m\u001b[37m\u001b[0m \u001b[1m0s\u001b[0m 634us/step - accuracy: 0.6810 - loss: 0.6317\n",
      "Epoch 54/150\n",
      "\u001b[1m8/8\u001b[0m \u001b[32m━━━━━━━━━━━━━━━━━━━━\u001b[0m\u001b[37m\u001b[0m \u001b[1m0s\u001b[0m 572us/step - accuracy: 0.6781 - loss: 0.6311\n",
      "Epoch 55/150\n",
      "\u001b[1m8/8\u001b[0m \u001b[32m━━━━━━━━━━━━━━━━━━━━\u001b[0m\u001b[37m\u001b[0m \u001b[1m0s\u001b[0m 758us/step - accuracy: 0.6810 - loss: 0.6303\n",
      "Epoch 56/150\n",
      "\u001b[1m8/8\u001b[0m \u001b[32m━━━━━━━━━━━━━━━━━━━━\u001b[0m\u001b[37m\u001b[0m \u001b[1m0s\u001b[0m 705us/step - accuracy: 0.6781 - loss: 0.6298\n",
      "Epoch 57/150\n",
      "\u001b[1m8/8\u001b[0m \u001b[32m━━━━━━━━━━━━━━━━━━━━\u001b[0m\u001b[37m\u001b[0m \u001b[1m0s\u001b[0m 538us/step - accuracy: 0.6746 - loss: 0.6290\n",
      "Epoch 58/150\n",
      "\u001b[1m8/8\u001b[0m \u001b[32m━━━━━━━━━━━━━━━━━━━━\u001b[0m\u001b[37m\u001b[0m \u001b[1m0s\u001b[0m 524us/step - accuracy: 0.6781 - loss: 0.6284\n",
      "Epoch 59/150\n",
      "\u001b[1m8/8\u001b[0m \u001b[32m━━━━━━━━━━━━━━━━━━━━\u001b[0m\u001b[37m\u001b[0m \u001b[1m0s\u001b[0m 554us/step - accuracy: 0.6746 - loss: 0.6275\n",
      "Epoch 60/150\n",
      "\u001b[1m8/8\u001b[0m \u001b[32m━━━━━━━━━━━━━━━━━━━━\u001b[0m\u001b[37m\u001b[0m \u001b[1m0s\u001b[0m 528us/step - accuracy: 0.7005 - loss: 0.6267\n",
      "Epoch 61/150\n",
      "\u001b[1m8/8\u001b[0m \u001b[32m━━━━━━━━━━━━━━━━━━━━\u001b[0m\u001b[37m\u001b[0m \u001b[1m0s\u001b[0m 585us/step - accuracy: 0.7104 - loss: 0.6257\n",
      "Epoch 62/150\n",
      "\u001b[1m8/8\u001b[0m \u001b[32m━━━━━━━━━━━━━━━━━━━━\u001b[0m\u001b[37m\u001b[0m \u001b[1m0s\u001b[0m 631us/step - accuracy: 0.7048 - loss: 0.6250\n",
      "Epoch 63/150\n",
      "\u001b[1m8/8\u001b[0m \u001b[32m━━━━━━━━━━━━━━━━━━━━\u001b[0m\u001b[37m\u001b[0m \u001b[1m0s\u001b[0m 679us/step - accuracy: 0.7168 - loss: 0.6239\n",
      "Epoch 64/150\n",
      "\u001b[1m8/8\u001b[0m \u001b[32m━━━━━━━━━━━━━━━━━━━━\u001b[0m\u001b[37m\u001b[0m \u001b[1m0s\u001b[0m 967us/step - accuracy: 0.7104 - loss: 0.6229\n",
      "Epoch 65/150\n",
      "\u001b[1m8/8\u001b[0m \u001b[32m━━━━━━━━━━━━━━━━━━━━\u001b[0m\u001b[37m\u001b[0m \u001b[1m0s\u001b[0m 536us/step - accuracy: 0.7121 - loss: 0.6221\n",
      "Epoch 66/150\n",
      "\u001b[1m8/8\u001b[0m \u001b[32m━━━━━━━━━━━━━━━━━━━━\u001b[0m\u001b[37m\u001b[0m \u001b[1m0s\u001b[0m 577us/step - accuracy: 0.7168 - loss: 0.6211\n",
      "Epoch 67/150\n",
      "\u001b[1m8/8\u001b[0m \u001b[32m━━━━━━━━━━━━━━━━━━━━\u001b[0m\u001b[37m\u001b[0m \u001b[1m0s\u001b[0m 556us/step - accuracy: 0.7168 - loss: 0.6203\n",
      "Epoch 68/150\n",
      "\u001b[1m8/8\u001b[0m \u001b[32m━━━━━━━━━━━━━━━━━━━━\u001b[0m\u001b[37m\u001b[0m \u001b[1m0s\u001b[0m 506us/step - accuracy: 0.7168 - loss: 0.6197\n",
      "Epoch 69/150\n",
      "\u001b[1m8/8\u001b[0m \u001b[32m━━━━━━━━━━━━━━━━━━━━\u001b[0m\u001b[37m\u001b[0m \u001b[1m0s\u001b[0m 614us/step - accuracy: 0.7168 - loss: 0.6190\n",
      "Epoch 70/150\n",
      "\u001b[1m8/8\u001b[0m \u001b[32m━━━━━━━━━━━━━━━━━━━━\u001b[0m\u001b[37m\u001b[0m \u001b[1m0s\u001b[0m 647us/step - accuracy: 0.7232 - loss: 0.6185\n",
      "Epoch 71/150\n",
      "\u001b[1m8/8\u001b[0m \u001b[32m━━━━━━━━━━━━━━━━━━━━\u001b[0m\u001b[37m\u001b[0m \u001b[1m0s\u001b[0m 754us/step - accuracy: 0.7168 - loss: 0.6178\n",
      "Epoch 72/150\n",
      "\u001b[1m8/8\u001b[0m \u001b[32m━━━━━━━━━━━━━━━━━━━━\u001b[0m\u001b[37m\u001b[0m \u001b[1m0s\u001b[0m 580us/step - accuracy: 0.7232 - loss: 0.6172\n",
      "Epoch 73/150\n",
      "\u001b[1m8/8\u001b[0m \u001b[32m━━━━━━━━━━━━━━━━━━━━\u001b[0m\u001b[37m\u001b[0m \u001b[1m0s\u001b[0m 696us/step - accuracy: 0.7232 - loss: 0.6164\n",
      "Epoch 74/150\n",
      "\u001b[1m8/8\u001b[0m \u001b[32m━━━━━━━━━━━━━━━━━━━━\u001b[0m\u001b[37m\u001b[0m \u001b[1m0s\u001b[0m 628us/step - accuracy: 0.7232 - loss: 0.6160\n",
      "Epoch 75/150\n",
      "\u001b[1m8/8\u001b[0m \u001b[32m━━━━━━━━━━━━━━━━━━━━\u001b[0m\u001b[37m\u001b[0m \u001b[1m0s\u001b[0m 616us/step - accuracy: 0.7202 - loss: 0.6153\n",
      "Epoch 76/150\n",
      "\u001b[1m8/8\u001b[0m \u001b[32m━━━━━━━━━━━━━━━━━━━━\u001b[0m\u001b[37m\u001b[0m \u001b[1m0s\u001b[0m 662us/step - accuracy: 0.7232 - loss: 0.6145\n",
      "Epoch 77/150\n",
      "\u001b[1m8/8\u001b[0m \u001b[32m━━━━━━━━━━━━━━━━━━━━\u001b[0m\u001b[37m\u001b[0m \u001b[1m0s\u001b[0m 558us/step - accuracy: 0.7210 - loss: 0.6138\n",
      "Epoch 78/150\n",
      "\u001b[1m8/8\u001b[0m \u001b[32m━━━━━━━━━━━━━━━━━━━━\u001b[0m\u001b[37m\u001b[0m \u001b[1m0s\u001b[0m 535us/step - accuracy: 0.7258 - loss: 0.6135\n",
      "Epoch 79/150\n",
      "\u001b[1m8/8\u001b[0m \u001b[32m━━━━━━━━━━━━━━━━━━━━\u001b[0m\u001b[37m\u001b[0m \u001b[1m0s\u001b[0m 556us/step - accuracy: 0.7245 - loss: 0.6129\n",
      "Epoch 80/150\n",
      "\u001b[1m8/8\u001b[0m \u001b[32m━━━━━━━━━━━━━━━━━━━━\u001b[0m\u001b[37m\u001b[0m \u001b[1m0s\u001b[0m 539us/step - accuracy: 0.7159 - loss: 0.6123\n",
      "Epoch 81/150\n",
      "\u001b[1m8/8\u001b[0m \u001b[32m━━━━━━━━━━━━━━━━━━━━\u001b[0m\u001b[37m\u001b[0m \u001b[1m0s\u001b[0m 4ms/step - accuracy: 0.7147 - loss: 0.6117\n",
      "Epoch 82/150\n",
      "\u001b[1m8/8\u001b[0m \u001b[32m━━━━━━━━━━━━━━━━━━━━\u001b[0m\u001b[37m\u001b[0m \u001b[1m0s\u001b[0m 908us/step - accuracy: 0.7173 - loss: 0.6111\n",
      "Epoch 83/150\n",
      "\u001b[1m8/8\u001b[0m \u001b[32m━━━━━━━━━━━━━━━━━━━━\u001b[0m\u001b[37m\u001b[0m \u001b[1m0s\u001b[0m 605us/step - accuracy: 0.7147 - loss: 0.6103\n",
      "Epoch 84/150\n",
      "\u001b[1m8/8\u001b[0m \u001b[32m━━━━━━━━━━━━━━━━━━━━\u001b[0m\u001b[37m\u001b[0m \u001b[1m0s\u001b[0m 563us/step - accuracy: 0.7245 - loss: 0.6092\n",
      "Epoch 85/150\n",
      "\u001b[1m8/8\u001b[0m \u001b[32m━━━━━━━━━━━━━━━━━━━━\u001b[0m\u001b[37m\u001b[0m \u001b[1m0s\u001b[0m 590us/step - accuracy: 0.7245 - loss: 0.6083\n",
      "Epoch 86/150\n",
      "\u001b[1m8/8\u001b[0m \u001b[32m━━━━━━━━━━━━━━━━━━━━\u001b[0m\u001b[37m\u001b[0m \u001b[1m0s\u001b[0m 665us/step - accuracy: 0.7193 - loss: 0.6077\n",
      "Epoch 87/150\n",
      "\u001b[1m8/8\u001b[0m \u001b[32m━━━━━━━━━━━━━━━━━━━━\u001b[0m\u001b[37m\u001b[0m \u001b[1m0s\u001b[0m 690us/step - accuracy: 0.7166 - loss: 0.6068\n",
      "Epoch 88/150\n",
      "\u001b[1m8/8\u001b[0m \u001b[32m━━━━━━━━━━━━━━━━━━━━\u001b[0m\u001b[37m\u001b[0m \u001b[1m0s\u001b[0m 541us/step - accuracy: 0.7193 - loss: 0.6060\n",
      "Epoch 89/150\n",
      "\u001b[1m8/8\u001b[0m \u001b[32m━━━━━━━━━━━━━━━━━━━━\u001b[0m\u001b[37m\u001b[0m \u001b[1m0s\u001b[0m 584us/step - accuracy: 0.7193 - loss: 0.6052\n",
      "Epoch 90/150\n",
      "\u001b[1m8/8\u001b[0m \u001b[32m━━━━━━━━━━━━━━━━━━━━\u001b[0m\u001b[37m\u001b[0m \u001b[1m0s\u001b[0m 702us/step - accuracy: 0.7193 - loss: 0.6049\n",
      "Epoch 91/150\n",
      "\u001b[1m8/8\u001b[0m \u001b[32m━━━━━━━━━━━━━━━━━━━━\u001b[0m\u001b[37m\u001b[0m \u001b[1m0s\u001b[0m 588us/step - accuracy: 0.7193 - loss: 0.6046\n",
      "Epoch 92/150\n",
      "\u001b[1m8/8\u001b[0m \u001b[32m━━━━━━━━━━━━━━━━━━━━\u001b[0m\u001b[37m\u001b[0m \u001b[1m0s\u001b[0m 545us/step - accuracy: 0.7193 - loss: 0.6038\n",
      "Epoch 93/150\n",
      "\u001b[1m8/8\u001b[0m \u001b[32m━━━━━━━━━━━━━━━━━━━━\u001b[0m\u001b[37m\u001b[0m \u001b[1m0s\u001b[0m 676us/step - accuracy: 0.7193 - loss: 0.6030\n",
      "Epoch 94/150\n",
      "\u001b[1m8/8\u001b[0m \u001b[32m━━━━━━━━━━━━━━━━━━━━\u001b[0m\u001b[37m\u001b[0m \u001b[1m0s\u001b[0m 618us/step - accuracy: 0.7193 - loss: 0.6024\n",
      "Epoch 95/150\n",
      "\u001b[1m8/8\u001b[0m \u001b[32m━━━━━━━━━━━━━━━━━━━━\u001b[0m\u001b[37m\u001b[0m \u001b[1m0s\u001b[0m 581us/step - accuracy: 0.7193 - loss: 0.6016\n",
      "Epoch 96/150\n",
      "\u001b[1m8/8\u001b[0m \u001b[32m━━━━━━━━━━━━━━━━━━━━\u001b[0m\u001b[37m\u001b[0m \u001b[1m0s\u001b[0m 1ms/step - accuracy: 0.7193 - loss: 0.6006 \n",
      "Epoch 97/150\n",
      "\u001b[1m8/8\u001b[0m \u001b[32m━━━━━━━━━━━━━━━━━━━━\u001b[0m\u001b[37m\u001b[0m \u001b[1m0s\u001b[0m 550us/step - accuracy: 0.7193 - loss: 0.6001\n",
      "Epoch 98/150\n",
      "\u001b[1m8/8\u001b[0m \u001b[32m━━━━━━━━━━━━━━━━━━━━\u001b[0m\u001b[37m\u001b[0m \u001b[1m0s\u001b[0m 527us/step - accuracy: 0.7193 - loss: 0.5993\n",
      "Epoch 99/150\n",
      "\u001b[1m8/8\u001b[0m \u001b[32m━━━━━━━━━━━━━━━━━━━━\u001b[0m\u001b[37m\u001b[0m \u001b[1m0s\u001b[0m 686us/step - accuracy: 0.7193 - loss: 0.5986\n",
      "Epoch 100/150\n",
      "\u001b[1m8/8\u001b[0m \u001b[32m━━━━━━━━━━━━━━━━━━━━\u001b[0m\u001b[37m\u001b[0m \u001b[1m0s\u001b[0m 515us/step - accuracy: 0.7193 - loss: 0.5980\n",
      "Epoch 101/150\n",
      "\u001b[1m8/8\u001b[0m \u001b[32m━━━━━━━━━━━━━━━━━━━━\u001b[0m\u001b[37m\u001b[0m \u001b[1m0s\u001b[0m 607us/step - accuracy: 0.7193 - loss: 0.5970\n",
      "Epoch 102/150\n",
      "\u001b[1m8/8\u001b[0m \u001b[32m━━━━━━━━━━━━━━━━━━━━\u001b[0m\u001b[37m\u001b[0m \u001b[1m0s\u001b[0m 610us/step - accuracy: 0.7193 - loss: 0.5964\n",
      "Epoch 103/150\n",
      "\u001b[1m8/8\u001b[0m \u001b[32m━━━━━━━━━━━━━━━━━━━━\u001b[0m\u001b[37m\u001b[0m \u001b[1m0s\u001b[0m 518us/step - accuracy: 0.7193 - loss: 0.5957\n",
      "Epoch 104/150\n",
      "\u001b[1m8/8\u001b[0m \u001b[32m━━━━━━━━━━━━━━━━━━━━\u001b[0m\u001b[37m\u001b[0m \u001b[1m0s\u001b[0m 561us/step - accuracy: 0.7193 - loss: 0.5946\n",
      "Epoch 105/150\n",
      "\u001b[1m8/8\u001b[0m \u001b[32m━━━━━━━━━━━━━━━━━━━━\u001b[0m\u001b[37m\u001b[0m \u001b[1m0s\u001b[0m 564us/step - accuracy: 0.7193 - loss: 0.5937\n",
      "Epoch 106/150\n",
      "\u001b[1m8/8\u001b[0m \u001b[32m━━━━━━━━━━━━━━━━━━━━\u001b[0m\u001b[37m\u001b[0m \u001b[1m0s\u001b[0m 575us/step - accuracy: 0.7193 - loss: 0.5931\n",
      "Epoch 107/150\n",
      "\u001b[1m8/8\u001b[0m \u001b[32m━━━━━━━━━━━━━━━━━━━━\u001b[0m\u001b[37m\u001b[0m \u001b[1m0s\u001b[0m 588us/step - accuracy: 0.7193 - loss: 0.5927\n",
      "Epoch 108/150\n",
      "\u001b[1m8/8\u001b[0m \u001b[32m━━━━━━━━━━━━━━━━━━━━\u001b[0m\u001b[37m\u001b[0m \u001b[1m0s\u001b[0m 558us/step - accuracy: 0.7193 - loss: 0.5919\n",
      "Epoch 109/150\n",
      "\u001b[1m8/8\u001b[0m \u001b[32m━━━━━━━━━━━━━━━━━━━━\u001b[0m\u001b[37m\u001b[0m \u001b[1m0s\u001b[0m 699us/step - accuracy: 0.7193 - loss: 0.5914\n",
      "Epoch 110/150\n",
      "\u001b[1m8/8\u001b[0m \u001b[32m━━━━━━━━━━━━━━━━━━━━\u001b[0m\u001b[37m\u001b[0m \u001b[1m0s\u001b[0m 586us/step - accuracy: 0.7193 - loss: 0.5907\n",
      "Epoch 111/150\n",
      "\u001b[1m8/8\u001b[0m \u001b[32m━━━━━━━━━━━━━━━━━━━━\u001b[0m\u001b[37m\u001b[0m \u001b[1m0s\u001b[0m 533us/step - accuracy: 0.7193 - loss: 0.5903\n",
      "Epoch 112/150\n",
      "\u001b[1m8/8\u001b[0m \u001b[32m━━━━━━━━━━━━━━━━━━━━\u001b[0m\u001b[37m\u001b[0m \u001b[1m0s\u001b[0m 547us/step - accuracy: 0.7206 - loss: 0.5892\n",
      "Epoch 113/150\n",
      "\u001b[1m8/8\u001b[0m \u001b[32m━━━━━━━━━━━━━━━━━━━━\u001b[0m\u001b[37m\u001b[0m \u001b[1m0s\u001b[0m 552us/step - accuracy: 0.7219 - loss: 0.5889\n",
      "Epoch 114/150\n",
      "\u001b[1m8/8\u001b[0m \u001b[32m━━━━━━━━━━━━━━━━━━━━\u001b[0m\u001b[37m\u001b[0m \u001b[1m0s\u001b[0m 7ms/step - accuracy: 0.7206 - loss: 0.5884 \n",
      "Epoch 115/150\n",
      "\u001b[1m8/8\u001b[0m \u001b[32m━━━━━━━━━━━━━━━━━━━━\u001b[0m\u001b[37m\u001b[0m \u001b[1m0s\u001b[0m 621us/step - accuracy: 0.7206 - loss: 0.5874\n",
      "Epoch 116/150\n",
      "\u001b[1m8/8\u001b[0m \u001b[32m━━━━━━━━━━━━━━━━━━━━\u001b[0m\u001b[37m\u001b[0m \u001b[1m0s\u001b[0m 710us/step - accuracy: 0.7233 - loss: 0.5868\n",
      "Epoch 117/150\n",
      "\u001b[1m8/8\u001b[0m \u001b[32m━━━━━━━━━━━━━━━━━━━━\u001b[0m\u001b[37m\u001b[0m \u001b[1m0s\u001b[0m 566us/step - accuracy: 0.7206 - loss: 0.5869\n",
      "Epoch 118/150\n",
      "\u001b[1m8/8\u001b[0m \u001b[32m━━━━━━━━━━━━━━━━━━━━\u001b[0m\u001b[37m\u001b[0m \u001b[1m0s\u001b[0m 635us/step - accuracy: 0.7206 - loss: 0.5858\n",
      "Epoch 119/150\n",
      "\u001b[1m8/8\u001b[0m \u001b[32m━━━━━━━━━━━━━━━━━━━━\u001b[0m\u001b[37m\u001b[0m \u001b[1m0s\u001b[0m 582us/step - accuracy: 0.7233 - loss: 0.5856\n",
      "Epoch 120/150\n",
      "\u001b[1m8/8\u001b[0m \u001b[32m━━━━━━━━━━━━━━━━━━━━\u001b[0m\u001b[37m\u001b[0m \u001b[1m0s\u001b[0m 526us/step - accuracy: 0.7206 - loss: 0.5846\n",
      "Epoch 121/150\n",
      "\u001b[1m8/8\u001b[0m \u001b[32m━━━━━━━━━━━━━━━━━━━━\u001b[0m\u001b[37m\u001b[0m \u001b[1m0s\u001b[0m 671us/step - accuracy: 0.7233 - loss: 0.5844\n",
      "Epoch 122/150\n",
      "\u001b[1m8/8\u001b[0m \u001b[32m━━━━━━━━━━━━━━━━━━━━\u001b[0m\u001b[37m\u001b[0m \u001b[1m0s\u001b[0m 557us/step - accuracy: 0.7259 - loss: 0.5840\n",
      "Epoch 123/150\n",
      "\u001b[1m8/8\u001b[0m \u001b[32m━━━━━━━━━━━━━━━━━━━━\u001b[0m\u001b[37m\u001b[0m \u001b[1m0s\u001b[0m 530us/step - accuracy: 0.7259 - loss: 0.5834\n",
      "Epoch 124/150\n",
      "\u001b[1m8/8\u001b[0m \u001b[32m━━━━━━━━━━━━━━━━━━━━\u001b[0m\u001b[37m\u001b[0m \u001b[1m0s\u001b[0m 546us/step - accuracy: 0.7233 - loss: 0.5833\n",
      "Epoch 125/150\n",
      "\u001b[1m8/8\u001b[0m \u001b[32m━━━━━━━━━━━━━━━━━━━━\u001b[0m\u001b[37m\u001b[0m \u001b[1m0s\u001b[0m 568us/step - accuracy: 0.7233 - loss: 0.5821\n",
      "Epoch 126/150\n",
      "\u001b[1m8/8\u001b[0m \u001b[32m━━━━━━━━━━━━━━━━━━━━\u001b[0m\u001b[37m\u001b[0m \u001b[1m0s\u001b[0m 526us/step - accuracy: 0.7233 - loss: 0.5811\n",
      "Epoch 127/150\n",
      "\u001b[1m8/8\u001b[0m \u001b[32m━━━━━━━━━━━━━━━━━━━━\u001b[0m\u001b[37m\u001b[0m \u001b[1m0s\u001b[0m 537us/step - accuracy: 0.7233 - loss: 0.5816\n",
      "Epoch 128/150\n",
      "\u001b[1m8/8\u001b[0m \u001b[32m━━━━━━━━━━━━━━━━━━━━\u001b[0m\u001b[37m\u001b[0m \u001b[1m0s\u001b[0m 613us/step - accuracy: 0.7233 - loss: 0.5811\n",
      "Epoch 129/150\n",
      "\u001b[1m8/8\u001b[0m \u001b[32m━━━━━━━━━━━━━━━━━━━━\u001b[0m\u001b[37m\u001b[0m \u001b[1m0s\u001b[0m 536us/step - accuracy: 0.7233 - loss: 0.5803\n",
      "Epoch 130/150\n",
      "\u001b[1m8/8\u001b[0m \u001b[32m━━━━━━━━━━━━━━━━━━━━\u001b[0m\u001b[37m\u001b[0m \u001b[1m0s\u001b[0m 625us/step - accuracy: 0.7233 - loss: 0.5801\n",
      "Epoch 131/150\n",
      "\u001b[1m8/8\u001b[0m \u001b[32m━━━━━━━━━━━━━━━━━━━━\u001b[0m\u001b[37m\u001b[0m \u001b[1m0s\u001b[0m 533us/step - accuracy: 0.7233 - loss: 0.5801\n",
      "Epoch 132/150\n",
      "\u001b[1m8/8\u001b[0m \u001b[32m━━━━━━━━━━━━━━━━━━━━\u001b[0m\u001b[37m\u001b[0m \u001b[1m0s\u001b[0m 528us/step - accuracy: 0.7233 - loss: 0.5795\n",
      "Epoch 133/150\n",
      "\u001b[1m8/8\u001b[0m \u001b[32m━━━━━━━━━━━━━━━━━━━━\u001b[0m\u001b[37m\u001b[0m \u001b[1m0s\u001b[0m 503us/step - accuracy: 0.7279 - loss: 0.5784\n",
      "Epoch 134/150\n",
      "\u001b[1m8/8\u001b[0m \u001b[32m━━━━━━━━━━━━━━━━━━━━\u001b[0m\u001b[37m\u001b[0m \u001b[1m0s\u001b[0m 2ms/step - accuracy: 0.7233 - loss: 0.5779 \n",
      "Epoch 135/150\n",
      "\u001b[1m8/8\u001b[0m \u001b[32m━━━━━━━━━━━━━━━━━━━━\u001b[0m\u001b[37m\u001b[0m \u001b[1m0s\u001b[0m 769us/step - accuracy: 0.7279 - loss: 0.5783\n",
      "Epoch 136/150\n",
      "\u001b[1m8/8\u001b[0m \u001b[32m━━━━━━━━━━━━━━━━━━━━\u001b[0m\u001b[37m\u001b[0m \u001b[1m0s\u001b[0m 604us/step - accuracy: 0.7233 - loss: 0.5780\n",
      "Epoch 137/150\n",
      "\u001b[1m8/8\u001b[0m \u001b[32m━━━━━━━━━━━━━━━━━━━━\u001b[0m\u001b[37m\u001b[0m \u001b[1m0s\u001b[0m 669us/step - accuracy: 0.7279 - loss: 0.5765\n",
      "Epoch 138/150\n",
      "\u001b[1m8/8\u001b[0m \u001b[32m━━━━━━━━━━━━━━━━━━━━\u001b[0m\u001b[37m\u001b[0m \u001b[1m0s\u001b[0m 590us/step - accuracy: 0.7378 - loss: 0.5760\n",
      "Epoch 139/150\n",
      "\u001b[1m8/8\u001b[0m \u001b[32m━━━━━━━━━━━━━━━━━━━━\u001b[0m\u001b[37m\u001b[0m \u001b[1m0s\u001b[0m 595us/step - accuracy: 0.7378 - loss: 0.5764\n",
      "Epoch 140/150\n",
      "\u001b[1m8/8\u001b[0m \u001b[32m━━━━━━━━━━━━━━━━━━━━\u001b[0m\u001b[37m\u001b[0m \u001b[1m0s\u001b[0m 700us/step - accuracy: 0.7387 - loss: 0.5759\n",
      "Epoch 141/150\n",
      "\u001b[1m8/8\u001b[0m \u001b[32m━━━━━━━━━━━━━━━━━━━━\u001b[0m\u001b[37m\u001b[0m \u001b[1m0s\u001b[0m 567us/step - accuracy: 0.7387 - loss: 0.5745\n",
      "Epoch 142/150\n",
      "\u001b[1m8/8\u001b[0m \u001b[32m━━━━━━━━━━━━━━━━━━━━\u001b[0m\u001b[37m\u001b[0m \u001b[1m0s\u001b[0m 598us/step - accuracy: 0.7387 - loss: 0.5743\n",
      "Epoch 143/150\n",
      "\u001b[1m8/8\u001b[0m \u001b[32m━━━━━━━━━━━━━━━━━━━━\u001b[0m\u001b[37m\u001b[0m \u001b[1m0s\u001b[0m 525us/step - accuracy: 0.7387 - loss: 0.5745\n",
      "Epoch 144/150\n",
      "\u001b[1m8/8\u001b[0m \u001b[32m━━━━━━━━━━━━━━━━━━━━\u001b[0m\u001b[37m\u001b[0m \u001b[1m0s\u001b[0m 675us/step - accuracy: 0.7387 - loss: 0.5741\n",
      "Epoch 145/150\n",
      "\u001b[1m8/8\u001b[0m \u001b[32m━━━━━━━━━━━━━━━━━━━━\u001b[0m\u001b[37m\u001b[0m \u001b[1m0s\u001b[0m 652us/step - accuracy: 0.7451 - loss: 0.5730\n",
      "Epoch 146/150\n",
      "\u001b[1m8/8\u001b[0m \u001b[32m━━━━━━━━━━━━━━━━━━━━\u001b[0m\u001b[37m\u001b[0m \u001b[1m0s\u001b[0m 530us/step - accuracy: 0.7433 - loss: 0.5728\n",
      "Epoch 147/150\n",
      "\u001b[1m8/8\u001b[0m \u001b[32m━━━━━━━━━━━━━━━━━━━━\u001b[0m\u001b[37m\u001b[0m \u001b[1m0s\u001b[0m 5ms/step - accuracy: 0.7451 - loss: 0.5719\n",
      "Epoch 148/150\n",
      "\u001b[1m8/8\u001b[0m \u001b[32m━━━━━━━━━━━━━━━━━━━━\u001b[0m\u001b[37m\u001b[0m \u001b[1m0s\u001b[0m 904us/step - accuracy: 0.7451 - loss: 0.5716\n",
      "Epoch 149/150\n",
      "\u001b[1m8/8\u001b[0m \u001b[32m━━━━━━━━━━━━━━━━━━━━\u001b[0m\u001b[37m\u001b[0m \u001b[1m0s\u001b[0m 632us/step - accuracy: 0.7451 - loss: 0.5712\n",
      "Epoch 150/150\n",
      "\u001b[1m8/8\u001b[0m \u001b[32m━━━━━━━━━━━━━━━━━━━━\u001b[0m\u001b[37m\u001b[0m \u001b[1m0s\u001b[0m 554us/step - accuracy: 0.7451 - loss: 0.5710\n"
     ]
    },
    {
     "data": {
      "text/plain": [
       "<keras.src.callbacks.history.History at 0x3080ed690>"
      ]
     },
     "execution_count": 28,
     "metadata": {},
     "output_type": "execute_result"
    }
   ],
   "source": [
    "optimizer = tf.keras.optimizers.Adam(learning_rate=0.001)\n",
    "loss = tf.keras.losses.BinaryCrossentropy()\n",
    "\n",
    "model.compile(optimizer=optimizer, loss=loss, metrics=['accuracy'])\n",
    "model.fit(X_train, y_train, epochs=150, verbose=1)"
   ]
  },
  {
   "cell_type": "markdown",
   "id": "855b0d29-6725-4526-b6de-e54b2eaa3ad5",
   "metadata": {},
   "source": [
    "From above we can see that the accuracy improves with more epochs - First the accuracy was only 0.5867, but at the end it is around 0.74. Let's now evaluate our model's performance."
   ]
  },
  {
   "cell_type": "markdown",
   "id": "deb81631-706e-45d8-9fa3-8981eee84e91",
   "metadata": {},
   "source": [
    "## Model Evaluation"
   ]
  },
  {
   "cell_type": "code",
   "execution_count": 29,
   "id": "40904192-e4f9-434e-aab0-bb412850e826",
   "metadata": {},
   "outputs": [
    {
     "name": "stdout",
     "output_type": "stream",
     "text": [
      "\u001b[1m8/8\u001b[0m \u001b[32m━━━━━━━━━━━━━━━━━━━━\u001b[0m\u001b[37m\u001b[0m \u001b[1m0s\u001b[0m 1ms/step - accuracy: 0.7453 - loss: 0.5591 \n"
     ]
    },
    {
     "data": {
      "text/plain": [
       "[0.5450096726417542, 0.7490196228027344]"
      ]
     },
     "execution_count": 29,
     "metadata": {},
     "output_type": "execute_result"
    }
   ],
   "source": [
    "model.evaluate(X_train, y_train)"
   ]
  },
  {
   "cell_type": "code",
   "execution_count": 30,
   "id": "ed8b180d-57fa-4fba-94a6-4449188732ea",
   "metadata": {},
   "outputs": [
    {
     "name": "stdout",
     "output_type": "stream",
     "text": [
      "\u001b[1m2/2\u001b[0m \u001b[32m━━━━━━━━━━━━━━━━━━━━\u001b[0m\u001b[37m\u001b[0m \u001b[1m0s\u001b[0m 2ms/step - accuracy: 0.7188 - loss: 0.5546\n"
     ]
    },
    {
     "data": {
      "text/plain": [
       "[0.5392860770225525, 0.75]"
      ]
     },
     "execution_count": 30,
     "metadata": {},
     "output_type": "execute_result"
    }
   ],
   "source": [
    "model.evaluate(X_test, y_test)"
   ]
  },
  {
   "cell_type": "markdown",
   "id": "7ea0c03b-0897-48ff-aeef-b3aa68dc4c0d",
   "metadata": {},
   "source": [
    "Our training data has an accuracy of 74.53%, and our testing data has an accuracy of 71.88%. The lower the loss value is the better, and our training set had a loss value of 0.5591, while the testing set had a loss value of 0.5546.\n",
    "\n",
    "The model performs slightly better with the train data. If the training data has higher accuracy, it could be because of overfitting, so in this case the model might overfit a little, but overall the training and testing accuracy are fairly close to each other, which is a good sign."
   ]
  },
  {
   "cell_type": "markdown",
   "id": "9aaed4e4-5849-4e46-b228-d4997a8a4949",
   "metadata": {},
   "source": [
    "## Conclusion"
   ]
  },
  {
   "cell_type": "markdown",
   "id": "fb86e1b1-f070-41e7-bba0-749cc9bf703e",
   "metadata": {},
   "source": [
    "In this project we built a Deep Learning Classification model using Keras in TensorFlow. We used a real-world IPO dataset and built a classifier algorithm to predict whether an IPO will list at profit or not.\n",
    "\n",
    "We used the Sequential API to build the model, which is achieving a decent accuracy of 70.23% and 73.96% on training and test data, respectively. We see that the accuracy is consistent across the training and test datasets, which is a promising sign.\n",
    "\n",
    "In this project we only build one simple model. With different parameters we could obtain even better results."
   ]
  }
 ],
 "metadata": {
  "kernelspec": {
   "display_name": "Python 3 (ipykernel)",
   "language": "python",
   "name": "python3"
  },
  "language_info": {
   "codemirror_mode": {
    "name": "ipython",
    "version": 3
   },
   "file_extension": ".py",
   "mimetype": "text/x-python",
   "name": "python",
   "nbconvert_exporter": "python",
   "pygments_lexer": "ipython3",
   "version": "3.11.5"
  }
 },
 "nbformat": 4,
 "nbformat_minor": 5
}
