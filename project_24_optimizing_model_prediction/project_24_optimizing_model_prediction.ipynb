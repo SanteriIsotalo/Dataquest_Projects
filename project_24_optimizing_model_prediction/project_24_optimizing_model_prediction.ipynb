{
 "cells": [
  {
   "cell_type": "markdown",
   "id": "33fbf944-13bd-49b0-a6d0-617feb19388a",
   "metadata": {},
   "source": [
    "# Project 24 - Optimizing Model Prediction"
   ]
  },
  {
   "cell_type": "markdown",
   "id": "2bf57622-f366-458c-8e94-5f7287622584",
   "metadata": {},
   "source": [
    "On [previous projects](https://github.com/SanteriIsotalo/Dataquest_Projects) the focus was on constructing a single model and implementing the various ideas learned in that [Dataquest](https://www.dataquest.io) course. For this project, we'll take a different approach: Instead of going with a single model, we'll start with a reference model and then iterate on it using different techniques.\n",
    "<b>Our reference model will be a standard linear regression model, and our machine learning task will be to predict the extent of fire damage to a forest.</b> Our data comes from the [Forest Fires dataset from the UCI Machine Learning Repository](https://archive.ics.uci.edu/dataset/162/forest+fires). This dataset contains information on fires, along with the resulting damage and associated meteorological data. We want to know how these characteristics might be useful in predicting future fire damage."
   ]
  },
  {
   "cell_type": "markdown",
   "id": "62f2a0be-2775-49c2-8c0d-0e834360c9a6",
   "metadata": {},
   "source": [
    "# Reading in the Dataset"
   ]
  },
  {
   "cell_type": "code",
   "execution_count": 1,
   "id": "f3b9b956-25de-4b06-b2bd-449336821278",
   "metadata": {},
   "outputs": [
    {
     "name": "stdout",
     "output_type": "stream",
     "text": [
      "(517, 13)\n"
     ]
    },
    {
     "data": {
      "text/html": [
       "<div>\n",
       "<style scoped>\n",
       "    .dataframe tbody tr th:only-of-type {\n",
       "        vertical-align: middle;\n",
       "    }\n",
       "\n",
       "    .dataframe tbody tr th {\n",
       "        vertical-align: top;\n",
       "    }\n",
       "\n",
       "    .dataframe thead th {\n",
       "        text-align: right;\n",
       "    }\n",
       "</style>\n",
       "<table border=\"1\" class=\"dataframe\">\n",
       "  <thead>\n",
       "    <tr style=\"text-align: right;\">\n",
       "      <th></th>\n",
       "      <th>X</th>\n",
       "      <th>Y</th>\n",
       "      <th>month</th>\n",
       "      <th>day</th>\n",
       "      <th>FFMC</th>\n",
       "      <th>DMC</th>\n",
       "      <th>DC</th>\n",
       "      <th>ISI</th>\n",
       "      <th>temp</th>\n",
       "      <th>RH</th>\n",
       "      <th>wind</th>\n",
       "      <th>rain</th>\n",
       "      <th>area</th>\n",
       "    </tr>\n",
       "  </thead>\n",
       "  <tbody>\n",
       "    <tr>\n",
       "      <th>1</th>\n",
       "      <td>7</td>\n",
       "      <td>5</td>\n",
       "      <td>mar</td>\n",
       "      <td>fri</td>\n",
       "      <td>86.2</td>\n",
       "      <td>26.2</td>\n",
       "      <td>94.3</td>\n",
       "      <td>5.1</td>\n",
       "      <td>NaN</td>\n",
       "      <td>51.0</td>\n",
       "      <td>6.7</td>\n",
       "      <td>0.0</td>\n",
       "      <td>0.0</td>\n",
       "    </tr>\n",
       "    <tr>\n",
       "      <th>2</th>\n",
       "      <td>7</td>\n",
       "      <td>4</td>\n",
       "      <td>oct</td>\n",
       "      <td>tue</td>\n",
       "      <td>90.6</td>\n",
       "      <td>NaN</td>\n",
       "      <td>669.1</td>\n",
       "      <td>6.7</td>\n",
       "      <td>18.0</td>\n",
       "      <td>33.0</td>\n",
       "      <td>0.9</td>\n",
       "      <td>0.0</td>\n",
       "      <td>0.0</td>\n",
       "    </tr>\n",
       "    <tr>\n",
       "      <th>3</th>\n",
       "      <td>7</td>\n",
       "      <td>4</td>\n",
       "      <td>oct</td>\n",
       "      <td>sat</td>\n",
       "      <td>90.6</td>\n",
       "      <td>43.7</td>\n",
       "      <td>NaN</td>\n",
       "      <td>6.7</td>\n",
       "      <td>14.6</td>\n",
       "      <td>33.0</td>\n",
       "      <td>1.3</td>\n",
       "      <td>0.0</td>\n",
       "      <td>0.0</td>\n",
       "    </tr>\n",
       "    <tr>\n",
       "      <th>4</th>\n",
       "      <td>8</td>\n",
       "      <td>6</td>\n",
       "      <td>mar</td>\n",
       "      <td>fri</td>\n",
       "      <td>91.7</td>\n",
       "      <td>33.3</td>\n",
       "      <td>77.5</td>\n",
       "      <td>9.0</td>\n",
       "      <td>8.3</td>\n",
       "      <td>97.0</td>\n",
       "      <td>4.0</td>\n",
       "      <td>0.2</td>\n",
       "      <td>0.0</td>\n",
       "    </tr>\n",
       "    <tr>\n",
       "      <th>5</th>\n",
       "      <td>8</td>\n",
       "      <td>6</td>\n",
       "      <td>mar</td>\n",
       "      <td>sun</td>\n",
       "      <td>89.3</td>\n",
       "      <td>51.3</td>\n",
       "      <td>102.2</td>\n",
       "      <td>9.6</td>\n",
       "      <td>11.4</td>\n",
       "      <td>99.0</td>\n",
       "      <td>NaN</td>\n",
       "      <td>0.0</td>\n",
       "      <td>0.0</td>\n",
       "    </tr>\n",
       "  </tbody>\n",
       "</table>\n",
       "</div>"
      ],
      "text/plain": [
       "   X  Y month  day  FFMC   DMC     DC  ISI  temp    RH  wind  rain  area\n",
       "1  7  5   mar  fri  86.2  26.2   94.3  5.1   NaN  51.0   6.7   0.0   0.0\n",
       "2  7  4   oct  tue  90.6   NaN  669.1  6.7  18.0  33.0   0.9   0.0   0.0\n",
       "3  7  4   oct  sat  90.6  43.7    NaN  6.7  14.6  33.0   1.3   0.0   0.0\n",
       "4  8  6   mar  fri  91.7  33.3   77.5  9.0   8.3  97.0   4.0   0.2   0.0\n",
       "5  8  6   mar  sun  89.3  51.3  102.2  9.6  11.4  99.0   NaN   0.0   0.0"
      ]
     },
     "execution_count": 1,
     "metadata": {},
     "output_type": "execute_result"
    }
   ],
   "source": [
    "import pandas as pd\n",
    "import numpy as np\n",
    "from sklearn.linear_model import LinearRegression\n",
    "import matplotlib.pyplot as plt\n",
    "\n",
    "fires = pd.read_csv('fires.csv', index_col=0)\n",
    "print(fires.shape)\n",
    "fires.head()"
   ]
  },
  {
   "cell_type": "markdown",
   "id": "e447367b-f982-40be-bff8-faf72431bed1",
   "metadata": {},
   "source": [
    "From the documentation we can see that the columns mean the following:\n",
    "|Column name|Description|\n",
    "|-----------|-----------|\n",
    "|X|x-axis spatial coordinate within the Montensinho park map: 1 to 9|\n",
    "|Y|y-axis spatial coordinate within the Montensinho park map: 2 to 9|\n",
    "|month|month of the year, 'jan' to 'dec'|\n",
    "|day|day of the week 'mon' to 'sun'|\n",
    "|FFMC|FFMC index from the FWI system: 18.7 to 96.20|\n",
    "|DMC|DMC index from the FWI system: 1.1 to 291.3|\n",
    "|DX|DC index from the FWI system: 7.9 to 860.6|\n",
    "|ISI|ISI index from the FWI system: 0.0 to 56.10|\n",
    "|temp| temperature: 2.2 to 33.3 (Celsius degrees)|\n",
    "|RH | relative humidity: 15 to 100 (%)|\n",
    "|wind| wind speed 0.4 to 9.4 (km/h)|\n",
    "|rain| outside rain: 0.0 to 6.4 (mm/mm2)|\n",
    "|area| the burned are of the forest: 0.00 to 1090.84 (ha) |"
   ]
  },
  {
   "cell_type": "markdown",
   "id": "0a5db532-4568-470f-b2ab-f4e074d66cac",
   "metadata": {},
   "source": [
    "## Data Processing"
   ]
  },
  {
   "cell_type": "markdown",
   "id": "42ccfa71-3059-4ecd-9774-9d674864c10f",
   "metadata": {},
   "source": [
    "Next we are going to clean our data. I will go through each column and check if there is something that should be fixed."
   ]
  },
  {
   "cell_type": "markdown",
   "id": "a37efb0d-d270-4120-aaa4-a70fb8ea427e",
   "metadata": {},
   "source": [
    "### X and Y"
   ]
  },
  {
   "cell_type": "code",
   "execution_count": 2,
   "id": "5100214c-2888-4b58-8a37-384e7ac2a7f8",
   "metadata": {},
   "outputs": [
    {
     "name": "stdout",
     "output_type": "stream",
     "text": [
      "0\n",
      "0\n",
      "X\n",
      "1    48\n",
      "2    73\n",
      "3    55\n",
      "4    91\n",
      "5    30\n",
      "6    86\n",
      "7    60\n",
      "8    61\n",
      "9    13\n",
      "Name: count, dtype: int64\n",
      "Y\n",
      "2     44\n",
      "3     64\n",
      "4    203\n",
      "5    125\n",
      "6     74\n",
      "8      1\n",
      "9      6\n",
      "Name: count, dtype: int64\n"
     ]
    }
   ],
   "source": [
    "print(fires['X'].isnull().sum())\n",
    "print(fires['Y'].isnull().sum())\n",
    "print(fires['X'].value_counts().sort_index())\n",
    "print(fires['Y'].value_counts().sort_index())"
   ]
  },
  {
   "cell_type": "markdown",
   "id": "24844441-9b90-4826-8bfb-8434efdb70a7",
   "metadata": {},
   "source": [
    "X and Y columns have no null values, and all of the values seem to be correct (X from 1 to 9, Y from 2 to 9)"
   ]
  },
  {
   "cell_type": "markdown",
   "id": "90ae8fc3-1163-4963-87e8-084d862f9348",
   "metadata": {},
   "source": [
    "### Month and Day"
   ]
  },
  {
   "cell_type": "code",
   "execution_count": 3,
   "id": "3acd88ae-20fa-40d1-b42a-8a6e109547d6",
   "metadata": {},
   "outputs": [
    {
     "name": "stdout",
     "output_type": "stream",
     "text": [
      "0\n",
      "0\n",
      "months: ['mar' 'oct' 'aug' 'sep' 'apr' 'jun' 'jul' 'feb' 'jan' 'dec' 'may' 'nov']\n",
      "days: ['fri' 'tue' 'sat' 'sun' 'mon' 'wed' 'thu']\n"
     ]
    }
   ],
   "source": [
    "print(fires['month'].isnull().sum())\n",
    "print(fires['day'].isnull().sum())\n",
    "print(f\"months: {fires['month'].unique()}\")\n",
    "print(f\"days: {fires['day'].unique()}\")"
   ]
  },
  {
   "cell_type": "markdown",
   "id": "dd836d36-9524-410b-8e17-81606a56a64d",
   "metadata": {},
   "source": [
    "These values seem to be correct, but to use them in our model we need to change them to numerical values. I will change months from 1 to 12 and days from 0 to 6."
   ]
  },
  {
   "cell_type": "code",
   "execution_count": 4,
   "id": "7ce95542-9ae8-474c-9c90-010a4da3a705",
   "metadata": {},
   "outputs": [
    {
     "name": "stdout",
     "output_type": "stream",
     "text": [
      "months: [ 3 10  8  9  4  6  7  2  1 12  5 11]\n",
      "days: [4 1 5 6 0 2 3]\n"
     ]
    }
   ],
   "source": [
    "#removing warnings\n",
    "pd.set_option('future.no_silent_downcasting', True)\n",
    "\n",
    "fires['day'] = fires['day'].replace({'mon': 0,\n",
    "                                    'tue': 1,\n",
    "                                    'wed': 2,\n",
    "                                    'thu': 3,\n",
    "                                    'fri': 4,\n",
    "                                    'sat': 5,\n",
    "                                    'sun': 6}).astype('int')\n",
    "fires['month'] = fires['month'].replace({'jan': 1,\n",
    "                                         'feb': 2,\n",
    "                                         'mar': 3,\n",
    "                                         'apr': 4,\n",
    "                                         'may': 5,\n",
    "                                         'jun': 6,\n",
    "                                         'jul': 7,\n",
    "                                         'aug': 8,\n",
    "                                         'sep': 9,\n",
    "                                         'oct': 10,\n",
    "                                         'nov': 11,\n",
    "                                         'dec': 12}).astype('int')\n",
    "print(f\"months: {fires['month'].unique()}\")\n",
    "print(f\"days: {fires['day'].unique()}\")"
   ]
  },
  {
   "cell_type": "code",
   "execution_count": 5,
   "id": "1de006b7-8b3f-41b1-a75f-69192a43d7f4",
   "metadata": {},
   "outputs": [
    {
     "data": {
      "image/png": "[encoded data removed]",
      "text/plain": [
       "<Figure size 640x480 with 1 Axes>"
      ]
     },
     "metadata": {},
     "output_type": "display_data"
    }
   ],
   "source": [
    "fires['month'].value_counts().sort_index().plot(kind='bar')\n",
    "plt.axhline(fires['month'].value_counts().mean())\n",
    "plt.show()"
   ]
  },
  {
   "cell_type": "markdown",
   "id": "930a9d3c-147a-4cee-b564-40c46156b754",
   "metadata": {},
   "source": [
    "We can see that most fires occur during August and September. I thought about changing `months` to `summer` with either 0 for no and 1 for yes to get around 50/50 yes and no values (September is not summer), but I'll skip that at least for now. Let's check are the days equally distributed."
   ]
  },
  {
   "cell_type": "code",
   "execution_count": 6,
   "id": "ba65e0c8-22ed-47cb-b92a-14d9e04eb49a",
   "metadata": {},
   "outputs": [
    {
     "data": {
      "image/png": "[encoded data removed]",
      "text/plain": [
       "<Figure size 640x480 with 1 Axes>"
      ]
     },
     "metadata": {},
     "output_type": "display_data"
    }
   ],
   "source": [
    "fires['day'].value_counts().sort_index().plot(kind='bar')\n",
    "plt.axhline(fires['day'].value_counts().mean())\n",
    "plt.show()"
   ]
  },
  {
   "cell_type": "markdown",
   "id": "62957af4-9a1c-46eb-9309-e5e3b6afa54e",
   "metadata": {},
   "source": [
    "From the plot above we can see that there are more fires during weekends (Friday, Saturday and Sunday) than during weekdays. I will change the `day` column to `weekend` with `1` for `True` and `0` for `False`."
   ]
  },
  {
   "cell_type": "code",
   "execution_count": 7,
   "id": "7544ae2a-9a35-4c74-b6df-3aae4fcdcfd3",
   "metadata": {},
   "outputs": [
    {
     "data": {
      "text/html": [
       "<div>\n",
       "<style scoped>\n",
       "    .dataframe tbody tr th:only-of-type {\n",
       "        vertical-align: middle;\n",
       "    }\n",
       "\n",
       "    .dataframe tbody tr th {\n",
       "        vertical-align: top;\n",
       "    }\n",
       "\n",
       "    .dataframe thead th {\n",
       "        text-align: right;\n",
       "    }\n",
       "</style>\n",
       "<table border=\"1\" class=\"dataframe\">\n",
       "  <thead>\n",
       "    <tr style=\"text-align: right;\">\n",
       "      <th></th>\n",
       "      <th>X</th>\n",
       "      <th>Y</th>\n",
       "      <th>month</th>\n",
       "      <th>weekend</th>\n",
       "      <th>FFMC</th>\n",
       "      <th>DMC</th>\n",
       "      <th>DC</th>\n",
       "      <th>ISI</th>\n",
       "      <th>temp</th>\n",
       "      <th>RH</th>\n",
       "      <th>wind</th>\n",
       "      <th>rain</th>\n",
       "      <th>area</th>\n",
       "    </tr>\n",
       "  </thead>\n",
       "  <tbody>\n",
       "    <tr>\n",
       "      <th>296</th>\n",
       "      <td>7</td>\n",
       "      <td>5</td>\n",
       "      <td>6</td>\n",
       "      <td>1</td>\n",
       "      <td>93.1</td>\n",
       "      <td>180.4</td>\n",
       "      <td>430.8</td>\n",
       "      <td>11.0</td>\n",
       "      <td>22.2</td>\n",
       "      <td>NaN</td>\n",
       "      <td>1.3</td>\n",
       "      <td>0.0</td>\n",
       "      <td>0.00</td>\n",
       "    </tr>\n",
       "    <tr>\n",
       "      <th>208</th>\n",
       "      <td>7</td>\n",
       "      <td>5</td>\n",
       "      <td>9</td>\n",
       "      <td>0</td>\n",
       "      <td>91.0</td>\n",
       "      <td>129.5</td>\n",
       "      <td>692.6</td>\n",
       "      <td>7.0</td>\n",
       "      <td>20.7</td>\n",
       "      <td>37.0</td>\n",
       "      <td>2.2</td>\n",
       "      <td>0.0</td>\n",
       "      <td>17.20</td>\n",
       "    </tr>\n",
       "    <tr>\n",
       "      <th>494</th>\n",
       "      <td>1</td>\n",
       "      <td>3</td>\n",
       "      <td>8</td>\n",
       "      <td>1</td>\n",
       "      <td>95.9</td>\n",
       "      <td>158.0</td>\n",
       "      <td>633.6</td>\n",
       "      <td>11.3</td>\n",
       "      <td>27.5</td>\n",
       "      <td>29.0</td>\n",
       "      <td>4.5</td>\n",
       "      <td>0.0</td>\n",
       "      <td>43.32</td>\n",
       "    </tr>\n",
       "    <tr>\n",
       "      <th>396</th>\n",
       "      <td>4</td>\n",
       "      <td>5</td>\n",
       "      <td>2</td>\n",
       "      <td>1</td>\n",
       "      <td>85.0</td>\n",
       "      <td>9.0</td>\n",
       "      <td>56.9</td>\n",
       "      <td>3.5</td>\n",
       "      <td>10.1</td>\n",
       "      <td>62.0</td>\n",
       "      <td>1.8</td>\n",
       "      <td>0.0</td>\n",
       "      <td>51.78</td>\n",
       "    </tr>\n",
       "    <tr>\n",
       "      <th>287</th>\n",
       "      <td>7</td>\n",
       "      <td>6</td>\n",
       "      <td>7</td>\n",
       "      <td>0</td>\n",
       "      <td>91.2</td>\n",
       "      <td>183.1</td>\n",
       "      <td>437.7</td>\n",
       "      <td>12.5</td>\n",
       "      <td>12.6</td>\n",
       "      <td>90.0</td>\n",
       "      <td>7.6</td>\n",
       "      <td>0.2</td>\n",
       "      <td>0.00</td>\n",
       "    </tr>\n",
       "  </tbody>\n",
       "</table>\n",
       "</div>"
      ],
      "text/plain": [
       "     X  Y  month  weekend  FFMC    DMC     DC   ISI  temp    RH  wind  rain  \\\n",
       "296  7  5      6        1  93.1  180.4  430.8  11.0  22.2   NaN   1.3   0.0   \n",
       "208  7  5      9        0  91.0  129.5  692.6   7.0  20.7  37.0   2.2   0.0   \n",
       "494  1  3      8        1  95.9  158.0  633.6  11.3  27.5  29.0   4.5   0.0   \n",
       "396  4  5      2        1  85.0    9.0   56.9   3.5  10.1  62.0   1.8   0.0   \n",
       "287  7  6      7        0  91.2  183.1  437.7  12.5  12.6  90.0   7.6   0.2   \n",
       "\n",
       "      area  \n",
       "296   0.00  \n",
       "208  17.20  \n",
       "494  43.32  \n",
       "396  51.78  \n",
       "287   0.00  "
      ]
     },
     "execution_count": 7,
     "metadata": {},
     "output_type": "execute_result"
    }
   ],
   "source": [
    "fires['day'] = fires['day'].apply(lambda x: 1 if x in [4,5,6] else 0)\n",
    "fires = fires.rename(columns = {'day': 'weekend'})\n",
    "fires.sample(5)"
   ]
  },
  {
   "cell_type": "markdown",
   "id": "f8d1616d-baee-4a40-848f-6812d77d95f2",
   "metadata": {},
   "source": [
    "## FFMC"
   ]
  },
  {
   "cell_type": "code",
   "execution_count": 8,
   "id": "8e6c9cb7-0fed-4fee-ba85-ffffe26ea83a",
   "metadata": {},
   "outputs": [
    {
     "name": "stdout",
     "output_type": "stream",
     "text": [
      "48\n"
     ]
    }
   ],
   "source": [
    "print(fires['FFMC'].isnull().sum())"
   ]
  },
  {
   "cell_type": "markdown",
   "id": "1bd07a8d-e5b4-4bea-a243-ae22ee016258",
   "metadata": {},
   "source": [
    "There are 48 null values in the `FFMC` column. Our whole dataset has 517 rows, so deleting these would remove almost 10% of our data."
   ]
  },
  {
   "cell_type": "code",
   "execution_count": 9,
   "id": "a21472e3-d3e3-4c43-b4d1-376f48a67095",
   "metadata": {},
   "outputs": [
    {
     "name": "stdout",
     "output_type": "stream",
     "text": [
      "FFMC mean value is: 90.58038379530916\n"
     ]
    },
    {
     "data": {
      "image/png": "[encoded data removed]",
      "text/plain": [
       "<Figure size 640x480 with 1 Axes>"
      ]
     },
     "metadata": {},
     "output_type": "display_data"
    },
    {
     "data": {
      "image/png": "[encoded data removed]",
      "text/plain": [
       "<Figure size 640x480 with 1 Axes>"
      ]
     },
     "metadata": {},
     "output_type": "display_data"
    }
   ],
   "source": [
    "import matplotlib.pyplot as plt\n",
    "import seaborn as sns\n",
    "print(f\"FFMC mean value is: {fires['FFMC'].mean()}\")\n",
    "\n",
    "plt.hist(fires['FFMC'])\n",
    "plt.show()\n",
    "\n",
    "sns.boxplot(data=fires['FFMC'])\n",
    "plt.show()"
   ]
  },
  {
   "cell_type": "markdown",
   "id": "8bd37539-3758-40b6-9cce-8e27c325c5c4",
   "metadata": {},
   "source": [
    "From the histogram we can see that almost all values are between 80 and 100. The distribution is very left skewed. If we get the mean value for this column, we get 90.58. I will assign this mean value to all the missing values. We can also see that there are multiple outliers, but one is a very clear outlier (value of 20). Let's examine that more."
   ]
  },
  {
   "cell_type": "code",
   "execution_count": 10,
   "id": "0d312518-33aa-434d-9e99-ae5ede879471",
   "metadata": {},
   "outputs": [
    {
     "data": {
      "text/html": [
       "<div>\n",
       "<style scoped>\n",
       "    .dataframe tbody tr th:only-of-type {\n",
       "        vertical-align: middle;\n",
       "    }\n",
       "\n",
       "    .dataframe tbody tr th {\n",
       "        vertical-align: top;\n",
       "    }\n",
       "\n",
       "    .dataframe thead th {\n",
       "        text-align: right;\n",
       "    }\n",
       "</style>\n",
       "<table border=\"1\" class=\"dataframe\">\n",
       "  <thead>\n",
       "    <tr style=\"text-align: right;\">\n",
       "      <th></th>\n",
       "      <th>X</th>\n",
       "      <th>Y</th>\n",
       "      <th>month</th>\n",
       "      <th>weekend</th>\n",
       "      <th>FFMC</th>\n",
       "      <th>DMC</th>\n",
       "      <th>DC</th>\n",
       "      <th>ISI</th>\n",
       "      <th>temp</th>\n",
       "      <th>RH</th>\n",
       "      <th>wind</th>\n",
       "      <th>rain</th>\n",
       "      <th>area</th>\n",
       "    </tr>\n",
       "  </thead>\n",
       "  <tbody>\n",
       "    <tr>\n",
       "      <th>380</th>\n",
       "      <td>4</td>\n",
       "      <td>5</td>\n",
       "      <td>1</td>\n",
       "      <td>1</td>\n",
       "      <td>18.7</td>\n",
       "      <td>1.1</td>\n",
       "      <td>171.4</td>\n",
       "      <td>0.0</td>\n",
       "      <td>5.2</td>\n",
       "      <td>100.0</td>\n",
       "      <td>0.9</td>\n",
       "      <td>0.0</td>\n",
       "      <td>0.0</td>\n",
       "    </tr>\n",
       "  </tbody>\n",
       "</table>\n",
       "</div>"
      ],
      "text/plain": [
       "     X  Y  month  weekend  FFMC  DMC     DC  ISI  temp     RH  wind  rain  \\\n",
       "380  4  5      1        1  18.7  1.1  171.4  0.0   5.2  100.0   0.9   0.0   \n",
       "\n",
       "     area  \n",
       "380   0.0  "
      ]
     },
     "execution_count": 10,
     "metadata": {},
     "output_type": "execute_result"
    }
   ],
   "source": [
    "fires['FFMC'] = fires['FFMC'].fillna(fires['FFMC'].mean())\n",
    "outlier_ffmc = fires[fires['FFMC'] < 25]\n",
    "outlier_ffmc"
   ]
  },
  {
   "cell_type": "markdown",
   "id": "0efb4c5d-6605-4c7f-b28f-741e29fcb32a",
   "metadata": {},
   "source": [
    "While this observation is probably correctly measured, we are going to remove it, because it is very clearly an extreme outlier. FFMC means Fine Fuel Moisture Code, and value of 18.7 would mean that the fuel would have to be extremely wet. This could be because the humidity is 100.0, but we will remove it any way, because it will most likely have a negative effect on our model. We will keep the other outliers for now."
   ]
  },
  {
   "cell_type": "code",
   "execution_count": 11,
   "id": "a17060d4-fe52-4bbb-bc68-f24fda128be1",
   "metadata": {},
   "outputs": [
    {
     "data": {
      "image/png": "[encoded data removed]",
      "text/plain": [
       "<Figure size 640x480 with 1 Axes>"
      ]
     },
     "metadata": {},
     "output_type": "display_data"
    }
   ],
   "source": [
    "fires = fires[fires['FFMC'] >= 25]\n",
    "plt.hist(fires['FFMC'])\n",
    "plt.show()"
   ]
  },
  {
   "cell_type": "markdown",
   "id": "d1c8889d-5f1f-4a0d-ad55-6757a1166f4c",
   "metadata": {},
   "source": [
    "## DMC "
   ]
  },
  {
   "cell_type": "code",
   "execution_count": 12,
   "id": "b1ee9baa-bdc2-4a25-b6b7-ceca41542de3",
   "metadata": {},
   "outputs": [
    {
     "name": "stdout",
     "output_type": "stream",
     "text": [
      "21\n"
     ]
    }
   ],
   "source": [
    "print(fires['DMC'].isnull().sum())"
   ]
  },
  {
   "cell_type": "markdown",
   "id": "03de43df-510a-4f19-9712-847f6bd63097",
   "metadata": {},
   "source": [
    "`DMC` column contains 21 null values. Let's examine those closer."
   ]
  },
  {
   "cell_type": "code",
   "execution_count": 13,
   "id": "6f5cb4a5-76c6-4d35-b984-ddc06ec39816",
   "metadata": {},
   "outputs": [
    {
     "data": {
      "text/html": [
       "<div>\n",
       "<style scoped>\n",
       "    .dataframe tbody tr th:only-of-type {\n",
       "        vertical-align: middle;\n",
       "    }\n",
       "\n",
       "    .dataframe tbody tr th {\n",
       "        vertical-align: top;\n",
       "    }\n",
       "\n",
       "    .dataframe thead th {\n",
       "        text-align: right;\n",
       "    }\n",
       "</style>\n",
       "<table border=\"1\" class=\"dataframe\">\n",
       "  <thead>\n",
       "    <tr style=\"text-align: right;\">\n",
       "      <th></th>\n",
       "      <th>X</th>\n",
       "      <th>Y</th>\n",
       "      <th>month</th>\n",
       "      <th>weekend</th>\n",
       "      <th>FFMC</th>\n",
       "      <th>DMC</th>\n",
       "      <th>DC</th>\n",
       "      <th>ISI</th>\n",
       "      <th>temp</th>\n",
       "      <th>RH</th>\n",
       "      <th>wind</th>\n",
       "      <th>rain</th>\n",
       "      <th>area</th>\n",
       "    </tr>\n",
       "  </thead>\n",
       "  <tbody>\n",
       "    <tr>\n",
       "      <th>2</th>\n",
       "      <td>7</td>\n",
       "      <td>4</td>\n",
       "      <td>10</td>\n",
       "      <td>0</td>\n",
       "      <td>90.600000</td>\n",
       "      <td>NaN</td>\n",
       "      <td>669.1</td>\n",
       "      <td>6.7</td>\n",
       "      <td>18.0</td>\n",
       "      <td>33.0</td>\n",
       "      <td>0.9</td>\n",
       "      <td>0.0</td>\n",
       "      <td>0.00</td>\n",
       "    </tr>\n",
       "    <tr>\n",
       "      <th>19</th>\n",
       "      <td>6</td>\n",
       "      <td>4</td>\n",
       "      <td>3</td>\n",
       "      <td>0</td>\n",
       "      <td>89.200000</td>\n",
       "      <td>NaN</td>\n",
       "      <td>70.8</td>\n",
       "      <td>6.3</td>\n",
       "      <td>15.9</td>\n",
       "      <td>35.0</td>\n",
       "      <td>4.0</td>\n",
       "      <td>0.0</td>\n",
       "      <td>0.00</td>\n",
       "    </tr>\n",
       "    <tr>\n",
       "      <th>38</th>\n",
       "      <td>7</td>\n",
       "      <td>4</td>\n",
       "      <td>10</td>\n",
       "      <td>1</td>\n",
       "      <td>90.580384</td>\n",
       "      <td>NaN</td>\n",
       "      <td>682.6</td>\n",
       "      <td>8.7</td>\n",
       "      <td>11.3</td>\n",
       "      <td>60.0</td>\n",
       "      <td>5.4</td>\n",
       "      <td>0.0</td>\n",
       "      <td>0.00</td>\n",
       "    </tr>\n",
       "    <tr>\n",
       "      <th>51</th>\n",
       "      <td>4</td>\n",
       "      <td>4</td>\n",
       "      <td>9</td>\n",
       "      <td>0</td>\n",
       "      <td>92.900000</td>\n",
       "      <td>NaN</td>\n",
       "      <td>706.4</td>\n",
       "      <td>9.2</td>\n",
       "      <td>20.8</td>\n",
       "      <td>17.0</td>\n",
       "      <td>1.3</td>\n",
       "      <td>0.0</td>\n",
       "      <td>0.00</td>\n",
       "    </tr>\n",
       "    <tr>\n",
       "      <th>53</th>\n",
       "      <td>4</td>\n",
       "      <td>3</td>\n",
       "      <td>8</td>\n",
       "      <td>0</td>\n",
       "      <td>92.100000</td>\n",
       "      <td>NaN</td>\n",
       "      <td>654.1</td>\n",
       "      <td>9.6</td>\n",
       "      <td>20.4</td>\n",
       "      <td>42.0</td>\n",
       "      <td>4.9</td>\n",
       "      <td>0.0</td>\n",
       "      <td>0.00</td>\n",
       "    </tr>\n",
       "    <tr>\n",
       "      <th>112</th>\n",
       "      <td>3</td>\n",
       "      <td>4</td>\n",
       "      <td>3</td>\n",
       "      <td>1</td>\n",
       "      <td>91.700000</td>\n",
       "      <td>NaN</td>\n",
       "      <td>77.5</td>\n",
       "      <td>9.0</td>\n",
       "      <td>18.8</td>\n",
       "      <td>NaN</td>\n",
       "      <td>4.5</td>\n",
       "      <td>0.0</td>\n",
       "      <td>0.00</td>\n",
       "    </tr>\n",
       "    <tr>\n",
       "      <th>129</th>\n",
       "      <td>3</td>\n",
       "      <td>5</td>\n",
       "      <td>10</td>\n",
       "      <td>0</td>\n",
       "      <td>91.400000</td>\n",
       "      <td>NaN</td>\n",
       "      <td>673.8</td>\n",
       "      <td>5.2</td>\n",
       "      <td>15.9</td>\n",
       "      <td>46.0</td>\n",
       "      <td>3.6</td>\n",
       "      <td>0.0</td>\n",
       "      <td>0.00</td>\n",
       "    </tr>\n",
       "    <tr>\n",
       "      <th>196</th>\n",
       "      <td>2</td>\n",
       "      <td>5</td>\n",
       "      <td>8</td>\n",
       "      <td>1</td>\n",
       "      <td>93.900000</td>\n",
       "      <td>NaN</td>\n",
       "      <td>586.7</td>\n",
       "      <td>15.1</td>\n",
       "      <td>23.5</td>\n",
       "      <td>36.0</td>\n",
       "      <td>5.4</td>\n",
       "      <td>0.0</td>\n",
       "      <td>10.02</td>\n",
       "    </tr>\n",
       "    <tr>\n",
       "      <th>219</th>\n",
       "      <td>4</td>\n",
       "      <td>5</td>\n",
       "      <td>9</td>\n",
       "      <td>0</td>\n",
       "      <td>92.900000</td>\n",
       "      <td>NaN</td>\n",
       "      <td>699.6</td>\n",
       "      <td>9.2</td>\n",
       "      <td>19.4</td>\n",
       "      <td>19.0</td>\n",
       "      <td>1.3</td>\n",
       "      <td>0.0</td>\n",
       "      <td>31.72</td>\n",
       "    </tr>\n",
       "    <tr>\n",
       "      <th>221</th>\n",
       "      <td>8</td>\n",
       "      <td>6</td>\n",
       "      <td>8</td>\n",
       "      <td>1</td>\n",
       "      <td>90.200000</td>\n",
       "      <td>NaN</td>\n",
       "      <td>631.2</td>\n",
       "      <td>6.3</td>\n",
       "      <td>16.2</td>\n",
       "      <td>59.0</td>\n",
       "      <td>3.1</td>\n",
       "      <td>NaN</td>\n",
       "      <td>32.07</td>\n",
       "    </tr>\n",
       "    <tr>\n",
       "      <th>231</th>\n",
       "      <td>4</td>\n",
       "      <td>4</td>\n",
       "      <td>9</td>\n",
       "      <td>0</td>\n",
       "      <td>92.900000</td>\n",
       "      <td>NaN</td>\n",
       "      <td>699.6</td>\n",
       "      <td>9.2</td>\n",
       "      <td>26.4</td>\n",
       "      <td>21.0</td>\n",
       "      <td>4.5</td>\n",
       "      <td>0.0</td>\n",
       "      <td>88.49</td>\n",
       "    </tr>\n",
       "    <tr>\n",
       "      <th>247</th>\n",
       "      <td>5</td>\n",
       "      <td>4</td>\n",
       "      <td>8</td>\n",
       "      <td>1</td>\n",
       "      <td>91.800000</td>\n",
       "      <td>NaN</td>\n",
       "      <td>700.7</td>\n",
       "      <td>13.8</td>\n",
       "      <td>25.7</td>\n",
       "      <td>39.0</td>\n",
       "      <td>5.4</td>\n",
       "      <td>0.0</td>\n",
       "      <td>0.09</td>\n",
       "    </tr>\n",
       "    <tr>\n",
       "      <th>250</th>\n",
       "      <td>3</td>\n",
       "      <td>4</td>\n",
       "      <td>8</td>\n",
       "      <td>0</td>\n",
       "      <td>90.580384</td>\n",
       "      <td>NaN</td>\n",
       "      <td>666.7</td>\n",
       "      <td>13.5</td>\n",
       "      <td>21.7</td>\n",
       "      <td>40.0</td>\n",
       "      <td>0.4</td>\n",
       "      <td>0.0</td>\n",
       "      <td>2.47</td>\n",
       "    </tr>\n",
       "    <tr>\n",
       "      <th>268</th>\n",
       "      <td>2</td>\n",
       "      <td>2</td>\n",
       "      <td>8</td>\n",
       "      <td>0</td>\n",
       "      <td>92.100000</td>\n",
       "      <td>NaN</td>\n",
       "      <td>658.2</td>\n",
       "      <td>14.3</td>\n",
       "      <td>23.7</td>\n",
       "      <td>24.0</td>\n",
       "      <td>3.1</td>\n",
       "      <td>0.0</td>\n",
       "      <td>0.00</td>\n",
       "    </tr>\n",
       "    <tr>\n",
       "      <th>277</th>\n",
       "      <td>4</td>\n",
       "      <td>4</td>\n",
       "      <td>12</td>\n",
       "      <td>0</td>\n",
       "      <td>85.400000</td>\n",
       "      <td>NaN</td>\n",
       "      <td>349.7</td>\n",
       "      <td>2.6</td>\n",
       "      <td>4.6</td>\n",
       "      <td>21.0</td>\n",
       "      <td>8.5</td>\n",
       "      <td>0.0</td>\n",
       "      <td>17.85</td>\n",
       "    </tr>\n",
       "    <tr>\n",
       "      <th>278</th>\n",
       "      <td>3</td>\n",
       "      <td>4</td>\n",
       "      <td>12</td>\n",
       "      <td>0</td>\n",
       "      <td>85.400000</td>\n",
       "      <td>NaN</td>\n",
       "      <td>349.7</td>\n",
       "      <td>2.6</td>\n",
       "      <td>4.6</td>\n",
       "      <td>21.0</td>\n",
       "      <td>8.5</td>\n",
       "      <td>0.0</td>\n",
       "      <td>10.73</td>\n",
       "    </tr>\n",
       "    <tr>\n",
       "      <th>403</th>\n",
       "      <td>9</td>\n",
       "      <td>9</td>\n",
       "      <td>8</td>\n",
       "      <td>1</td>\n",
       "      <td>94.800000</td>\n",
       "      <td>NaN</td>\n",
       "      <td>706.7</td>\n",
       "      <td>12.0</td>\n",
       "      <td>25.0</td>\n",
       "      <td>36.0</td>\n",
       "      <td>4.0</td>\n",
       "      <td>0.0</td>\n",
       "      <td>0.00</td>\n",
       "    </tr>\n",
       "    <tr>\n",
       "      <th>428</th>\n",
       "      <td>2</td>\n",
       "      <td>4</td>\n",
       "      <td>8</td>\n",
       "      <td>0</td>\n",
       "      <td>92.100000</td>\n",
       "      <td>NaN</td>\n",
       "      <td>672.6</td>\n",
       "      <td>8.2</td>\n",
       "      <td>NaN</td>\n",
       "      <td>33.0</td>\n",
       "      <td>2.2</td>\n",
       "      <td>0.0</td>\n",
       "      <td>2.35</td>\n",
       "    </tr>\n",
       "    <tr>\n",
       "      <th>436</th>\n",
       "      <td>2</td>\n",
       "      <td>5</td>\n",
       "      <td>7</td>\n",
       "      <td>1</td>\n",
       "      <td>90.800000</td>\n",
       "      <td>NaN</td>\n",
       "      <td>NaN</td>\n",
       "      <td>5.6</td>\n",
       "      <td>23.8</td>\n",
       "      <td>51.0</td>\n",
       "      <td>1.8</td>\n",
       "      <td>0.0</td>\n",
       "      <td>0.00</td>\n",
       "    </tr>\n",
       "    <tr>\n",
       "      <th>469</th>\n",
       "      <td>6</td>\n",
       "      <td>5</td>\n",
       "      <td>3</td>\n",
       "      <td>0</td>\n",
       "      <td>91.300000</td>\n",
       "      <td>NaN</td>\n",
       "      <td>43.5</td>\n",
       "      <td>8.5</td>\n",
       "      <td>13.3</td>\n",
       "      <td>27.0</td>\n",
       "      <td>3.6</td>\n",
       "      <td>0.0</td>\n",
       "      <td>6.61</td>\n",
       "    </tr>\n",
       "    <tr>\n",
       "      <th>507</th>\n",
       "      <td>1</td>\n",
       "      <td>2</td>\n",
       "      <td>8</td>\n",
       "      <td>1</td>\n",
       "      <td>91.000000</td>\n",
       "      <td>NaN</td>\n",
       "      <td>752.6</td>\n",
       "      <td>7.1</td>\n",
       "      <td>18.5</td>\n",
       "      <td>73.0</td>\n",
       "      <td>8.5</td>\n",
       "      <td>0.0</td>\n",
       "      <td>0.00</td>\n",
       "    </tr>\n",
       "  </tbody>\n",
       "</table>\n",
       "</div>"
      ],
      "text/plain": [
       "     X  Y  month  weekend       FFMC  DMC     DC   ISI  temp    RH  wind  \\\n",
       "2    7  4     10        0  90.600000  NaN  669.1   6.7  18.0  33.0   0.9   \n",
       "19   6  4      3        0  89.200000  NaN   70.8   6.3  15.9  35.0   4.0   \n",
       "38   7  4     10        1  90.580384  NaN  682.6   8.7  11.3  60.0   5.4   \n",
       "51   4  4      9        0  92.900000  NaN  706.4   9.2  20.8  17.0   1.3   \n",
       "53   4  3      8        0  92.100000  NaN  654.1   9.6  20.4  42.0   4.9   \n",
       "112  3  4      3        1  91.700000  NaN   77.5   9.0  18.8   NaN   4.5   \n",
       "129  3  5     10        0  91.400000  NaN  673.8   5.2  15.9  46.0   3.6   \n",
       "196  2  5      8        1  93.900000  NaN  586.7  15.1  23.5  36.0   5.4   \n",
       "219  4  5      9        0  92.900000  NaN  699.6   9.2  19.4  19.0   1.3   \n",
       "221  8  6      8        1  90.200000  NaN  631.2   6.3  16.2  59.0   3.1   \n",
       "231  4  4      9        0  92.900000  NaN  699.6   9.2  26.4  21.0   4.5   \n",
       "247  5  4      8        1  91.800000  NaN  700.7  13.8  25.7  39.0   5.4   \n",
       "250  3  4      8        0  90.580384  NaN  666.7  13.5  21.7  40.0   0.4   \n",
       "268  2  2      8        0  92.100000  NaN  658.2  14.3  23.7  24.0   3.1   \n",
       "277  4  4     12        0  85.400000  NaN  349.7   2.6   4.6  21.0   8.5   \n",
       "278  3  4     12        0  85.400000  NaN  349.7   2.6   4.6  21.0   8.5   \n",
       "403  9  9      8        1  94.800000  NaN  706.7  12.0  25.0  36.0   4.0   \n",
       "428  2  4      8        0  92.100000  NaN  672.6   8.2   NaN  33.0   2.2   \n",
       "436  2  5      7        1  90.800000  NaN    NaN   5.6  23.8  51.0   1.8   \n",
       "469  6  5      3        0  91.300000  NaN   43.5   8.5  13.3  27.0   3.6   \n",
       "507  1  2      8        1  91.000000  NaN  752.6   7.1  18.5  73.0   8.5   \n",
       "\n",
       "     rain   area  \n",
       "2     0.0   0.00  \n",
       "19    0.0   0.00  \n",
       "38    0.0   0.00  \n",
       "51    0.0   0.00  \n",
       "53    0.0   0.00  \n",
       "112   0.0   0.00  \n",
       "129   0.0   0.00  \n",
       "196   0.0  10.02  \n",
       "219   0.0  31.72  \n",
       "221   NaN  32.07  \n",
       "231   0.0  88.49  \n",
       "247   0.0   0.09  \n",
       "250   0.0   2.47  \n",
       "268   0.0   0.00  \n",
       "277   0.0  17.85  \n",
       "278   0.0  10.73  \n",
       "403   0.0   0.00  \n",
       "428   0.0   2.35  \n",
       "436   0.0   0.00  \n",
       "469   0.0   6.61  \n",
       "507   0.0   0.00  "
      ]
     },
     "execution_count": 13,
     "metadata": {},
     "output_type": "execute_result"
    }
   ],
   "source": [
    "dmc_nulls = fires[fires['DMC'].isnull()]\n",
    "dmc_nulls"
   ]
  },
  {
   "cell_type": "code",
   "execution_count": 14,
   "id": "d3aedd8c-d2e3-4f06-89d2-b26aae2d80a7",
   "metadata": {},
   "outputs": [
    {
     "data": {
      "image/png": "[encoded data removed]",
      "text/plain": [
       "<Figure size 640x480 with 1 Axes>"
      ]
     },
     "metadata": {},
     "output_type": "display_data"
    },
    {
     "data": {
      "image/png": "[encoded data removed]",
      "text/plain": [
       "<Figure size 640x480 with 1 Axes>"
      ]
     },
     "metadata": {},
     "output_type": "display_data"
    }
   ],
   "source": [
    "plt.hist(fires['DMC'])\n",
    "plt.show()\n",
    "sns.boxplot(data=fires['DMC'])\n",
    "plt.show()"
   ]
  },
  {
   "cell_type": "markdown",
   "id": "79faed97-8c82-4b6d-9bd8-faada6acd43f",
   "metadata": {},
   "source": [
    "The `DMC` column also has multiple outliers. The null rows seem to be containing correct data for other columns so we are again going to replace null values with the mean value of `DMC`. We will not deal with outliers at least for now, because there are multiple outliers within the same range, so removing them would remove a lot of our data."
   ]
  },
  {
   "cell_type": "code",
   "execution_count": 15,
   "id": "c36aaa41-f028-4e5e-97fe-6579c0534ac9",
   "metadata": {},
   "outputs": [
    {
     "name": "stdout",
     "output_type": "stream",
     "text": [
      "0\n"
     ]
    }
   ],
   "source": [
    "fires['DMC'] = fires['DMC'].fillna(fires['DMC'].mean())\n",
    "print(fires['DMC'].isnull().sum())"
   ]
  },
  {
   "cell_type": "markdown",
   "id": "71a6f25a-42b0-4190-a9db-3584a2504322",
   "metadata": {},
   "source": [
    "## DC"
   ]
  },
  {
   "cell_type": "code",
   "execution_count": 16,
   "id": "baff962e-13d7-45d4-a734-266afac82c82",
   "metadata": {},
   "outputs": [
    {
     "name": "stdout",
     "output_type": "stream",
     "text": [
      "43\n"
     ]
    },
    {
     "data": {
      "image/png": "[encoded data removed]",
      "text/plain": [
       "<Figure size 640x480 with 1 Axes>"
      ]
     },
     "metadata": {},
     "output_type": "display_data"
    },
    {
     "data": {
      "image/png": "[encoded data removed]",
      "text/plain": [
       "<Figure size 640x480 with 1 Axes>"
      ]
     },
     "metadata": {},
     "output_type": "display_data"
    }
   ],
   "source": [
    "print(fires['DC'].isnull().sum())\n",
    "plt.hist(fires['DC'])\n",
    "plt.show()\n",
    "sns.boxplot(fires['DC'])\n",
    "plt.show()"
   ]
  },
  {
   "cell_type": "markdown",
   "id": "8cdd5cf7-ff63-4308-ae34-10c7bd508911",
   "metadata": {},
   "source": [
    "With the `DC` column we have 43 null values. From the histogram and boxplot we can see that there are multiple outliers and values that are less than 100. In this case, I won't fill null values with mean, but I will be using median values instead. The median will be closer to the range between 600-800, which seems more appropriate."
   ]
  },
  {
   "cell_type": "code",
   "execution_count": 17,
   "id": "79d13a57-89a5-47dd-93f9-9f5bb352edda",
   "metadata": {},
   "outputs": [
    {
     "name": "stdout",
     "output_type": "stream",
     "text": [
      "551.4752642706131\n",
      "664.5\n"
     ]
    }
   ],
   "source": [
    "print(fires['DC'].mean())\n",
    "print(fires['DC'].median())\n",
    "fires['DC'] = fires['DC'].fillna(fires['DC'].median())"
   ]
  },
  {
   "cell_type": "markdown",
   "id": "ff21c1ca-79b0-44b3-83a5-7c54e48277ad",
   "metadata": {},
   "source": [
    "## ISI"
   ]
  },
  {
   "cell_type": "code",
   "execution_count": 18,
   "id": "1840a417-8b9e-400e-af21-b0b9bd122102",
   "metadata": {},
   "outputs": [
    {
     "name": "stdout",
     "output_type": "stream",
     "text": [
      "2\n"
     ]
    }
   ],
   "source": [
    "print(fires['ISI'].isnull().sum())"
   ]
  },
  {
   "cell_type": "code",
   "execution_count": 19,
   "id": "2cf2d593-3933-425d-9c46-53654da2d0fe",
   "metadata": {},
   "outputs": [
    {
     "data": {
      "text/html": [
       "<div>\n",
       "<style scoped>\n",
       "    .dataframe tbody tr th:only-of-type {\n",
       "        vertical-align: middle;\n",
       "    }\n",
       "\n",
       "    .dataframe tbody tr th {\n",
       "        vertical-align: top;\n",
       "    }\n",
       "\n",
       "    .dataframe thead th {\n",
       "        text-align: right;\n",
       "    }\n",
       "</style>\n",
       "<table border=\"1\" class=\"dataframe\">\n",
       "  <thead>\n",
       "    <tr style=\"text-align: right;\">\n",
       "      <th></th>\n",
       "      <th>X</th>\n",
       "      <th>Y</th>\n",
       "      <th>month</th>\n",
       "      <th>weekend</th>\n",
       "      <th>FFMC</th>\n",
       "      <th>DMC</th>\n",
       "      <th>DC</th>\n",
       "      <th>ISI</th>\n",
       "      <th>temp</th>\n",
       "      <th>RH</th>\n",
       "      <th>wind</th>\n",
       "      <th>rain</th>\n",
       "      <th>area</th>\n",
       "    </tr>\n",
       "  </thead>\n",
       "  <tbody>\n",
       "    <tr>\n",
       "      <th>143</th>\n",
       "      <td>8</td>\n",
       "      <td>6</td>\n",
       "      <td>8</td>\n",
       "      <td>1</td>\n",
       "      <td>90.1</td>\n",
       "      <td>108.0</td>\n",
       "      <td>529.8</td>\n",
       "      <td>NaN</td>\n",
       "      <td>21.2</td>\n",
       "      <td>51.0</td>\n",
       "      <td>8.9</td>\n",
       "      <td>0.0</td>\n",
       "      <td>0.61</td>\n",
       "    </tr>\n",
       "    <tr>\n",
       "      <th>174</th>\n",
       "      <td>4</td>\n",
       "      <td>4</td>\n",
       "      <td>9</td>\n",
       "      <td>0</td>\n",
       "      <td>90.9</td>\n",
       "      <td>126.5</td>\n",
       "      <td>686.5</td>\n",
       "      <td>NaN</td>\n",
       "      <td>17.7</td>\n",
       "      <td>39.0</td>\n",
       "      <td>NaN</td>\n",
       "      <td>0.0</td>\n",
       "      <td>3.07</td>\n",
       "    </tr>\n",
       "  </tbody>\n",
       "</table>\n",
       "</div>"
      ],
      "text/plain": [
       "     X  Y  month  weekend  FFMC    DMC     DC  ISI  temp    RH  wind  rain  \\\n",
       "143  8  6      8        1  90.1  108.0  529.8  NaN  21.2  51.0   8.9   0.0   \n",
       "174  4  4      9        0  90.9  126.5  686.5  NaN  17.7  39.0   NaN   0.0   \n",
       "\n",
       "     area  \n",
       "143  0.61  \n",
       "174  3.07  "
      ]
     },
     "execution_count": 19,
     "metadata": {},
     "output_type": "execute_result"
    }
   ],
   "source": [
    "fires[fires['ISI'].isnull()]"
   ]
  },
  {
   "cell_type": "code",
   "execution_count": 20,
   "id": "83f9fe25-defd-4bb6-b557-28c1d5f01025",
   "metadata": {},
   "outputs": [
    {
     "data": {
      "image/png": "[encoded data removed]",
      "text/plain": [
       "<Figure size 640x480 with 1 Axes>"
      ]
     },
     "metadata": {},
     "output_type": "display_data"
    }
   ],
   "source": [
    "sns.boxplot(fires['ISI'])\n",
    "plt.show()"
   ]
  },
  {
   "cell_type": "code",
   "execution_count": 21,
   "id": "8025c319-0398-4260-b09e-b0f6be1a208c",
   "metadata": {},
   "outputs": [
    {
     "data": {
      "text/plain": [
       "9.036381322957197"
      ]
     },
     "execution_count": 21,
     "metadata": {},
     "output_type": "execute_result"
    }
   ],
   "source": [
    "fires['ISI'].mean()"
   ]
  },
  {
   "cell_type": "markdown",
   "id": "bce17905-79b9-45b0-ab1e-4d2115628d84",
   "metadata": {},
   "source": [
    "In the `ISI` column we have two null values. We could remove these without affecting our data much, but I will follow the previous methods and impute them with the mean. However we have one very clear outlier, with a value somewhere close to 60. We will remove this outlier."
   ]
  },
  {
   "cell_type": "code",
   "execution_count": 22,
   "id": "72e6fc36-4c6c-4319-81fb-e47d1eed9e93",
   "metadata": {},
   "outputs": [],
   "source": [
    "fires['ISI'] = fires['ISI'].fillna(fires['ISI'].mean())\n",
    "fires = fires[fires['ISI'] < 50]"
   ]
  },
  {
   "cell_type": "markdown",
   "id": "aed6189b-c250-450c-ab8e-50e7036716d5",
   "metadata": {},
   "source": [
    "## temp"
   ]
  },
  {
   "cell_type": "code",
   "execution_count": 23,
   "id": "75634ef3-eec5-46c7-a64e-9b4849bacce7",
   "metadata": {},
   "outputs": [
    {
     "name": "stdout",
     "output_type": "stream",
     "text": [
      "21\n"
     ]
    },
    {
     "data": {
      "image/png": "[encoded data removed]",
      "text/plain": [
       "<Figure size 640x480 with 1 Axes>"
      ]
     },
     "metadata": {},
     "output_type": "display_data"
    },
    {
     "data": {
      "image/png": "[encoded data removed]",
      "text/plain": [
       "<Figure size 640x480 with 1 Axes>"
      ]
     },
     "metadata": {},
     "output_type": "display_data"
    }
   ],
   "source": [
    "print(fires['temp'].isnull().sum())\n",
    "plt.hist(fires['temp'])\n",
    "plt.show()\n",
    "sns.boxplot(fires['temp'])\n",
    "plt.show()"
   ]
  },
  {
   "cell_type": "markdown",
   "id": "b5b0635f-0947-49c6-9da2-93d7d8ac958b",
   "metadata": {},
   "source": [
    "The `temp` column is close to a normal distribution and has only one outlier. The outlier is around 2 degrees celsius which is completely normal weather. We won't remove the outlier for now. We will assign mean values to null values."
   ]
  },
  {
   "cell_type": "code",
   "execution_count": 24,
   "id": "5a1aaccf-ef32-4039-9af0-baabf959a264",
   "metadata": {},
   "outputs": [],
   "source": [
    "fires['temp'] = fires['temp'].fillna(fires['temp'].mean())"
   ]
  },
  {
   "cell_type": "markdown",
   "id": "e4c5baf6-2dec-4e6a-8697-ce6366ce66cc",
   "metadata": {},
   "source": [
    "## RH"
   ]
  },
  {
   "cell_type": "code",
   "execution_count": 25,
   "id": "719d5b9a-561a-4cfe-b62f-395b677c1ba2",
   "metadata": {},
   "outputs": [
    {
     "name": "stdout",
     "output_type": "stream",
     "text": [
      "30\n"
     ]
    },
    {
     "data": {
      "image/png": "[encoded data removed]",
      "text/plain": [
       "<Figure size 640x480 with 1 Axes>"
      ]
     },
     "metadata": {},
     "output_type": "display_data"
    },
    {
     "data": {
      "image/png": "[encoded data removed]",
      "text/plain": [
       "<Figure size 640x480 with 1 Axes>"
      ]
     },
     "metadata": {},
     "output_type": "display_data"
    }
   ],
   "source": [
    "print(fires['RH'].isnull().sum())\n",
    "plt.hist(fires['RH'])\n",
    "plt.show()\n",
    "sns.boxplot(fires['RH'])\n",
    "plt.show()"
   ]
  },
  {
   "cell_type": "markdown",
   "id": "29a5e15b-74bc-458b-bbb5-d16790a66f15",
   "metadata": {},
   "source": [
    "The `RH` column is right skewed. This time I will again impute with median value instead of the mean value, because the median is closer to the highest point of distribution (around 40). In this case the mean and the median are both very close to each other, but median value is 42 while the mean value is 44. There are again some outliers, but they are not extreme and there are multiple of them, so we are not going to remove them for now."
   ]
  },
  {
   "cell_type": "code",
   "execution_count": 26,
   "id": "0b603f67-7337-4143-b479-1ebaec1d190a",
   "metadata": {},
   "outputs": [
    {
     "name": "stdout",
     "output_type": "stream",
     "text": [
      "44.2680412371134\n",
      "42.0\n"
     ]
    }
   ],
   "source": [
    "print(fires['RH'].mean())\n",
    "print(fires['RH'].median())"
   ]
  },
  {
   "cell_type": "code",
   "execution_count": 27,
   "id": "a5a9939a-5d81-439b-81eb-0a65067de6cf",
   "metadata": {},
   "outputs": [],
   "source": [
    "fires['RH'] = fires['RH'].fillna(fires['RH'].median())"
   ]
  },
  {
   "cell_type": "markdown",
   "id": "b59b7a5d-f345-4b3b-b65e-774410b356f1",
   "metadata": {},
   "source": [
    "## Wind"
   ]
  },
  {
   "cell_type": "code",
   "execution_count": 28,
   "id": "16e3d1e9-d4f7-464a-aadf-48ef15aa2f66",
   "metadata": {},
   "outputs": [
    {
     "name": "stdout",
     "output_type": "stream",
     "text": [
      "35\n"
     ]
    },
    {
     "data": {
      "image/png": "[encoded data removed]",
      "text/plain": [
       "<Figure size 640x480 with 1 Axes>"
      ]
     },
     "metadata": {},
     "output_type": "display_data"
    },
    {
     "data": {
      "image/png": "[encoded data removed]",
      "text/plain": [
       "<Figure size 640x480 with 1 Axes>"
      ]
     },
     "metadata": {},
     "output_type": "display_data"
    }
   ],
   "source": [
    "print(fires['wind'].isnull().sum())\n",
    "plt.hist(fires['wind'])\n",
    "plt.show()\n",
    "sns.boxplot(fires['wind'])\n",
    "plt.show()"
   ]
  },
  {
   "cell_type": "markdown",
   "id": "6dd3e3c5-75f4-49b7-88e0-88d961b308c5",
   "metadata": {},
   "source": [
    "Again we have a few outliers, but we won't remove them for now, because 10m/s wind is very possible. The distribution is not normal and slighty right skewed, so we could use mean or median values to fill nulls. Let's see what they are."
   ]
  },
  {
   "cell_type": "code",
   "execution_count": 29,
   "id": "76654eee-3407-4aad-8957-a4e4f0257b18",
   "metadata": {},
   "outputs": [
    {
     "name": "stdout",
     "output_type": "stream",
     "text": [
      "4.027291666666667\n",
      "4.0\n"
     ]
    }
   ],
   "source": [
    "print(fires['wind'].mean())\n",
    "print(fires['wind'].median())\n",
    "fires['wind'] = fires['wind'].fillna(fires['wind'].mean())"
   ]
  },
  {
   "cell_type": "markdown",
   "id": "9545ec40-4e70-4b99-8874-75f0b8c106f6",
   "metadata": {},
   "source": [
    "The mean value for `wind` is 4.02, and the median value is 4.0, so they are basically the same. Let's fill the null values with mean values."
   ]
  },
  {
   "cell_type": "markdown",
   "id": "cae023b7-94dd-42e5-8b05-fc010d279e26",
   "metadata": {},
   "source": [
    "## Rain"
   ]
  },
  {
   "cell_type": "code",
   "execution_count": 30,
   "id": "4860dd6f-7a2c-4343-a6fc-9fb3268e1358",
   "metadata": {},
   "outputs": [
    {
     "name": "stdout",
     "output_type": "stream",
     "text": [
      "32\n"
     ]
    },
    {
     "data": {
      "image/png": "[encoded data removed]",
      "text/plain": [
       "<Figure size 640x480 with 1 Axes>"
      ]
     },
     "metadata": {},
     "output_type": "display_data"
    },
    {
     "name": "stdout",
     "output_type": "stream",
     "text": [
      "rain\n",
      "0.0    475\n",
      "0.2      2\n",
      "0.8      2\n",
      "1.0      1\n",
      "6.4      1\n",
      "0.4      1\n",
      "1.4      1\n",
      "Name: count, dtype: int64\n"
     ]
    },
    {
     "data": {
      "image/png": "[encoded data removed]",
      "text/plain": [
       "<Figure size 640x480 with 1 Axes>"
      ]
     },
     "metadata": {},
     "output_type": "display_data"
    }
   ],
   "source": [
    "print(fires['rain'].isnull().sum())\n",
    "plt.hist(fires['rain'])\n",
    "plt.show()\n",
    "print(fires['rain'].value_counts())\n",
    "sns.boxplot(fires['rain'])\n",
    "plt.show()"
   ]
  },
  {
   "cell_type": "markdown",
   "id": "ac3d70e6-8b6d-4a5a-94d2-dc9a2caaa079",
   "metadata": {},
   "source": [
    "Now this one is quite tricky, because almost always the value for rain is `0.0`, meaning no rain, but there are also other values with a some rain close to 0.0. 6.4 is a clear outlier, so we are going to remove it. In fact, from the boxplot all values except 0.0 seem to be outliers, but we will only delete the extreme one. I think the best solution here is to change null values to 0.0 because I don't think there will be a huge difference in the model whether we change null values to 0.0 or 0.1 or 0.2, so let's just move on with 0.0."
   ]
  },
  {
   "cell_type": "code",
   "execution_count": 31,
   "id": "328dc83a-e825-44e5-ab3b-ca4b1cd05c49",
   "metadata": {},
   "outputs": [],
   "source": [
    "fires['rain'] = fires['rain'].fillna(0.0)\n",
    "fires = fires[fires['rain'] < 5]"
   ]
  },
  {
   "cell_type": "markdown",
   "id": "8cf3740b-2a89-4155-99d5-2a9b9f4200a3",
   "metadata": {},
   "source": [
    "## Area"
   ]
  },
  {
   "cell_type": "code",
   "execution_count": 32,
   "id": "27c4e2c7-1f85-47b6-bc4a-a1312b1bc25d",
   "metadata": {},
   "outputs": [
    {
     "name": "stdout",
     "output_type": "stream",
     "text": [
      "0\n"
     ]
    }
   ],
   "source": [
    "print(fires['area'].isnull().sum())"
   ]
  },
  {
   "cell_type": "markdown",
   "id": "7a1568ec-21a5-44e5-88be-5400e0d52673",
   "metadata": {},
   "source": [
    "Gladly the column we are interested in predicting has 0 null values. Let's check out the distribution."
   ]
  },
  {
   "cell_type": "code",
   "execution_count": 33,
   "id": "35fd25db-5c60-4ae2-af03-e72f7789b16c",
   "metadata": {},
   "outputs": [
    {
     "data": {
      "image/png": "[encoded data removed]",
      "text/plain": [
       "<Figure size 640x480 with 1 Axes>"
      ]
     },
     "metadata": {},
     "output_type": "display_data"
    }
   ],
   "source": [
    "plt.hist(fires['area'])\n",
    "plt.show()"
   ]
  },
  {
   "cell_type": "markdown",
   "id": "25e99eab-8aa3-4aa2-85c7-fbb5a027e11f",
   "metadata": {},
   "source": [
    "This is very skewed towards 0.0 and as the documentation suggests it may make sense to model with the logarithm transform. So let's transform the area column with logarithm."
   ]
  },
  {
   "cell_type": "code",
   "execution_count": 34,
   "id": "68e8f95b-4408-4bea-962f-42addc67125f",
   "metadata": {},
   "outputs": [
    {
     "data": {
      "image/png": "[encoded data removed]",
      "text/plain": [
       "<Figure size 640x480 with 1 Axes>"
      ]
     },
     "metadata": {},
     "output_type": "display_data"
    }
   ],
   "source": [
    "fires['log_area'] = np.log2(fires['area']+1)\n",
    "fires['log_area'].hist()\n",
    "plt.show()"
   ]
  },
  {
   "cell_type": "markdown",
   "id": "8a0f9e5b-1f5a-42a8-94d6-f153ae298454",
   "metadata": {},
   "source": [
    "The `log_area` column is also very right skewed, but with logarithmic transform there is clearly improvement in the distribution."
   ]
  },
  {
   "cell_type": "markdown",
   "id": "8d9cb584-b7bc-452e-9853-93dcd579786f",
   "metadata": {},
   "source": [
    "## Heatmap"
   ]
  },
  {
   "cell_type": "markdown",
   "id": "e3b2d80f-d8bd-4ad3-9245-c23be96f0ebc",
   "metadata": {},
   "source": [
    "Talking of fires, let's create a heatmap to see which columns correlate most with the `area` column."
   ]
  },
  {
   "cell_type": "markdown",
   "id": "447aeee0-fa96-4ce4-8978-c3b0d9a12ddc",
   "metadata": {},
   "source": [
    "Interestingly none of the columns correlate with the `area` column. Let's start modeling anyway."
   ]
  },
  {
   "cell_type": "code",
   "execution_count": 35,
   "id": "c778f219-1abd-44e2-9e75-9a06c6fdcb03",
   "metadata": {},
   "outputs": [
    {
     "data": {
      "image/png": "[encoded data removed]",
      "text/plain": [
       "<Figure size 640x480 with 2 Axes>"
      ]
     },
     "metadata": {},
     "output_type": "display_data"
    }
   ],
   "source": [
    "correlations = abs(fires.corr())\n",
    "\n",
    "sns.heatmap(correlations[correlations > 0.1], annot=True, cmap='Blues')\n",
    "plt.show()"
   ]
  },
  {
   "cell_type": "markdown",
   "id": "3a287099-9805-4c7b-b6f1-3813fb4d0f21",
   "metadata": {},
   "source": [
    "Interestingly none of the columns have correlation with area. Let's create our reference model using Linear Regression."
   ]
  },
  {
   "cell_type": "code",
   "execution_count": 36,
   "id": "7c51bdb7-d62b-4d11-bbb1-8d6e76e4cadd",
   "metadata": {},
   "outputs": [],
   "source": [
    "ref_model = LinearRegression()\n"
   ]
  },
  {
   "cell_type": "markdown",
   "id": "29be1d3f-e901-4dbd-bb8c-e6865c0c07b6",
   "metadata": {},
   "source": [
    "Next we are going to standardize all the values using `sklearn`'s `StandardScaler`. I won't scale X and Y nor the area columns."
   ]
  },
  {
   "cell_type": "code",
   "execution_count": 37,
   "id": "c1c14043-649a-4a45-94f0-a84bb6faf774",
   "metadata": {},
   "outputs": [
    {
     "data": {
      "text/html": [
       "<div>\n",
       "<style scoped>\n",
       "    .dataframe tbody tr th:only-of-type {\n",
       "        vertical-align: middle;\n",
       "    }\n",
       "\n",
       "    .dataframe tbody tr th {\n",
       "        vertical-align: top;\n",
       "    }\n",
       "\n",
       "    .dataframe thead th {\n",
       "        text-align: right;\n",
       "    }\n",
       "</style>\n",
       "<table border=\"1\" class=\"dataframe\">\n",
       "  <thead>\n",
       "    <tr style=\"text-align: right;\">\n",
       "      <th></th>\n",
       "      <th>month</th>\n",
       "      <th>weekend</th>\n",
       "      <th>FFMC</th>\n",
       "      <th>DMC</th>\n",
       "      <th>DC</th>\n",
       "      <th>ISI</th>\n",
       "      <th>temp</th>\n",
       "      <th>RH</th>\n",
       "      <th>wind</th>\n",
       "      <th>rain</th>\n",
       "    </tr>\n",
       "  </thead>\n",
       "  <tbody>\n",
       "    <tr>\n",
       "      <th>0</th>\n",
       "      <td>-1.985657</td>\n",
       "      <td>0.980730</td>\n",
       "      <td>-1.022874</td>\n",
       "      <td>-1.360767</td>\n",
       "      <td>-1.971344</td>\n",
       "      <td>-0.949604</td>\n",
       "      <td>0.002918</td>\n",
       "      <td>0.444425</td>\n",
       "      <td>1.546021</td>\n",
       "      <td>-0.100532</td>\n",
       "    </tr>\n",
       "    <tr>\n",
       "      <th>1</th>\n",
       "      <td>1.109834</td>\n",
       "      <td>-1.019648</td>\n",
       "      <td>-0.025610</td>\n",
       "      <td>0.001697</td>\n",
       "      <td>0.454632</td>\n",
       "      <td>-0.553376</td>\n",
       "      <td>-0.159370</td>\n",
       "      <td>-0.714814</td>\n",
       "      <td>-1.806843</td>\n",
       "      <td>-0.100532</td>\n",
       "    </tr>\n",
       "    <tr>\n",
       "      <th>2</th>\n",
       "      <td>1.109834</td>\n",
       "      <td>0.980730</td>\n",
       "      <td>-0.025610</td>\n",
       "      <td>-1.080977</td>\n",
       "      <td>0.435217</td>\n",
       "      <td>-0.553376</td>\n",
       "      <td>-0.766989</td>\n",
       "      <td>-0.714814</td>\n",
       "      <td>-1.575611</td>\n",
       "      <td>-0.100532</td>\n",
       "    </tr>\n",
       "    <tr>\n",
       "      <th>3</th>\n",
       "      <td>-1.985657</td>\n",
       "      <td>0.980730</td>\n",
       "      <td>0.223706</td>\n",
       "      <td>-1.247252</td>\n",
       "      <td>-2.042249</td>\n",
       "      <td>0.016201</td>\n",
       "      <td>-1.892871</td>\n",
       "      <td>3.406925</td>\n",
       "      <td>-0.014795</td>\n",
       "      <td>2.052528</td>\n",
       "    </tr>\n",
       "    <tr>\n",
       "      <th>4</th>\n",
       "      <td>-1.985657</td>\n",
       "      <td>0.980730</td>\n",
       "      <td>-0.320256</td>\n",
       "      <td>-0.959468</td>\n",
       "      <td>-1.938001</td>\n",
       "      <td>0.164787</td>\n",
       "      <td>-1.338865</td>\n",
       "      <td>3.535729</td>\n",
       "      <td>0.000982</td>\n",
       "      <td>-0.100532</td>\n",
       "    </tr>\n",
       "  </tbody>\n",
       "</table>\n",
       "</div>"
      ],
      "text/plain": [
       "      month   weekend      FFMC       DMC        DC       ISI      temp  \\\n",
       "0 -1.985657  0.980730 -1.022874 -1.360767 -1.971344 -0.949604  0.002918   \n",
       "1  1.109834 -1.019648 -0.025610  0.001697  0.454632 -0.553376 -0.159370   \n",
       "2  1.109834  0.980730 -0.025610 -1.080977  0.435217 -0.553376 -0.766989   \n",
       "3 -1.985657  0.980730  0.223706 -1.247252 -2.042249  0.016201 -1.892871   \n",
       "4 -1.985657  0.980730 -0.320256 -0.959468 -1.938001  0.164787 -1.338865   \n",
       "\n",
       "         RH      wind      rain  \n",
       "0  0.444425  1.546021 -0.100532  \n",
       "1 -0.714814 -1.806843 -0.100532  \n",
       "2 -0.714814 -1.575611 -0.100532  \n",
       "3  3.406925 -0.014795  2.052528  \n",
       "4  3.535729  0.000982 -0.100532  "
      ]
     },
     "execution_count": 37,
     "metadata": {},
     "output_type": "execute_result"
    }
   ],
   "source": [
    "from sklearn.preprocessing import StandardScaler\n",
    "\n",
    "scaler = StandardScaler()\n",
    "scaled = scaler.fit_transform(fires.iloc[:,2:12])\n",
    "scaled = pd.DataFrame(scaled, columns = fires.iloc[:,2:12].columns)\n",
    "scaled.head()"
   ]
  },
  {
   "cell_type": "markdown",
   "id": "49efbf4c-2f18-4f30-abed-eed557080629",
   "metadata": {},
   "source": [
    "## Subset Selection"
   ]
  },
  {
   "cell_type": "markdown",
   "id": "ee99e425-6787-4aaf-8a4d-c1514e7441ed",
   "metadata": {},
   "source": [
    "We are now going to select a few features using `sklearn`'s `SequentialFeatureSelector`. As mentioned earlier, we will be using Linear Regression as our reference model. We will split our data to 80% training set and 20% testing set."
   ]
  },
  {
   "cell_type": "code",
   "execution_count": 38,
   "id": "6043f910-3f65-4ad3-a269-3f8954c61cc9",
   "metadata": {},
   "outputs": [
    {
     "name": "stdout",
     "output_type": "stream",
     "text": [
      "(411, 10) (103, 10) (411,) (103,)\n"
     ]
    }
   ],
   "source": [
    "from sklearn.feature_selection import SequentialFeatureSelector\n",
    "from sklearn.linear_model import LinearRegression\n",
    "from sklearn.model_selection import train_test_split\n",
    "\n",
    "X = scaled\n",
    "y = fires['log_area']\n",
    "\n",
    "X_train, X_test, y_train, y_test = train_test_split(X,y, test_size = 0.2, random_state=1)\n",
    "print(X_train.shape, X_test.shape, y_train.shape, y_test.shape)"
   ]
  },
  {
   "cell_type": "markdown",
   "id": "e66e17f5-e60f-420f-952e-5e68d9ab313d",
   "metadata": {},
   "source": [
    "### Forward Selection"
   ]
  },
  {
   "cell_type": "code",
   "execution_count": 39,
   "id": "f34f28f1-84b2-417d-b8d2-7c5476be4806",
   "metadata": {},
   "outputs": [
    {
     "name": "stdout",
     "output_type": "stream",
     "text": [
      "With 2 features: Index(['month', 'wind'], dtype='object')\n",
      "With 3 features: Index(['month', 'wind', 'rain'], dtype='object')\n",
      "With 3 features: Index(['month', 'DMC', 'DC', 'wind', 'rain'], dtype='object')\n"
     ]
    }
   ],
   "source": [
    "seq_for_2 = SequentialFeatureSelector(ref_model,\n",
    "                                      n_features_to_select = 2,\n",
    "                                      direction='forward')\n",
    "seq_for_3 = SequentialFeatureSelector(ref_model,\n",
    "                                      n_features_to_select = 3,\n",
    "                                      direction='forward')\n",
    "seq_for_5 = SequentialFeatureSelector(ref_model,\n",
    "                                      n_features_to_select = 5,\n",
    "                                      direction='forward')\n",
    "seq_for_2.fit(X_train, y_train)\n",
    "seq_for_3.fit(X_train, y_train)\n",
    "seq_for_5.fit(X_train, y_train)\n",
    "\n",
    "feature_names = X.columns\n",
    "\n",
    "selected_2_features_forward = feature_names[seq_for_2.get_support()]\n",
    "selected_3_features_forward = feature_names[seq_for_3.get_support()]\n",
    "selected_5_features_forward = feature_names[seq_for_5.get_support()]\n",
    "\n",
    "print(f\"With 2 features: {selected_2_features_forward}\")\n",
    "print(f\"With 3 features: {selected_3_features_forward}\")\n",
    "print(f\"With 3 features: {selected_5_features_forward}\")"
   ]
  },
  {
   "cell_type": "markdown",
   "id": "e90d11af-a690-4ea7-a3e4-783133bd5d17",
   "metadata": {},
   "source": [
    "### Backward Selection"
   ]
  },
  {
   "cell_type": "code",
   "execution_count": 40,
   "id": "eaf90257-0d00-4000-9c2e-9cad9c403aba",
   "metadata": {},
   "outputs": [
    {
     "name": "stdout",
     "output_type": "stream",
     "text": [
      "With 2 features: Index(['month', 'wind'], dtype='object')\n",
      "With 3 features: Index(['month', 'wind', 'rain'], dtype='object')\n",
      "With 3 features: Index(['month', 'DMC', 'DC', 'wind', 'rain'], dtype='object')\n"
     ]
    }
   ],
   "source": [
    "seq_back_2 = SequentialFeatureSelector(ref_model,\n",
    "                                       n_features_to_select = 2,\n",
    "                                       direction = 'backward')\n",
    "seq_back_3 = SequentialFeatureSelector(ref_model,\n",
    "                                       n_features_to_select = 3,\n",
    "                                       direction = 'backward')\n",
    "seq_back_5 = SequentialFeatureSelector(ref_model,\n",
    "                                      n_features_to_select = 5,\n",
    "                                      direction='backward')\n",
    "seq_back_2.fit(X_train, y_train)\n",
    "seq_back_3.fit(X_train, y_train)\n",
    "seq_back_5.fit(X_train, y_train)\n",
    "\n",
    "selected_2_features_backward = feature_names[seq_back_2.get_support()]\n",
    "selected_3_features_backward = feature_names[seq_back_3.get_support()]\n",
    "selected_5_features_backward = feature_names[seq_back_5.get_support()]\n",
    "\n",
    "print(f\"With 2 features: {selected_2_features_backward}\")\n",
    "print(f\"With 3 features: {selected_3_features_backward}\")\n",
    "print(f\"With 3 features: {selected_5_features_backward}\")"
   ]
  },
  {
   "cell_type": "markdown",
   "id": "ced55b77-0795-4aff-9cb5-60baebd051d3",
   "metadata": {},
   "source": [
    "Both of these selections give the same features. I will now use logarithmic transform for rain, and change months to summer (yes/no) to see if there are any differences."
   ]
  },
  {
   "cell_type": "markdown",
   "id": "d252baf2-9ee2-48b4-a2cf-5bac34c823db",
   "metadata": {},
   "source": [
    "## Changing the Month Column"
   ]
  },
  {
   "cell_type": "markdown",
   "id": "04674486-8871-4259-aea6-6e083d861804",
   "metadata": {},
   "source": [
    "Next we are going to change the `month` column to contain 1 or 0 depending whether it is summer or not. While most of the fires occured during August and September, I think it's better to change `months` to `summer`, because now `month` is one of the most dominating features. I think our model would be better without all the months. If we want to predict fires during April for example, the model should not be dominated by August and September.\n",
    "\n",
    "I will use months June, July and August (6, 7 and 8)for summer."
   ]
  },
  {
   "cell_type": "code",
   "execution_count": 41,
   "id": "963ef9fc-6a14-4ddb-9863-5ef313dbacdb",
   "metadata": {},
   "outputs": [
    {
     "data": {
      "text/html": [
       "<div>\n",
       "<style scoped>\n",
       "    .dataframe tbody tr th:only-of-type {\n",
       "        vertical-align: middle;\n",
       "    }\n",
       "\n",
       "    .dataframe tbody tr th {\n",
       "        vertical-align: top;\n",
       "    }\n",
       "\n",
       "    .dataframe thead th {\n",
       "        text-align: right;\n",
       "    }\n",
       "</style>\n",
       "<table border=\"1\" class=\"dataframe\">\n",
       "  <thead>\n",
       "    <tr style=\"text-align: right;\">\n",
       "      <th></th>\n",
       "      <th>X</th>\n",
       "      <th>Y</th>\n",
       "      <th>summer</th>\n",
       "      <th>weekend</th>\n",
       "      <th>FFMC</th>\n",
       "      <th>DMC</th>\n",
       "      <th>DC</th>\n",
       "      <th>ISI</th>\n",
       "      <th>temp</th>\n",
       "      <th>RH</th>\n",
       "      <th>wind</th>\n",
       "      <th>rain</th>\n",
       "      <th>area</th>\n",
       "      <th>log_area</th>\n",
       "    </tr>\n",
       "  </thead>\n",
       "  <tbody>\n",
       "    <tr>\n",
       "      <th>1</th>\n",
       "      <td>7</td>\n",
       "      <td>5</td>\n",
       "      <td>0</td>\n",
       "      <td>1</td>\n",
       "      <td>86.2</td>\n",
       "      <td>26.200000</td>\n",
       "      <td>94.3</td>\n",
       "      <td>5.1</td>\n",
       "      <td>18.908097</td>\n",
       "      <td>51.0</td>\n",
       "      <td>6.700000</td>\n",
       "      <td>0.0</td>\n",
       "      <td>0.0</td>\n",
       "      <td>0.0</td>\n",
       "    </tr>\n",
       "    <tr>\n",
       "      <th>2</th>\n",
       "      <td>7</td>\n",
       "      <td>4</td>\n",
       "      <td>0</td>\n",
       "      <td>0</td>\n",
       "      <td>90.6</td>\n",
       "      <td>111.417778</td>\n",
       "      <td>669.1</td>\n",
       "      <td>6.7</td>\n",
       "      <td>18.000000</td>\n",
       "      <td>33.0</td>\n",
       "      <td>0.900000</td>\n",
       "      <td>0.0</td>\n",
       "      <td>0.0</td>\n",
       "      <td>0.0</td>\n",
       "    </tr>\n",
       "    <tr>\n",
       "      <th>3</th>\n",
       "      <td>7</td>\n",
       "      <td>4</td>\n",
       "      <td>0</td>\n",
       "      <td>1</td>\n",
       "      <td>90.6</td>\n",
       "      <td>43.700000</td>\n",
       "      <td>664.5</td>\n",
       "      <td>6.7</td>\n",
       "      <td>14.600000</td>\n",
       "      <td>33.0</td>\n",
       "      <td>1.300000</td>\n",
       "      <td>0.0</td>\n",
       "      <td>0.0</td>\n",
       "      <td>0.0</td>\n",
       "    </tr>\n",
       "    <tr>\n",
       "      <th>4</th>\n",
       "      <td>8</td>\n",
       "      <td>6</td>\n",
       "      <td>0</td>\n",
       "      <td>1</td>\n",
       "      <td>91.7</td>\n",
       "      <td>33.300000</td>\n",
       "      <td>77.5</td>\n",
       "      <td>9.0</td>\n",
       "      <td>8.300000</td>\n",
       "      <td>97.0</td>\n",
       "      <td>4.000000</td>\n",
       "      <td>0.2</td>\n",
       "      <td>0.0</td>\n",
       "      <td>0.0</td>\n",
       "    </tr>\n",
       "    <tr>\n",
       "      <th>5</th>\n",
       "      <td>8</td>\n",
       "      <td>6</td>\n",
       "      <td>0</td>\n",
       "      <td>1</td>\n",
       "      <td>89.3</td>\n",
       "      <td>51.300000</td>\n",
       "      <td>102.2</td>\n",
       "      <td>9.6</td>\n",
       "      <td>11.400000</td>\n",
       "      <td>99.0</td>\n",
       "      <td>4.027292</td>\n",
       "      <td>0.0</td>\n",
       "      <td>0.0</td>\n",
       "      <td>0.0</td>\n",
       "    </tr>\n",
       "  </tbody>\n",
       "</table>\n",
       "</div>"
      ],
      "text/plain": [
       "   X  Y  summer  weekend  FFMC         DMC     DC  ISI       temp    RH  \\\n",
       "1  7  5       0        1  86.2   26.200000   94.3  5.1  18.908097  51.0   \n",
       "2  7  4       0        0  90.6  111.417778  669.1  6.7  18.000000  33.0   \n",
       "3  7  4       0        1  90.6   43.700000  664.5  6.7  14.600000  33.0   \n",
       "4  8  6       0        1  91.7   33.300000   77.5  9.0   8.300000  97.0   \n",
       "5  8  6       0        1  89.3   51.300000  102.2  9.6  11.400000  99.0   \n",
       "\n",
       "       wind  rain  area  log_area  \n",
       "1  6.700000   0.0   0.0       0.0  \n",
       "2  0.900000   0.0   0.0       0.0  \n",
       "3  1.300000   0.0   0.0       0.0  \n",
       "4  4.000000   0.2   0.0       0.0  \n",
       "5  4.027292   0.0   0.0       0.0  "
      ]
     },
     "execution_count": 41,
     "metadata": {},
     "output_type": "execute_result"
    }
   ],
   "source": [
    "fires['month'] = fires['month'].apply(lambda x: 1 if x in (6, 7, 8) else 0)\n",
    "fires = fires.rename(columns={'month': 'summer'})\n",
    "fires.head()"
   ]
  },
  {
   "cell_type": "markdown",
   "id": "4f36dd1e-e25a-4be1-9474-518e04b5e752",
   "metadata": {},
   "source": [
    "I also think that columns X and Y don't really provice any valuable information, if we want to predict the area in a completely different coordinates, so I will remove those from the final dataset."
   ]
  },
  {
   "cell_type": "code",
   "execution_count": 42,
   "id": "54ed5aa4-e83a-4786-b0ba-60a2ea4cfb76",
   "metadata": {},
   "outputs": [
    {
     "data": {
      "text/html": [
       "<div>\n",
       "<style scoped>\n",
       "    .dataframe tbody tr th:only-of-type {\n",
       "        vertical-align: middle;\n",
       "    }\n",
       "\n",
       "    .dataframe tbody tr th {\n",
       "        vertical-align: top;\n",
       "    }\n",
       "\n",
       "    .dataframe thead th {\n",
       "        text-align: right;\n",
       "    }\n",
       "</style>\n",
       "<table border=\"1\" class=\"dataframe\">\n",
       "  <thead>\n",
       "    <tr style=\"text-align: right;\">\n",
       "      <th></th>\n",
       "      <th>summer</th>\n",
       "      <th>weekend</th>\n",
       "      <th>FFMC</th>\n",
       "      <th>DMC</th>\n",
       "      <th>DC</th>\n",
       "      <th>ISI</th>\n",
       "      <th>temp</th>\n",
       "      <th>RH</th>\n",
       "      <th>wind</th>\n",
       "      <th>rain</th>\n",
       "      <th>area</th>\n",
       "      <th>log_area</th>\n",
       "    </tr>\n",
       "  </thead>\n",
       "  <tbody>\n",
       "    <tr>\n",
       "      <th>1</th>\n",
       "      <td>0</td>\n",
       "      <td>1</td>\n",
       "      <td>86.2</td>\n",
       "      <td>26.200000</td>\n",
       "      <td>94.3</td>\n",
       "      <td>5.1</td>\n",
       "      <td>18.908097</td>\n",
       "      <td>51.0</td>\n",
       "      <td>6.700000</td>\n",
       "      <td>0.0</td>\n",
       "      <td>0.0</td>\n",
       "      <td>0.0</td>\n",
       "    </tr>\n",
       "    <tr>\n",
       "      <th>2</th>\n",
       "      <td>0</td>\n",
       "      <td>0</td>\n",
       "      <td>90.6</td>\n",
       "      <td>111.417778</td>\n",
       "      <td>669.1</td>\n",
       "      <td>6.7</td>\n",
       "      <td>18.000000</td>\n",
       "      <td>33.0</td>\n",
       "      <td>0.900000</td>\n",
       "      <td>0.0</td>\n",
       "      <td>0.0</td>\n",
       "      <td>0.0</td>\n",
       "    </tr>\n",
       "    <tr>\n",
       "      <th>3</th>\n",
       "      <td>0</td>\n",
       "      <td>1</td>\n",
       "      <td>90.6</td>\n",
       "      <td>43.700000</td>\n",
       "      <td>664.5</td>\n",
       "      <td>6.7</td>\n",
       "      <td>14.600000</td>\n",
       "      <td>33.0</td>\n",
       "      <td>1.300000</td>\n",
       "      <td>0.0</td>\n",
       "      <td>0.0</td>\n",
       "      <td>0.0</td>\n",
       "    </tr>\n",
       "    <tr>\n",
       "      <th>4</th>\n",
       "      <td>0</td>\n",
       "      <td>1</td>\n",
       "      <td>91.7</td>\n",
       "      <td>33.300000</td>\n",
       "      <td>77.5</td>\n",
       "      <td>9.0</td>\n",
       "      <td>8.300000</td>\n",
       "      <td>97.0</td>\n",
       "      <td>4.000000</td>\n",
       "      <td>0.2</td>\n",
       "      <td>0.0</td>\n",
       "      <td>0.0</td>\n",
       "    </tr>\n",
       "    <tr>\n",
       "      <th>5</th>\n",
       "      <td>0</td>\n",
       "      <td>1</td>\n",
       "      <td>89.3</td>\n",
       "      <td>51.300000</td>\n",
       "      <td>102.2</td>\n",
       "      <td>9.6</td>\n",
       "      <td>11.400000</td>\n",
       "      <td>99.0</td>\n",
       "      <td>4.027292</td>\n",
       "      <td>0.0</td>\n",
       "      <td>0.0</td>\n",
       "      <td>0.0</td>\n",
       "    </tr>\n",
       "  </tbody>\n",
       "</table>\n",
       "</div>"
      ],
      "text/plain": [
       "   summer  weekend  FFMC         DMC     DC  ISI       temp    RH      wind  \\\n",
       "1       0        1  86.2   26.200000   94.3  5.1  18.908097  51.0  6.700000   \n",
       "2       0        0  90.6  111.417778  669.1  6.7  18.000000  33.0  0.900000   \n",
       "3       0        1  90.6   43.700000  664.5  6.7  14.600000  33.0  1.300000   \n",
       "4       0        1  91.7   33.300000   77.5  9.0   8.300000  97.0  4.000000   \n",
       "5       0        1  89.3   51.300000  102.2  9.6  11.400000  99.0  4.027292   \n",
       "\n",
       "   rain  area  log_area  \n",
       "1   0.0   0.0       0.0  \n",
       "2   0.0   0.0       0.0  \n",
       "3   0.0   0.0       0.0  \n",
       "4   0.2   0.0       0.0  \n",
       "5   0.0   0.0       0.0  "
      ]
     },
     "execution_count": 42,
     "metadata": {},
     "output_type": "execute_result"
    }
   ],
   "source": [
    "fires = fires.drop(columns=['X', 'Y'])\n",
    "fires.head()"
   ]
  },
  {
   "cell_type": "markdown",
   "id": "27cf7ce7-2fc3-4807-9e8a-866c67995990",
   "metadata": {},
   "source": [
    "Now that we have modified our data, let's scale it again and select the features."
   ]
  },
  {
   "cell_type": "markdown",
   "id": "822196f4-27b1-45b5-8f8f-618ca38a9186",
   "metadata": {},
   "source": [
    "### Scaling"
   ]
  },
  {
   "cell_type": "code",
   "execution_count": 43,
   "id": "33e945ee-acd0-4cc0-9544-834703f91e4c",
   "metadata": {},
   "outputs": [
    {
     "data": {
      "text/html": [
       "<div>\n",
       "<style scoped>\n",
       "    .dataframe tbody tr th:only-of-type {\n",
       "        vertical-align: middle;\n",
       "    }\n",
       "\n",
       "    .dataframe tbody tr th {\n",
       "        vertical-align: top;\n",
       "    }\n",
       "\n",
       "    .dataframe thead th {\n",
       "        text-align: right;\n",
       "    }\n",
       "</style>\n",
       "<table border=\"1\" class=\"dataframe\">\n",
       "  <thead>\n",
       "    <tr style=\"text-align: right;\">\n",
       "      <th></th>\n",
       "      <th>summer</th>\n",
       "      <th>weekend</th>\n",
       "      <th>FFMC</th>\n",
       "      <th>DMC</th>\n",
       "      <th>DC</th>\n",
       "      <th>ISI</th>\n",
       "      <th>temp</th>\n",
       "      <th>RH</th>\n",
       "      <th>wind</th>\n",
       "      <th>rain</th>\n",
       "    </tr>\n",
       "  </thead>\n",
       "  <tbody>\n",
       "    <tr>\n",
       "      <th>1</th>\n",
       "      <td>0</td>\n",
       "      <td>1</td>\n",
       "      <td>-1.022874</td>\n",
       "      <td>-1.360767</td>\n",
       "      <td>-1.971344</td>\n",
       "      <td>-0.949604</td>\n",
       "      <td>0.002918</td>\n",
       "      <td>0.444425</td>\n",
       "      <td>1.546021</td>\n",
       "      <td>-0.100532</td>\n",
       "    </tr>\n",
       "    <tr>\n",
       "      <th>2</th>\n",
       "      <td>0</td>\n",
       "      <td>0</td>\n",
       "      <td>-0.025610</td>\n",
       "      <td>0.001697</td>\n",
       "      <td>0.454632</td>\n",
       "      <td>-0.553376</td>\n",
       "      <td>-0.159370</td>\n",
       "      <td>-0.714814</td>\n",
       "      <td>-1.806843</td>\n",
       "      <td>-0.100532</td>\n",
       "    </tr>\n",
       "    <tr>\n",
       "      <th>3</th>\n",
       "      <td>0</td>\n",
       "      <td>1</td>\n",
       "      <td>-0.025610</td>\n",
       "      <td>-1.080977</td>\n",
       "      <td>0.435217</td>\n",
       "      <td>-0.553376</td>\n",
       "      <td>-0.766989</td>\n",
       "      <td>-0.714814</td>\n",
       "      <td>-1.575611</td>\n",
       "      <td>-0.100532</td>\n",
       "    </tr>\n",
       "    <tr>\n",
       "      <th>4</th>\n",
       "      <td>0</td>\n",
       "      <td>1</td>\n",
       "      <td>0.223706</td>\n",
       "      <td>-1.247252</td>\n",
       "      <td>-2.042249</td>\n",
       "      <td>0.016201</td>\n",
       "      <td>-1.892871</td>\n",
       "      <td>3.406925</td>\n",
       "      <td>-0.014795</td>\n",
       "      <td>2.052528</td>\n",
       "    </tr>\n",
       "    <tr>\n",
       "      <th>5</th>\n",
       "      <td>0</td>\n",
       "      <td>1</td>\n",
       "      <td>-0.320256</td>\n",
       "      <td>-0.959468</td>\n",
       "      <td>-1.938001</td>\n",
       "      <td>0.164787</td>\n",
       "      <td>-1.338865</td>\n",
       "      <td>3.535729</td>\n",
       "      <td>0.000982</td>\n",
       "      <td>-0.100532</td>\n",
       "    </tr>\n",
       "  </tbody>\n",
       "</table>\n",
       "</div>"
      ],
      "text/plain": [
       "   summer  weekend      FFMC       DMC        DC       ISI      temp  \\\n",
       "1       0        1 -1.022874 -1.360767 -1.971344 -0.949604  0.002918   \n",
       "2       0        0 -0.025610  0.001697  0.454632 -0.553376 -0.159370   \n",
       "3       0        1 -0.025610 -1.080977  0.435217 -0.553376 -0.766989   \n",
       "4       0        1  0.223706 -1.247252 -2.042249  0.016201 -1.892871   \n",
       "5       0        1 -0.320256 -0.959468 -1.938001  0.164787 -1.338865   \n",
       "\n",
       "         RH      wind      rain  \n",
       "1  0.444425  1.546021 -0.100532  \n",
       "2 -0.714814 -1.806843 -0.100532  \n",
       "3 -0.714814 -1.575611 -0.100532  \n",
       "4  3.406925 -0.014795  2.052528  \n",
       "5  3.535729  0.000982 -0.100532  "
      ]
     },
     "execution_count": 43,
     "metadata": {},
     "output_type": "execute_result"
    }
   ],
   "source": [
    "#no need to scale summer and weekend, cause they are 0 and 1\n",
    "#not scaling areas\n",
    "final_scaled = scaler.fit_transform(fires.iloc[:,2:10])\n",
    "final_scaled = pd.DataFrame(final_scaled, columns = fires.iloc[:,2:10].columns)\n",
    "weekend_summer_df = fires.iloc[:,:2]\n",
    "final_scaled.index = weekend_summer_df.index\n",
    "final_df = pd.concat([weekend_summer_df, final_scaled], axis=1)\n",
    "final_df.head()"
   ]
  },
  {
   "cell_type": "code",
   "execution_count": 44,
   "id": "d3265057-f151-40a3-8542-a05d6fa3f527",
   "metadata": {},
   "outputs": [
    {
     "name": "stdout",
     "output_type": "stream",
     "text": [
      "(411, 10) (103, 10) (411,) (103,)\n"
     ]
    }
   ],
   "source": [
    "X = final_df\n",
    "y = fires['log_area']\n",
    "\n",
    "X_train, X_test, y_train, y_test = train_test_split(X,y, test_size = 0.2, random_state=1)\n",
    "print(X_train.shape, X_test.shape, y_train.shape, y_test.shape)"
   ]
  },
  {
   "cell_type": "markdown",
   "id": "411f719e-70d0-4466-a686-9b35794fca63",
   "metadata": {},
   "source": [
    "### Forward Selection"
   ]
  },
  {
   "cell_type": "code",
   "execution_count": 45,
   "id": "17dad099-ff9e-47d0-b286-547a1a54ab1d",
   "metadata": {},
   "outputs": [
    {
     "name": "stdout",
     "output_type": "stream",
     "text": [
      "With 2 features: Index(['DMC', 'wind'], dtype='object')\n",
      "With 3 features: Index(['summer', 'DMC', 'wind'], dtype='object')\n",
      "With 3 features: Index(['summer', 'DMC', 'DC', 'wind', 'rain'], dtype='object')\n"
     ]
    }
   ],
   "source": [
    "seq_for_2 = SequentialFeatureSelector(ref_model,\n",
    "                                      n_features_to_select = 2,\n",
    "                                      direction='forward')\n",
    "seq_for_3 = SequentialFeatureSelector(ref_model,\n",
    "                                      n_features_to_select = 3,\n",
    "                                      direction='forward')\n",
    "seq_for_5 = SequentialFeatureSelector(ref_model,\n",
    "                                      n_features_to_select = 5,\n",
    "                                      direction='forward')\n",
    "seq_for_2.fit(X_train, y_train)\n",
    "seq_for_3.fit(X_train, y_train)\n",
    "seq_for_5.fit(X_train, y_train)\n",
    "\n",
    "feature_names = X.columns\n",
    "\n",
    "selected_2_features_forward = feature_names[seq_for_2.get_support()]\n",
    "selected_3_features_forward = feature_names[seq_for_3.get_support()]\n",
    "selected_5_features_forward = feature_names[seq_for_5.get_support()]\n",
    "\n",
    "print(f\"With 2 features: {selected_2_features_forward}\")\n",
    "print(f\"With 3 features: {selected_3_features_forward}\")\n",
    "print(f\"With 3 features: {selected_5_features_forward}\")"
   ]
  },
  {
   "cell_type": "markdown",
   "id": "780b3c8e-fa71-493b-ba1c-9233aa4f4854",
   "metadata": {},
   "source": [
    "### Backward Selection"
   ]
  },
  {
   "cell_type": "code",
   "execution_count": 46,
   "id": "d797d755-56df-453a-aaff-e06daea4de7c",
   "metadata": {},
   "outputs": [
    {
     "name": "stdout",
     "output_type": "stream",
     "text": [
      "Features selected in 2 feature model: ['DMC' 'wind']\n",
      "Features selected in 3 feature model: ['summer' 'DMC' 'wind']\n",
      "Features selected in 5 feature model: ['summer' 'DMC' 'DC' 'wind' 'rain']\n"
     ]
    }
   ],
   "source": [
    "seq_back_2 = SequentialFeatureSelector(ref_model,\n",
    "                                       n_features_to_select = 2,\n",
    "                                       direction = 'backward')\n",
    "seq_back_3 = SequentialFeatureSelector(ref_model,\n",
    "                                       n_features_to_select = 3,\n",
    "                                       direction = 'backward')\n",
    "seq_back_5 = SequentialFeatureSelector(ref_model,\n",
    "                                      n_features_to_select = 5,\n",
    "                                      direction='backward')\n",
    "seq_back_2.fit(X_train, y_train)\n",
    "seq_back_3.fit(X_train, y_train)\n",
    "seq_back_5.fit(X_train, y_train)\n",
    "\n",
    "print(\"Features selected in 2 feature model:\", seq_back_2.get_feature_names_out())\n",
    "print(\"Features selected in 3 feature model:\", seq_back_3.get_feature_names_out())\n",
    "print(\"Features selected in 5 feature model:\", seq_back_5.get_feature_names_out())"
   ]
  },
  {
   "cell_type": "markdown",
   "id": "42176835-b156-4d65-b6bd-28af3b0da6c6",
   "metadata": {},
   "source": [
    "Again both of the selection methods have same features. `summer`, `DMC` and `wind` seem to be top 3 features."
   ]
  },
  {
   "cell_type": "markdown",
   "id": "2bb1127b-147f-4e01-af09-e163a23fe67d",
   "metadata": {},
   "source": [
    "## Assigning Models"
   ]
  },
  {
   "cell_type": "code",
   "execution_count": 47,
   "id": "c5b9211b-c496-4f91-a882-d658d959e74c",
   "metadata": {},
   "outputs": [
    {
     "data": {
      "text/html": [
       "<style>#sk-container-id-1 {\n",
       "  /* Definition of color scheme common for light and dark mode */\n",
       "  --sklearn-color-text: black;\n",
       "  --sklearn-color-line: gray;\n",
       "  /* Definition of color scheme for unfitted estimators */\n",
       "  --sklearn-color-unfitted-level-0: #fff5e6;\n",
       "  --sklearn-color-unfitted-level-1: #f6e4d2;\n",
       "  --sklearn-color-unfitted-level-2: #ffe0b3;\n",
       "  --sklearn-color-unfitted-level-3: chocolate;\n",
       "  /* Definition of color scheme for fitted estimators */\n",
       "  --sklearn-color-fitted-level-0: #f0f8ff;\n",
       "  --sklearn-color-fitted-level-1: #d4ebff;\n",
       "  --sklearn-color-fitted-level-2: #b3dbfd;\n",
       "  --sklearn-color-fitted-level-3: cornflowerblue;\n",
       "\n",
       "  /* Specific color for light theme */\n",
       "  --sklearn-color-text-on-default-background: var(--sg-text-color, var(--theme-code-foreground, var(--jp-content-font-color1, black)));\n",
       "  --sklearn-color-background: var(--sg-background-color, var(--theme-background, var(--jp-layout-color0, white)));\n",
       "  --sklearn-color-border-box: var(--sg-text-color, var(--theme-code-foreground, var(--jp-content-font-color1, black)));\n",
       "  --sklearn-color-icon: #696969;\n",
       "\n",
       "  @media (prefers-color-scheme: dark) {\n",
       "    /* Redefinition of color scheme for dark theme */\n",
       "    --sklearn-color-text-on-default-background: var(--sg-text-color, var(--theme-code-foreground, var(--jp-content-font-color1, white)));\n",
       "    --sklearn-color-background: var(--sg-background-color, var(--theme-background, var(--jp-layout-color0, #111)));\n",
       "    --sklearn-color-border-box: var(--sg-text-color, var(--theme-code-foreground, var(--jp-content-font-color1, white)));\n",
       "    --sklearn-color-icon: #878787;\n",
       "  }\n",
       "}\n",
       "\n",
       "#sk-container-id-1 {\n",
       "  color: var(--sklearn-color-text);\n",
       "}\n",
       "\n",
       "#sk-container-id-1 pre {\n",
       "  padding: 0;\n",
       "}\n",
       "\n",
       "#sk-container-id-1 input.sk-hidden--visually {\n",
       "  border: 0;\n",
       "  clip: rect(1px 1px 1px 1px);\n",
       "  clip: rect(1px, 1px, 1px, 1px);\n",
       "  height: 1px;\n",
       "  margin: -1px;\n",
       "  overflow: hidden;\n",
       "  padding: 0;\n",
       "  position: absolute;\n",
       "  width: 1px;\n",
       "}\n",
       "\n",
       "#sk-container-id-1 div.sk-dashed-wrapped {\n",
       "  border: 1px dashed var(--sklearn-color-line);\n",
       "  margin: 0 0.4em 0.5em 0.4em;\n",
       "  box-sizing: border-box;\n",
       "  padding-bottom: 0.4em;\n",
       "  background-color: var(--sklearn-color-background);\n",
       "}\n",
       "\n",
       "#sk-container-id-1 div.sk-container {\n",
       "  /* jupyter's `normalize.less` sets `[hidden] { display: none; }`\n",
       "     but bootstrap.min.css set `[hidden] { display: none !important; }`\n",
       "     so we also need the `!important` here to be able to override the\n",
       "     default hidden behavior on the sphinx rendered scikit-learn.org.\n",
       "     See: https://github.com/scikit-learn/scikit-learn/issues/21755 */\n",
       "  display: inline-block !important;\n",
       "  position: relative;\n",
       "}\n",
       "\n",
       "#sk-container-id-1 div.sk-text-repr-fallback {\n",
       "  display: none;\n",
       "}\n",
       "\n",
       "div.sk-parallel-item,\n",
       "div.sk-serial,\n",
       "div.sk-item {\n",
       "  /* draw centered vertical line to link estimators */\n",
       "  background-image: linear-gradient(var(--sklearn-color-text-on-default-background), var(--sklearn-color-text-on-default-background));\n",
       "  background-size: 2px 100%;\n",
       "  background-repeat: no-repeat;\n",
       "  background-position: center center;\n",
       "}\n",
       "\n",
       "/* Parallel-specific style estimator block */\n",
       "\n",
       "#sk-container-id-1 div.sk-parallel-item::after {\n",
       "  content: \"\";\n",
       "  width: 100%;\n",
       "  border-bottom: 2px solid var(--sklearn-color-text-on-default-background);\n",
       "  flex-grow: 1;\n",
       "}\n",
       "\n",
       "#sk-container-id-1 div.sk-parallel {\n",
       "  display: flex;\n",
       "  align-items: stretch;\n",
       "  justify-content: center;\n",
       "  background-color: var(--sklearn-color-background);\n",
       "  position: relative;\n",
       "}\n",
       "\n",
       "#sk-container-id-1 div.sk-parallel-item {\n",
       "  display: flex;\n",
       "  flex-direction: column;\n",
       "}\n",
       "\n",
       "#sk-container-id-1 div.sk-parallel-item:first-child::after {\n",
       "  align-self: flex-end;\n",
       "  width: 50%;\n",
       "}\n",
       "\n",
       "#sk-container-id-1 div.sk-parallel-item:last-child::after {\n",
       "  align-self: flex-start;\n",
       "  width: 50%;\n",
       "}\n",
       "\n",
       "#sk-container-id-1 div.sk-parallel-item:only-child::after {\n",
       "  width: 0;\n",
       "}\n",
       "\n",
       "/* Serial-specific style estimator block */\n",
       "\n",
       "#sk-container-id-1 div.sk-serial {\n",
       "  display: flex;\n",
       "  flex-direction: column;\n",
       "  align-items: center;\n",
       "  background-color: var(--sklearn-color-background);\n",
       "  padding-right: 1em;\n",
       "  padding-left: 1em;\n",
       "}\n",
       "\n",
       "\n",
       "/* Toggleable style: style used for estimator/Pipeline/ColumnTransformer box that is\n",
       "clickable and can be expanded/collapsed.\n",
       "- Pipeline and ColumnTransformer use this feature and define the default style\n",
       "- Estimators will overwrite some part of the style using the `sk-estimator` class\n",
       "*/\n",
       "\n",
       "/* Pipeline and ColumnTransformer style (default) */\n",
       "\n",
       "#sk-container-id-1 div.sk-toggleable {\n",
       "  /* Default theme specific background. It is overwritten whether we have a\n",
       "  specific estimator or a Pipeline/ColumnTransformer */\n",
       "  background-color: var(--sklearn-color-background);\n",
       "}\n",
       "\n",
       "/* Toggleable label */\n",
       "#sk-container-id-1 label.sk-toggleable__label {\n",
       "  cursor: pointer;\n",
       "  display: block;\n",
       "  width: 100%;\n",
       "  margin-bottom: 0;\n",
       "  padding: 0.5em;\n",
       "  box-sizing: border-box;\n",
       "  text-align: center;\n",
       "}\n",
       "\n",
       "#sk-container-id-1 label.sk-toggleable__label-arrow:before {\n",
       "  /* Arrow on the left of the label */\n",
       "  content: \"▸\";\n",
       "  float: left;\n",
       "  margin-right: 0.25em;\n",
       "  color: var(--sklearn-color-icon);\n",
       "}\n",
       "\n",
       "#sk-container-id-1 label.sk-toggleable__label-arrow:hover:before {\n",
       "  color: var(--sklearn-color-text);\n",
       "}\n",
       "\n",
       "/* Toggleable content - dropdown */\n",
       "\n",
       "#sk-container-id-1 div.sk-toggleable__content {\n",
       "  max-height: 0;\n",
       "  max-width: 0;\n",
       "  overflow: hidden;\n",
       "  text-align: left;\n",
       "  /* unfitted */\n",
       "  background-color: var(--sklearn-color-unfitted-level-0);\n",
       "}\n",
       "\n",
       "#sk-container-id-1 div.sk-toggleable__content.fitted {\n",
       "  /* fitted */\n",
       "  background-color: var(--sklearn-color-fitted-level-0);\n",
       "}\n",
       "\n",
       "#sk-container-id-1 div.sk-toggleable__content pre {\n",
       "  margin: 0.2em;\n",
       "  border-radius: 0.25em;\n",
       "  color: var(--sklearn-color-text);\n",
       "  /* unfitted */\n",
       "  background-color: var(--sklearn-color-unfitted-level-0);\n",
       "}\n",
       "\n",
       "#sk-container-id-1 div.sk-toggleable__content.fitted pre {\n",
       "  /* unfitted */\n",
       "  background-color: var(--sklearn-color-fitted-level-0);\n",
       "}\n",
       "\n",
       "#sk-container-id-1 input.sk-toggleable__control:checked~div.sk-toggleable__content {\n",
       "  /* Expand drop-down */\n",
       "  max-height: 200px;\n",
       "  max-width: 100%;\n",
       "  overflow: auto;\n",
       "}\n",
       "\n",
       "#sk-container-id-1 input.sk-toggleable__control:checked~label.sk-toggleable__label-arrow:before {\n",
       "  content: \"▾\";\n",
       "}\n",
       "\n",
       "/* Pipeline/ColumnTransformer-specific style */\n",
       "\n",
       "#sk-container-id-1 div.sk-label input.sk-toggleable__control:checked~label.sk-toggleable__label {\n",
       "  color: var(--sklearn-color-text);\n",
       "  background-color: var(--sklearn-color-unfitted-level-2);\n",
       "}\n",
       "\n",
       "#sk-container-id-1 div.sk-label.fitted input.sk-toggleable__control:checked~label.sk-toggleable__label {\n",
       "  background-color: var(--sklearn-color-fitted-level-2);\n",
       "}\n",
       "\n",
       "/* Estimator-specific style */\n",
       "\n",
       "/* Colorize estimator box */\n",
       "#sk-container-id-1 div.sk-estimator input.sk-toggleable__control:checked~label.sk-toggleable__label {\n",
       "  /* unfitted */\n",
       "  background-color: var(--sklearn-color-unfitted-level-2);\n",
       "}\n",
       "\n",
       "#sk-container-id-1 div.sk-estimator.fitted input.sk-toggleable__control:checked~label.sk-toggleable__label {\n",
       "  /* fitted */\n",
       "  background-color: var(--sklearn-color-fitted-level-2);\n",
       "}\n",
       "\n",
       "#sk-container-id-1 div.sk-label label.sk-toggleable__label,\n",
       "#sk-container-id-1 div.sk-label label {\n",
       "  /* The background is the default theme color */\n",
       "  color: var(--sklearn-color-text-on-default-background);\n",
       "}\n",
       "\n",
       "/* On hover, darken the color of the background */\n",
       "#sk-container-id-1 div.sk-label:hover label.sk-toggleable__label {\n",
       "  color: var(--sklearn-color-text);\n",
       "  background-color: var(--sklearn-color-unfitted-level-2);\n",
       "}\n",
       "\n",
       "/* Label box, darken color on hover, fitted */\n",
       "#sk-container-id-1 div.sk-label.fitted:hover label.sk-toggleable__label.fitted {\n",
       "  color: var(--sklearn-color-text);\n",
       "  background-color: var(--sklearn-color-fitted-level-2);\n",
       "}\n",
       "\n",
       "/* Estimator label */\n",
       "\n",
       "#sk-container-id-1 div.sk-label label {\n",
       "  font-family: monospace;\n",
       "  font-weight: bold;\n",
       "  display: inline-block;\n",
       "  line-height: 1.2em;\n",
       "}\n",
       "\n",
       "#sk-container-id-1 div.sk-label-container {\n",
       "  text-align: center;\n",
       "}\n",
       "\n",
       "/* Estimator-specific */\n",
       "#sk-container-id-1 div.sk-estimator {\n",
       "  font-family: monospace;\n",
       "  border: 1px dotted var(--sklearn-color-border-box);\n",
       "  border-radius: 0.25em;\n",
       "  box-sizing: border-box;\n",
       "  margin-bottom: 0.5em;\n",
       "  /* unfitted */\n",
       "  background-color: var(--sklearn-color-unfitted-level-0);\n",
       "}\n",
       "\n",
       "#sk-container-id-1 div.sk-estimator.fitted {\n",
       "  /* fitted */\n",
       "  background-color: var(--sklearn-color-fitted-level-0);\n",
       "}\n",
       "\n",
       "/* on hover */\n",
       "#sk-container-id-1 div.sk-estimator:hover {\n",
       "  /* unfitted */\n",
       "  background-color: var(--sklearn-color-unfitted-level-2);\n",
       "}\n",
       "\n",
       "#sk-container-id-1 div.sk-estimator.fitted:hover {\n",
       "  /* fitted */\n",
       "  background-color: var(--sklearn-color-fitted-level-2);\n",
       "}\n",
       "\n",
       "/* Specification for estimator info (e.g. \"i\" and \"?\") */\n",
       "\n",
       "/* Common style for \"i\" and \"?\" */\n",
       "\n",
       ".sk-estimator-doc-link,\n",
       "a:link.sk-estimator-doc-link,\n",
       "a:visited.sk-estimator-doc-link {\n",
       "  float: right;\n",
       "  font-size: smaller;\n",
       "  line-height: 1em;\n",
       "  font-family: monospace;\n",
       "  background-color: var(--sklearn-color-background);\n",
       "  border-radius: 1em;\n",
       "  height: 1em;\n",
       "  width: 1em;\n",
       "  text-decoration: none !important;\n",
       "  margin-left: 1ex;\n",
       "  /* unfitted */\n",
       "  border: var(--sklearn-color-unfitted-level-1) 1pt solid;\n",
       "  color: var(--sklearn-color-unfitted-level-1);\n",
       "}\n",
       "\n",
       ".sk-estimator-doc-link.fitted,\n",
       "a:link.sk-estimator-doc-link.fitted,\n",
       "a:visited.sk-estimator-doc-link.fitted {\n",
       "  /* fitted */\n",
       "  border: var(--sklearn-color-fitted-level-1) 1pt solid;\n",
       "  color: var(--sklearn-color-fitted-level-1);\n",
       "}\n",
       "\n",
       "/* On hover */\n",
       "div.sk-estimator:hover .sk-estimator-doc-link:hover,\n",
       ".sk-estimator-doc-link:hover,\n",
       "div.sk-label-container:hover .sk-estimator-doc-link:hover,\n",
       ".sk-estimator-doc-link:hover {\n",
       "  /* unfitted */\n",
       "  background-color: var(--sklearn-color-unfitted-level-3);\n",
       "  color: var(--sklearn-color-background);\n",
       "  text-decoration: none;\n",
       "}\n",
       "\n",
       "div.sk-estimator.fitted:hover .sk-estimator-doc-link.fitted:hover,\n",
       ".sk-estimator-doc-link.fitted:hover,\n",
       "div.sk-label-container:hover .sk-estimator-doc-link.fitted:hover,\n",
       ".sk-estimator-doc-link.fitted:hover {\n",
       "  /* fitted */\n",
       "  background-color: var(--sklearn-color-fitted-level-3);\n",
       "  color: var(--sklearn-color-background);\n",
       "  text-decoration: none;\n",
       "}\n",
       "\n",
       "/* Span, style for the box shown on hovering the info icon */\n",
       ".sk-estimator-doc-link span {\n",
       "  display: none;\n",
       "  z-index: 9999;\n",
       "  position: relative;\n",
       "  font-weight: normal;\n",
       "  right: .2ex;\n",
       "  padding: .5ex;\n",
       "  margin: .5ex;\n",
       "  width: min-content;\n",
       "  min-width: 20ex;\n",
       "  max-width: 50ex;\n",
       "  color: var(--sklearn-color-text);\n",
       "  box-shadow: 2pt 2pt 4pt #999;\n",
       "  /* unfitted */\n",
       "  background: var(--sklearn-color-unfitted-level-0);\n",
       "  border: .5pt solid var(--sklearn-color-unfitted-level-3);\n",
       "}\n",
       "\n",
       ".sk-estimator-doc-link.fitted span {\n",
       "  /* fitted */\n",
       "  background: var(--sklearn-color-fitted-level-0);\n",
       "  border: var(--sklearn-color-fitted-level-3);\n",
       "}\n",
       "\n",
       ".sk-estimator-doc-link:hover span {\n",
       "  display: block;\n",
       "}\n",
       "\n",
       "/* \"?\"-specific style due to the `<a>` HTML tag */\n",
       "\n",
       "#sk-container-id-1 a.estimator_doc_link {\n",
       "  float: right;\n",
       "  font-size: 1rem;\n",
       "  line-height: 1em;\n",
       "  font-family: monospace;\n",
       "  background-color: var(--sklearn-color-background);\n",
       "  border-radius: 1rem;\n",
       "  height: 1rem;\n",
       "  width: 1rem;\n",
       "  text-decoration: none;\n",
       "  /* unfitted */\n",
       "  color: var(--sklearn-color-unfitted-level-1);\n",
       "  border: var(--sklearn-color-unfitted-level-1) 1pt solid;\n",
       "}\n",
       "\n",
       "#sk-container-id-1 a.estimator_doc_link.fitted {\n",
       "  /* fitted */\n",
       "  border: var(--sklearn-color-fitted-level-1) 1pt solid;\n",
       "  color: var(--sklearn-color-fitted-level-1);\n",
       "}\n",
       "\n",
       "/* On hover */\n",
       "#sk-container-id-1 a.estimator_doc_link:hover {\n",
       "  /* unfitted */\n",
       "  background-color: var(--sklearn-color-unfitted-level-3);\n",
       "  color: var(--sklearn-color-background);\n",
       "  text-decoration: none;\n",
       "}\n",
       "\n",
       "#sk-container-id-1 a.estimator_doc_link.fitted:hover {\n",
       "  /* fitted */\n",
       "  background-color: var(--sklearn-color-fitted-level-3);\n",
       "}\n",
       "</style><div id=\"sk-container-id-1\" class=\"sk-top-container\"><div class=\"sk-text-repr-fallback\"><pre>LinearRegression()</pre><b>In a Jupyter environment, please rerun this cell to show the HTML representation or trust the notebook. <br />On GitHub, the HTML representation is unable to render, please try loading this page with nbviewer.org.</b></div><div class=\"sk-container\" hidden><div class=\"sk-item\"><div class=\"sk-estimator fitted sk-toggleable\"><input class=\"sk-toggleable__control sk-hidden--visually\" id=\"sk-estimator-id-1\" type=\"checkbox\" checked><label for=\"sk-estimator-id-1\" class=\"sk-toggleable__label fitted sk-toggleable__label-arrow fitted\">&nbsp;&nbsp;LinearRegression<a class=\"sk-estimator-doc-link fitted\" rel=\"noreferrer\" target=\"_blank\" href=\"https://scikit-learn.org/1.4/modules/generated/sklearn.linear_model.LinearRegression.html\">?<span>Documentation for LinearRegression</span></a><span class=\"sk-estimator-doc-link fitted\">i<span>Fitted</span></span></label><div class=\"sk-toggleable__content fitted\"><pre>LinearRegression()</pre></div> </div></div></div></div>"
      ],
      "text/plain": [
       "LinearRegression()"
      ]
     },
     "execution_count": 47,
     "metadata": {},
     "output_type": "execute_result"
    }
   ],
   "source": [
    "fw2_model = LinearRegression() \n",
    "fw2_model.fit(final_df[seq_for_2.get_feature_names_out()], y)\n",
    "fw3_model = LinearRegression() \n",
    "fw3_model.fit(final_df[seq_for_3.get_feature_names_out()], y)\n",
    "fw5_model = LinearRegression() \n",
    "fw5_model.fit(final_df[seq_for_5.get_feature_names_out()], y)"
   ]
  },
  {
   "cell_type": "markdown",
   "id": "584ec63f-0f1b-4715-83be-348621dfa2d3",
   "metadata": {},
   "source": [
    "# More Candidate Models"
   ]
  },
  {
   "cell_type": "markdown",
   "id": "f6814190-dddf-4d29-ac59-0d549b7178d1",
   "metadata": {},
   "source": [
    "Another approach we might consider taking is using regularized versions of linear regression. Fires have many factors that can increase the damage they have, so it seems unhelpful to restrict our model to a univariate, non-linear model. Next we are going to add ridge and LASSO models."
   ]
  },
  {
   "cell_type": "code",
   "execution_count": 48,
   "id": "75eb5176-446a-442f-9af3-b03591dbb84b",
   "metadata": {},
   "outputs": [
    {
     "name": "stdout",
     "output_type": "stream",
     "text": [
      "Ridge tuning parameter:  681.6126126126127\n",
      "LASSO tuning parameter:  10000.0\n",
      "Ridge coefficients:  [-0.0400243   0.00150899  0.01991369  0.05086245  0.04544588 -0.01918611\n",
      "  0.01535969 -0.03612795  0.06221562 -0.05141238]\n",
      "LASSO coefficients:  [-0.  0.  0.  0.  0.  0.  0. -0.  0. -0.]\n"
     ]
    }
   ],
   "source": [
    "from sklearn.linear_model import LassoCV, RidgeCV\n",
    "\n",
    "ridge = RidgeCV(alphas = np.linspace(1, 10000, num=1000))\n",
    "lasso = LassoCV(alphas = np.linspace(1, 10000, num=1000))\n",
    "\n",
    "ridge.fit(final_df, y)\n",
    "lasso.fit(final_df, y)\n",
    "\n",
    "print(\"Ridge tuning parameter: \", ridge.alpha_)\n",
    "print(\"LASSO tuning parameter: \", lasso.alpha_)\n",
    "\n",
    "print(\"Ridge coefficients: \", ridge.coef_)\n",
    "print(\"LASSO coefficients: \", lasso.coef_)"
   ]
  },
  {
   "cell_type": "markdown",
   "id": "74d39234-e3df-4003-a75a-3fbd87955fc4",
   "metadata": {},
   "source": [
    "The Ridge tuning parameter is approximately 681.61. This parameter applies a moderate level of regularization to the model, shrinking the coefficients to prevent overfitting but still allowing them to retain some influence. The coefficients tell us how much each feature affects `log_area`.\n",
    "\n",
    "The LASSO tuning parameter always seems to get the highest value possible. It doesn't matter if we change the maximum to 100000 or even 1000000, it will always be the highest value. Because of this the coefficients are 0.\n",
    "\n",
    "From the coefficients we can see that they are all close to 0. Because LASSO coefficients are 0, this would mean that the model performs better with no features.\n",
    "\n",
    "We will use the Ridge turning parameter next in k-fold cross-validation."
   ]
  },
  {
   "cell_type": "markdown",
   "id": "bb305946-64b1-440c-8e41-3db21afc7376",
   "metadata": {},
   "source": [
    "## K-Fold Cross-Validation"
   ]
  },
  {
   "cell_type": "markdown",
   "id": "f96c63fd-fbfa-4d53-8343-b15205d2958b",
   "metadata": {},
   "source": [
    "Now that we have few linear regression models, a ridge model and a lasso model, let's evaluate all of them using k-fold cross-validation. We will be using `k=5`, because it is a good compromise between bias and variance. We will now iterate through all the models and check their mean squared error values."
   ]
  },
  {
   "cell_type": "code",
   "execution_count": 49,
   "id": "f40a08f9-8e3c-4c23-81a2-11a723b24c27",
   "metadata": {},
   "outputs": [],
   "source": [
    "from sklearn.model_selection import cross_val_score\n",
    "\n",
    "#Let's use wind and temp for reference model\n",
    "ref_cv = cross_val_score(ref_model, final_df[[\"wind\", \"temp\"]], y, cv = 5, scoring = \"neg_mean_squared_error\")\n",
    "fw2_cv = cross_val_score(fw2_model, final_df[seq_for_2.get_feature_names_out()], y, cv=5, scoring = \"neg_mean_squared_error\")\n",
    "fw3_cv = cross_val_score(fw3_model, final_df[seq_for_3.get_feature_names_out()], y, cv=5, scoring = \"neg_mean_squared_error\")\n",
    "fw5_cv = cross_val_score(fw5_model, final_df[seq_for_5.get_feature_names_out()], y, cv=5, scoring = \"neg_mean_squared_error\")\n",
    "ridge_cv = cross_val_score(ridge, final_df, y, cv = 5, scoring ='neg_mean_squared_error')"
   ]
  },
  {
   "cell_type": "code",
   "execution_count": 50,
   "id": "25d99623-c1fb-48b3-8d4c-33d640227441",
   "metadata": {},
   "outputs": [
    {
     "name": "stdout",
     "output_type": "stream",
     "text": [
      "Reference Model, Avg Test MSE:  -4.599076499977356  SD:  2.2450503685910617\n",
      "Forward-2 Model, Avg Test MSE:  -4.616953308837746  SD:  2.2113555954120594\n",
      "Forward-4 Model, Avg Test MSE:  -4.7000157167736045  SD:  2.2146763531901037\n",
      "Forward-6 Model, Avg Test MSE:  -4.719151483181365  SD:  2.1971438588072756\n",
      "Ridge Model, Avg Test MSE:  -4.72868707874945  SD:  2.224520743217394\n"
     ]
    }
   ],
   "source": [
    "print(\"Reference Model, Avg Test MSE: \", np.mean(ref_cv), \" SD: \", np.std(ref_cv))\n",
    "print(\"Forward-2 Model, Avg Test MSE: \", np.mean(fw2_cv), \" SD: \", np.std(fw2_cv))\n",
    "print(\"Forward-4 Model, Avg Test MSE: \", np.mean(fw3_cv), \" SD: \", np.std(fw3_cv))\n",
    "print(\"Forward-6 Model, Avg Test MSE: \", np.mean(fw5_cv), \" SD: \", np.std(fw5_cv))\n",
    "print(\"Ridge Model, Avg Test MSE: \", np.mean(ridge_cv), \" SD: \", np.std(ridge_cv))"
   ]
  },
  {
   "cell_type": "markdown",
   "id": "2b402310-050a-4519-8848-df7ace82ca74",
   "metadata": {},
   "source": [
    "According to mean squared error values, the ridge model performs best (lowest mse value). However all the models perform almost the same. These are the `log_area` values, so if we change them to original scale the MSE would be around 25, which is fairly bad. These models overall are not good predictors.\n",
    "\n",
    "We could try to improve these models by deleting all the null values that we imputed with mean or median values. However, this problem is known to be a difficult one. The extreme skew in the outcome hurts many of the assumptions needed by linear models. The point of this project was to showcase that machine learning is not a universal fix. Several problems have characteristics that make prediction difficult."
   ]
  }
 ],
 "metadata": {
  "kernelspec": {
   "display_name": "Python 3 (ipykernel)",
   "language": "python",
   "name": "python3"
  },
  "language_info": {
   "codemirror_mode": {
    "name": "ipython",
    "version": 3
   },
   "file_extension": ".py",
   "mimetype": "text/x-python",
   "name": "python",
   "nbconvert_exporter": "python",
   "pygments_lexer": "ipython3",
   "version": "3.11.5"
  }
 },
 "nbformat": 4,
 "nbformat_minor": 5
}
