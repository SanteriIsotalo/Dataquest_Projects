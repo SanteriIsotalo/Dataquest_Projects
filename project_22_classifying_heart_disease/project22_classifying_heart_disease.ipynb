{
 "cells": [
  {
   "cell_type": "markdown",
   "id": "b6bed373-7cef-4715-951c-abaaa5c3e655",
   "metadata": {},
   "source": [
    "# Project 22 - Classifying Heart Disease"
   ]
  },
  {
   "cell_type": "markdown",
   "id": "08942464-56f5-4783-aac5-2887f02cc933",
   "metadata": {},
   "source": [
    "In this project we'll be using a real-life dataset: [the Heart Disease Data Set](https://archive.ics.uci.edu/dataset/45/heart+disease) from the UCI Machine Learning Repository. This dataset comes from the famous Cleveland Clinic Foundation, which recorded information on various patient characteristics, including age and chest pain, to try to classify the presence of heart disease in an individual. The data has been cleaned so that we can perform binary classification in this project.\n",
    "\n",
    "<b>The goal of this project is to create a Logistic Regression Model, that accurately classifies heart diseases.</b>"
   ]
  },
  {
   "cell_type": "markdown",
   "id": "7e1436b6-218e-4d71-9baf-24c3dcec16d8",
   "metadata": {},
   "source": [
    "## Reading in the Data"
   ]
  },
  {
   "cell_type": "code",
   "execution_count": 1,
   "id": "5fa8a4d3-53e8-4daf-a536-2237f49c1941",
   "metadata": {},
   "outputs": [
    {
     "name": "stdout",
     "output_type": "stream",
     "text": [
      "(303, 14)\n"
     ]
    },
    {
     "data": {
      "text/html": [
       "<div>\n",
       "<style scoped>\n",
       "    .dataframe tbody tr th:only-of-type {\n",
       "        vertical-align: middle;\n",
       "    }\n",
       "\n",
       "    .dataframe tbody tr th {\n",
       "        vertical-align: top;\n",
       "    }\n",
       "\n",
       "    .dataframe thead th {\n",
       "        text-align: right;\n",
       "    }\n",
       "</style>\n",
       "<table border=\"1\" class=\"dataframe\">\n",
       "  <thead>\n",
       "    <tr style=\"text-align: right;\">\n",
       "      <th></th>\n",
       "      <th>age</th>\n",
       "      <th>sex</th>\n",
       "      <th>cp</th>\n",
       "      <th>trestbps</th>\n",
       "      <th>chol</th>\n",
       "      <th>fbs</th>\n",
       "      <th>restecg</th>\n",
       "      <th>thalach</th>\n",
       "      <th>exang</th>\n",
       "      <th>oldpeak</th>\n",
       "      <th>slope</th>\n",
       "      <th>ca</th>\n",
       "      <th>thal</th>\n",
       "      <th>present</th>\n",
       "    </tr>\n",
       "  </thead>\n",
       "  <tbody>\n",
       "    <tr>\n",
       "      <th>1</th>\n",
       "      <td>63</td>\n",
       "      <td>1</td>\n",
       "      <td>1</td>\n",
       "      <td>145</td>\n",
       "      <td>233</td>\n",
       "      <td>1</td>\n",
       "      <td>2</td>\n",
       "      <td>150</td>\n",
       "      <td>0</td>\n",
       "      <td>2.3</td>\n",
       "      <td>3</td>\n",
       "      <td>0.0</td>\n",
       "      <td>6.0</td>\n",
       "      <td>0</td>\n",
       "    </tr>\n",
       "    <tr>\n",
       "      <th>2</th>\n",
       "      <td>67</td>\n",
       "      <td>1</td>\n",
       "      <td>4</td>\n",
       "      <td>160</td>\n",
       "      <td>286</td>\n",
       "      <td>0</td>\n",
       "      <td>2</td>\n",
       "      <td>108</td>\n",
       "      <td>1</td>\n",
       "      <td>1.5</td>\n",
       "      <td>2</td>\n",
       "      <td>3.0</td>\n",
       "      <td>3.0</td>\n",
       "      <td>1</td>\n",
       "    </tr>\n",
       "    <tr>\n",
       "      <th>3</th>\n",
       "      <td>67</td>\n",
       "      <td>1</td>\n",
       "      <td>4</td>\n",
       "      <td>120</td>\n",
       "      <td>229</td>\n",
       "      <td>0</td>\n",
       "      <td>2</td>\n",
       "      <td>129</td>\n",
       "      <td>1</td>\n",
       "      <td>2.6</td>\n",
       "      <td>2</td>\n",
       "      <td>2.0</td>\n",
       "      <td>7.0</td>\n",
       "      <td>1</td>\n",
       "    </tr>\n",
       "    <tr>\n",
       "      <th>4</th>\n",
       "      <td>37</td>\n",
       "      <td>1</td>\n",
       "      <td>3</td>\n",
       "      <td>130</td>\n",
       "      <td>250</td>\n",
       "      <td>0</td>\n",
       "      <td>0</td>\n",
       "      <td>187</td>\n",
       "      <td>0</td>\n",
       "      <td>3.5</td>\n",
       "      <td>3</td>\n",
       "      <td>0.0</td>\n",
       "      <td>3.0</td>\n",
       "      <td>0</td>\n",
       "    </tr>\n",
       "    <tr>\n",
       "      <th>5</th>\n",
       "      <td>41</td>\n",
       "      <td>0</td>\n",
       "      <td>2</td>\n",
       "      <td>130</td>\n",
       "      <td>204</td>\n",
       "      <td>0</td>\n",
       "      <td>2</td>\n",
       "      <td>172</td>\n",
       "      <td>0</td>\n",
       "      <td>1.4</td>\n",
       "      <td>1</td>\n",
       "      <td>0.0</td>\n",
       "      <td>3.0</td>\n",
       "      <td>0</td>\n",
       "    </tr>\n",
       "  </tbody>\n",
       "</table>\n",
       "</div>"
      ],
      "text/plain": [
       "   age  sex  cp  trestbps  chol  fbs  restecg  thalach  exang  oldpeak  slope  \\\n",
       "1   63    1   1       145   233    1        2      150      0      2.3      3   \n",
       "2   67    1   4       160   286    0        2      108      1      1.5      2   \n",
       "3   67    1   4       120   229    0        2      129      1      2.6      2   \n",
       "4   37    1   3       130   250    0        0      187      0      3.5      3   \n",
       "5   41    0   2       130   204    0        2      172      0      1.4      1   \n",
       "\n",
       "    ca thal  present  \n",
       "1  0.0  6.0        0  \n",
       "2  3.0  3.0        1  \n",
       "3  2.0  7.0        1  \n",
       "4  0.0  3.0        0  \n",
       "5  0.0  3.0        0  "
      ]
     },
     "execution_count": 1,
     "metadata": {},
     "output_type": "execute_result"
    }
   ],
   "source": [
    "import pandas as pd\n",
    "heart = pd.read_csv('heart_disease.csv', index_col=0)\n",
    "print(heart.shape)\n",
    "heart.head()"
   ]
  },
  {
   "cell_type": "markdown",
   "id": "802641af-edcc-416c-9232-069b3e70fe8c",
   "metadata": {},
   "source": [
    "Our dataset has 303 rows and 14 columns. The following table contains information about each column:\n",
    "| Column | Description |\n",
    "|-------|--------------|\n",
    "| age| age of the observation |\n",
    "|sex | sex of the observation (1: male, 0:female)|\n",
    "|cp | chest pain type (1: typical angina, 2. atypical angina, 3. non-anginal pain, 4. asymptomatic) |\n",
    "|trestbps| resting blood pressure (mm Hg)|\n",
    "|chol | serum cholestoral in mg/dl |\n",
    "|fbs | fasting blood sugar (1 if over 120mg/dl, else 0) |\n",
    "|restecg | resting electocardiographic results |\n",
    "|thalach | maximum heart rate achieved |\n",
    "|exang | exercise induced angina |\n",
    "|oldpeak | ST depression induced by exercise relative to rest |\n",
    "|slope | the slope of the peak exercise ST segment (1 = upsloping, 2 = flat, 3 = downsloping) |\n",
    "|ca| number of major vessels (0-3) colored by flourosopy |\n",
    "|thal| 3 = normal, 6 = fixed defect, 7 = reversable defect |\n",
    "|present| whether or not the observation has a heart disease (1 = yes, 0 = no) |"
   ]
  },
  {
   "cell_type": "code",
   "execution_count": 2,
   "id": "c698ade6-2283-41c9-b4f6-39abccfaa727",
   "metadata": {},
   "outputs": [
    {
     "data": {
      "text/plain": [
       "age           int64\n",
       "sex           int64\n",
       "cp            int64\n",
       "trestbps      int64\n",
       "chol          int64\n",
       "fbs           int64\n",
       "restecg       int64\n",
       "thalach       int64\n",
       "exang         int64\n",
       "oldpeak     float64\n",
       "slope         int64\n",
       "ca           object\n",
       "thal         object\n",
       "present       int64\n",
       "dtype: object"
      ]
     },
     "execution_count": 2,
     "metadata": {},
     "output_type": "execute_result"
    }
   ],
   "source": [
    "heart.dtypes"
   ]
  },
  {
   "cell_type": "markdown",
   "id": "f4a3aee3-3283-4139-bde4-d73fec9265ba",
   "metadata": {},
   "source": [
    "All of the columns have numerical values, so there is no need to create dummy variables. However, `ca` and `thal` are objects, so let's change them to floats. Let's then check some relationships between the potential predictor variables with the outcome (`present`)."
   ]
  },
  {
   "cell_type": "code",
   "execution_count": 3,
   "id": "20b9d118-1a74-4238-9e3a-65e785b58340",
   "metadata": {},
   "outputs": [
    {
     "name": "stdout",
     "output_type": "stream",
     "text": [
      "['0.0' '3.0' '2.0' '1.0' '?']\n",
      "ca\n",
      "0.0    176\n",
      "1.0     65\n",
      "2.0     38\n",
      "3.0     20\n",
      "?        4\n",
      "Name: count, dtype: int64\n",
      "['6.0' '3.0' '7.0' '?']\n",
      "thal\n",
      "3.0    166\n",
      "7.0    117\n",
      "6.0     18\n",
      "?        2\n",
      "Name: count, dtype: int64\n"
     ]
    }
   ],
   "source": [
    "print(heart['ca'].unique())\n",
    "print(heart['ca'].value_counts())\n",
    "print(heart['thal'].unique())\n",
    "print(heart['thal'].value_counts())"
   ]
  },
  {
   "cell_type": "markdown",
   "id": "7ee419f1-d5a7-4d77-a7be-435b59d650ec",
   "metadata": {},
   "source": [
    "We can see that there are 4 `ca` values with `?` value. We will drop all of these, because 4 rows missing is around 1 percent of our data, but having wrong values could affect the end result badly (if we assigned the mean value for each observation, it would have be either 1.0 or 2.0, which could be completely wrong). Same goes for `thal`, there are only 2 `?` values, so we will remove those observations."
   ]
  },
  {
   "cell_type": "code",
   "execution_count": 4,
   "id": "a4621337-f68b-4c84-993b-4e922b0522cc",
   "metadata": {},
   "outputs": [
    {
     "name": "stdout",
     "output_type": "stream",
     "text": [
      "ca\n",
      "0.0    174\n",
      "1.0     65\n",
      "2.0     38\n",
      "3.0     20\n",
      "Name: count, dtype: int64\n",
      "thal\n",
      "3.0    164\n",
      "7.0    115\n",
      "6.0     18\n",
      "Name: count, dtype: int64\n"
     ]
    }
   ],
   "source": [
    "heart = heart[heart['ca'] != '?']\n",
    "heart = heart[heart['thal'] != '?']\n",
    "#changing to float\n",
    "heart['ca'] = heart['ca'].astype('float')\n",
    "heart['thal'] = heart['thal'].astype('float')\n",
    "\n",
    "print(heart['ca'].value_counts())\n",
    "print(heart['thal'].value_counts())"
   ]
  },
  {
   "cell_type": "markdown",
   "id": "470fd0fd-6e64-4c06-af40-af6720d5f227",
   "metadata": {},
   "source": [
    "## Plotting"
   ]
  },
  {
   "cell_type": "code",
   "execution_count": 5,
   "id": "968cecd0-b38f-4738-866a-208b9c4f0ac1",
   "metadata": {},
   "outputs": [
    {
     "data": {
      "image/png": "[encoded data removed]",
      "text/plain": [
       "<Figure size 640x480 with 1 Axes>"
      ]
     },
     "metadata": {},
     "output_type": "display_data"
    }
   ],
   "source": [
    "import matplotlib.pyplot as plt\n",
    "heart['present'].hist()\n",
    "plt.show()"
   ]
  },
  {
   "cell_type": "markdown",
   "id": "f4f3d565-2188-4605-ae9b-91f2e824c598",
   "metadata": {},
   "source": [
    "From the histogram above we can see that there are around 160 observations with no heart disease and 138 observations with a heart disease. This means that the amount of observations is almost equal. Let's now check the differences for each column's mean value when grouped by heart disease values."
   ]
  },
  {
   "cell_type": "code",
   "execution_count": 6,
   "id": "5b87b55d-96b9-46a9-b70b-40f0be664585",
   "metadata": {},
   "outputs": [
    {
     "data": {
      "text/html": [
       "<div>\n",
       "<style scoped>\n",
       "    .dataframe tbody tr th:only-of-type {\n",
       "        vertical-align: middle;\n",
       "    }\n",
       "\n",
       "    .dataframe tbody tr th {\n",
       "        vertical-align: top;\n",
       "    }\n",
       "\n",
       "    .dataframe thead th {\n",
       "        text-align: right;\n",
       "    }\n",
       "</style>\n",
       "<table border=\"1\" class=\"dataframe\">\n",
       "  <thead>\n",
       "    <tr style=\"text-align: right;\">\n",
       "      <th></th>\n",
       "      <th>age</th>\n",
       "      <th>sex</th>\n",
       "      <th>cp</th>\n",
       "      <th>trestbps</th>\n",
       "      <th>chol</th>\n",
       "      <th>fbs</th>\n",
       "      <th>restecg</th>\n",
       "      <th>thalach</th>\n",
       "      <th>exang</th>\n",
       "      <th>oldpeak</th>\n",
       "      <th>slope</th>\n",
       "      <th>ca</th>\n",
       "      <th>thal</th>\n",
       "    </tr>\n",
       "    <tr>\n",
       "      <th>present</th>\n",
       "      <th></th>\n",
       "      <th></th>\n",
       "      <th></th>\n",
       "      <th></th>\n",
       "      <th></th>\n",
       "      <th></th>\n",
       "      <th></th>\n",
       "      <th></th>\n",
       "      <th></th>\n",
       "      <th></th>\n",
       "      <th></th>\n",
       "      <th></th>\n",
       "      <th></th>\n",
       "    </tr>\n",
       "  </thead>\n",
       "  <tbody>\n",
       "    <tr>\n",
       "      <th>0</th>\n",
       "      <td>52.643750</td>\n",
       "      <td>0.556250</td>\n",
       "      <td>2.793750</td>\n",
       "      <td>129.175000</td>\n",
       "      <td>243.493750</td>\n",
       "      <td>0.143750</td>\n",
       "      <td>0.843750</td>\n",
       "      <td>158.581250</td>\n",
       "      <td>0.143750</td>\n",
       "      <td>0.598750</td>\n",
       "      <td>1.412500</td>\n",
       "      <td>0.275000</td>\n",
       "      <td>3.787500</td>\n",
       "    </tr>\n",
       "    <tr>\n",
       "      <th>1</th>\n",
       "      <td>56.759124</td>\n",
       "      <td>0.817518</td>\n",
       "      <td>3.583942</td>\n",
       "      <td>134.635036</td>\n",
       "      <td>251.854015</td>\n",
       "      <td>0.145985</td>\n",
       "      <td>1.175182</td>\n",
       "      <td>139.109489</td>\n",
       "      <td>0.540146</td>\n",
       "      <td>1.589051</td>\n",
       "      <td>1.824818</td>\n",
       "      <td>1.145985</td>\n",
       "      <td>5.832117</td>\n",
       "    </tr>\n",
       "  </tbody>\n",
       "</table>\n",
       "</div>"
      ],
      "text/plain": [
       "               age       sex        cp    trestbps        chol       fbs  \\\n",
       "present                                                                    \n",
       "0        52.643750  0.556250  2.793750  129.175000  243.493750  0.143750   \n",
       "1        56.759124  0.817518  3.583942  134.635036  251.854015  0.145985   \n",
       "\n",
       "          restecg     thalach     exang   oldpeak     slope        ca  \\\n",
       "present                                                                 \n",
       "0        0.843750  158.581250  0.143750  0.598750  1.412500  0.275000   \n",
       "1        1.175182  139.109489  0.540146  1.589051  1.824818  1.145985   \n",
       "\n",
       "             thal  \n",
       "present            \n",
       "0        3.787500  \n",
       "1        5.832117  "
      ]
     },
     "execution_count": 6,
     "metadata": {},
     "output_type": "execute_result"
    }
   ],
   "source": [
    "# Checking potential predictors\n",
    "grouped_data = heart.groupby(\"present\").agg(\n",
    "    {\n",
    "        \"age\": \"mean\",\n",
    "        \"sex\": \"mean\",\n",
    "        \"cp\": \"mean\",\n",
    "        \"trestbps\": \"mean\",\n",
    "        \"chol\": \"mean\",\n",
    "        \"fbs\": \"mean\",\n",
    "        \"restecg\": \"mean\",\n",
    "        \"thalach\": \"mean\",\n",
    "        \"exang\": \"mean\",\n",
    "        \"oldpeak\": \"mean\",\n",
    "        \"slope\": \"mean\",\n",
    "        \"ca\": \"mean\",\n",
    "        \"thal\": \"mean\"\n",
    "    }\n",
    ")\n",
    "grouped_data"
   ]
  },
  {
   "cell_type": "markdown",
   "id": "ec019eda-266f-4af4-a0a6-782850146d1b",
   "metadata": {},
   "source": [
    "Some columns have a small, but noticeable difference when stratified by predictors. Based on the differences and some knowledge about heart disease, these seem like good candidates for predictors:\n",
    "- `age`\n",
    "- `thalach` (maximum heart rate achieved)\n",
    "- `restecg` (resting ECG)\n",
    "- `ca` (number of vessels colored by fluoroscopy)"
   ]
  },
  {
   "cell_type": "markdown",
   "id": "2a94d255-189e-4d4c-8f05-3c007ca4bbce",
   "metadata": {},
   "source": [
    "## Dividing the Data"
   ]
  },
  {
   "cell_type": "markdown",
   "id": "81141a09-19c5-4a28-a241-da25a6edca79",
   "metadata": {},
   "source": [
    "Next we need to divide our dataset to a training set that will be used to estimate the regression coefficients and to a test set that will be used to assess the predictive ability of the model. We will be using 30% for testing and 70% for training.\n",
    "\n",
    "The outcome y will be the `present` column, and the training data will be the four variables mentioned above."
   ]
  },
  {
   "cell_type": "code",
   "execution_count": 7,
   "id": "53fbb855-a4b3-41e5-adea-dba3cc6bcbbd",
   "metadata": {},
   "outputs": [
    {
     "name": "stdout",
     "output_type": "stream",
     "text": [
      "(207, 4)\n",
      "(90, 4)\n",
      "(207,)\n",
      "(90,)\n",
      "present\n",
      "0    109\n",
      "1     98\n",
      "Name: count, dtype: int64\n",
      "present\n",
      "0    51\n",
      "1    39\n",
      "Name: count, dtype: int64\n"
     ]
    }
   ],
   "source": [
    "from sklearn.model_selection import train_test_split\n",
    "\n",
    "X = heart[['age', 'thalach', 'restecg', 'ca']]\n",
    "y = heart['present']\n",
    "\n",
    "X_train, X_test, y_train, y_test = train_test_split(X, y, test_size = 0.3, random_state = 1)\n",
    "\n",
    "print(X_train.shape)\n",
    "print(X_test.shape)\n",
    "print(y_train.shape)\n",
    "print(y_test.shape)\n",
    "print(y_train.value_counts())\n",
    "print(y_test.value_counts())"
   ]
  },
  {
   "cell_type": "markdown",
   "id": "21742269-7df1-42aa-b2ca-efcfcd491c17",
   "metadata": {},
   "source": [
    "Our training data has 207 observations and our testing data has 90 observations. Both training and testing sets have `0` and `1` values fairly close to each other meaning that they are well divided (if this wasn't the case, we could change the random_state until we get a good distribution)."
   ]
  },
  {
   "cell_type": "markdown",
   "id": "0621d49b-f70b-4342-ac25-692b9793b39b",
   "metadata": {},
   "source": [
    "## Building the Model"
   ]
  },
  {
   "cell_type": "markdown",
   "id": "bdc19477-b4f9-489e-9b02-98e5cd641cf8",
   "metadata": {},
   "source": [
    "Now we are ready to build the classification model and do some initial assessments. We will check how accurate our model is and whether it performs better on cases or non-cases."
   ]
  },
  {
   "cell_type": "code",
   "execution_count": 8,
   "id": "29ec018f-56dd-41b6-8588-b5e4f976e4f3",
   "metadata": {},
   "outputs": [
    {
     "data": {
      "text/plain": [
       "0.7681159420289855"
      ]
     },
     "execution_count": 8,
     "metadata": {},
     "output_type": "execute_result"
    }
   ],
   "source": [
    "from sklearn.linear_model import LogisticRegression\n",
    "\n",
    "model = LogisticRegression()\n",
    "model.fit(X_train, y_train)\n",
    "accuracy = model.score(X_train, y_train)\n",
    "accuracy"
   ]
  },
  {
   "cell_type": "markdown",
   "id": "4d8bb388-1a6c-4a78-98fc-06c8ae63ed6d",
   "metadata": {},
   "source": [
    "Our model has an accuracy of 0.77, which is fairly good. We are now going to calculate the sensitivity using the following formula:\n",
    "\n",
    "<i>Sensitivity = True Positives / (True Positives + False Negatives)</i>\n",
    "\n",
    "We are also going to calculate the specificity using the following formula:\n",
    "\n",
    "<i>Specificity = True Negatives / (True Negatives + False Positives)</i>\n",
    "\n",
    "- True negative means that the model predicts 0 when the correct outcome is 0.\n",
    "- True positive means that the model predicts 1 when the correct outcome is 1.\n",
    "- False negative means that the model predicts 0 when the correct outcome is 1.\n",
    "- False positive means that the model predicts 1 when the correct outcome is 0."
   ]
  },
  {
   "cell_type": "code",
   "execution_count": 9,
   "id": "f3fd3c1a-3a92-40a7-9f43-53f59f2dff78",
   "metadata": {},
   "outputs": [
    {
     "name": "stdout",
     "output_type": "stream",
     "text": [
      "Sensitivity is: 0.6632653061224489\n",
      "Specificity is: 0.8623853211009175\n"
     ]
    }
   ],
   "source": [
    "predictions = model.predict(X_train)\n",
    "tn = sum((y_train == 0) & (predictions == 0))\n",
    "tp = sum((y_train == 1) & (predictions == 1))\n",
    "fn = sum((y_train == 1) & (predictions == 0))\n",
    "fp = sum((y_train == 0) & (predictions == 1))\n",
    "\n",
    "sensitivity = tp/(tp+fn)\n",
    "specificity = tn/(tn+fp)\n",
    "\n",
    "print(f\"Sensitivity is: {sensitivity}\\nSpecificity is: {specificity}\")"
   ]
  },
  {
   "cell_type": "markdown",
   "id": "e42f5c28-39be-4399-bad0-b4eea48e8876",
   "metadata": {},
   "source": [
    "We can see that the model's sensitivity is 66.3%, specificity is 86.2% and accuracy is 76.8%. This means that the model performs better on true negatives than on true positives, meaning that it predicts values `0` (no heart disease) better than `1` (heart disease)."
   ]
  },
  {
   "cell_type": "markdown",
   "id": "d0ae45b7-39ef-46b6-8681-0afc022f5e62",
   "metadata": {},
   "source": [
    "## Interpreting the Model Coefficients"
   ]
  },
  {
   "cell_type": "markdown",
   "id": "aaf044c5-68c3-47f3-a4c1-533ae44bbdca",
   "metadata": {},
   "source": [
    "Now we are going to look at the coefficients to see if they make sense, given the problem. Logistic regression relates the binary outcome to the linear combination of predictors via the following function:\n",
    "\n",
    "$$\\log\\left(\\frac{EY}{1-EY}\\right) = \\beta_0 + \\beta_1 \\mathbf{X} $$\n",
    "\n",
    "Then we can use the log-odds ratio for a unit increase in a predictor:\n",
    "$$\\log\\left(\\frac{O_1}{O_0}\\right) = \\beta_1 $$\n",
    "\n",
    "where O<sub>0</sub> represents the odds ratio when the predictor is 0, and O<sub>1</sub> represents the odds ratio when the predictor is 1. However, we're usually interested in examining these effects on the odds scale, so we take e to both sides to get the following:\n",
    "\n",
    "$$ O_1 = e^{\\beta_1} O_0 $$\n",
    "\n"
   ]
  },
  {
   "cell_type": "code",
   "execution_count": 10,
   "id": "105e52aa-5cae-4dc9-8048-e80dab71a0cc",
   "metadata": {},
   "outputs": [
    {
     "name": "stdout",
     "output_type": "stream",
     "text": [
      "age : -0.02\n",
      "thalach : -0.04\n",
      "restecg : 0.39\n",
      "ca : 1.18\n"
     ]
    }
   ],
   "source": [
    "coefs = [\"age\", \"thalach\", \"restecg\", \"ca\"]\n",
    "\n",
    "for coef, val  in zip(coefs, model.coef_[0]):\n",
    "    print(coef, \":\", round(val, 2))"
   ]
  },
  {
   "cell_type": "code",
   "execution_count": 11,
   "id": "f5e03f7d-c111-40af-b93f-9242616d314c",
   "metadata": {},
   "outputs": [
    {
     "name": "stdout",
     "output_type": "stream",
     "text": [
      "age : 0.98\n",
      "thalach : 0.96\n",
      "restecg : 1.47\n",
      "ca : 3.25\n"
     ]
    }
   ],
   "source": [
    "import numpy as np\n",
    "for coef, val in zip(coefs, model.coef_[0]):\n",
    "    print(coef, \":\", round(np.exp(val), 2))"
   ]
  },
  {
   "cell_type": "markdown",
   "id": "0215c188-7eeb-4aa5-b4e8-765da6d8d4d9",
   "metadata": {},
   "source": [
    "Interestingly higher age and maximum heart rate (`thalach`) are associated with lower odds of heart disease holding the other predictors constant (both of these are close to 1). Resting ECG and the number of colored vessels are associated with higher odds of heart disease holding the other predictors constant. Resting ECG has a 47% increase and colored vessels has a very high increase, 225%."
   ]
  },
  {
   "cell_type": "markdown",
   "id": "ffffe520-d71b-4ced-a532-174ddb1caf30",
   "metadata": {},
   "source": [
    "## Final Model Evaluation"
   ]
  },
  {
   "cell_type": "markdown",
   "id": "6ebd2603-e824-42cc-9e50-b48cedf423ba",
   "metadata": {},
   "source": [
    "Finally we are going to use the model to calculate test predictions and see how well it performs with our testing dataset. We are going to calculate accuracy, sensitivity and specifity again."
   ]
  },
  {
   "cell_type": "code",
   "execution_count": 12,
   "id": "3c0b225c-72eb-4f8d-8890-5b8dbb40881a",
   "metadata": {},
   "outputs": [
    {
     "name": "stdout",
     "output_type": "stream",
     "text": [
      "Accuracy is 0.7555555555555555\n",
      "Sensitivity is: 0.7948717948717948\n",
      "Specificity is: 0.7254901960784313\n"
     ]
    }
   ],
   "source": [
    "test_predictions = model.predict(X_test)\n",
    "test_accuracy = model.score(X_test, y_test)\n",
    "test_tn = sum((y_test == 0) & (test_predictions == 0))\n",
    "test_tp = sum((y_test == 1) & (test_predictions == 1))\n",
    "test_fn = sum((y_test == 1) & (test_predictions == 0))\n",
    "test_fp = sum((y_test == 0) & (test_predictions == 1))\n",
    "\n",
    "test_sensitivity = test_tp/(test_tp+test_fn)\n",
    "test_specificity = test_tn/(test_tn+test_fp)\n",
    "\n",
    "print(f\"Accuracy is {test_accuracy}\\nSensitivity is: {test_sensitivity}\\nSpecificity is: {test_specificity}\")"
   ]
  },
  {
   "cell_type": "markdown",
   "id": "e9a5bb38-f915-4910-b570-d78cba609f8b",
   "metadata": {},
   "source": [
    "## Conclusions"
   ]
  },
  {
   "cell_type": "markdown",
   "id": "8ac32a1f-8efb-436f-9ea7-0d3ce845e1fa",
   "metadata": {},
   "source": [
    "Using test data, we got an accuracy of 76%, sensitivity of 79% and specificity of 73%. Compared to the training set, the accuracy is a little bit lower, but almost equal (76% vs. 77%). Sensitivity is much better (79% vs. 66%) and specificity is worse (73% vs 86%). This means that our model now performed better with cases and worse with non-cases.\n",
    "\n",
    "Our model is far from perfect, and we could try different features and models to get higher scores. 76% accuracy is not bad and having higher sensitivity with our test data shows that this model could possibly be used in medical conditions, where it is more important to identify cases than non-cases."
   ]
  }
 ],
 "metadata": {
  "kernelspec": {
   "display_name": "Python 3 (ipykernel)",
   "language": "python",
   "name": "python3"
  },
  "language_info": {
   "codemirror_mode": {
    "name": "ipython",
    "version": 3
   },
   "file_extension": ".py",
   "mimetype": "text/x-python",
   "name": "python",
   "nbconvert_exporter": "python",
   "pygments_lexer": "ipython3",
   "version": "3.11.5"
  }
 },
 "nbformat": 4,
 "nbformat_minor": 5
}
