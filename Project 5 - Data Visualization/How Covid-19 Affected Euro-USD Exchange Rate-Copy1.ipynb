{
 "cells": [
  {
   "cell_type": "markdown",
   "metadata": {},
   "source": [
    "# How Covid-19 Affected Euro-USD Exchange Rate"
   ]
  },
  {
   "cell_type": "markdown",
   "metadata": {},
   "source": [
    "In this small data visualization project, we are going to plot how Covid-19 Affected the exchange rate between euro and USD. The data is from [Kaggle](https://www.kaggle.com/datasets/lsind18/euro-exchange-daily-rates-19992020) by Daria Chemkaeva."
   ]
  },
  {
   "cell_type": "markdown",
   "metadata": {},
   "source": [
    "## Reading data"
   ]
  },
  {
   "cell_type": "code",
   "execution_count": 34,
   "metadata": {},
   "outputs": [
    {
     "name": "stdout",
     "output_type": "stream",
     "text": [
      "  Period\\Unit: [Australian dollar ] [Bulgarian lev ] [Brazilian real ]  \\\n",
      "0   2021-01-08               1.5758           1.9558            6.5748   \n",
      "1   2021-01-07               1.5836           1.9558            6.5172   \n",
      "2   2021-01-06               1.5824           1.9558            6.5119   \n",
      "3   2021-01-05               1.5927           1.9558            6.5517   \n",
      "4   2021-01-04               1.5928           1.9558            6.3241   \n",
      "\n",
      "  [Canadian dollar ] [Swiss franc ] [Chinese yuan renminbi ] [Cypriot pound ]  \\\n",
      "0             1.5543         1.0827                   7.9184              NaN   \n",
      "1             1.5601         1.0833                   7.9392              NaN   \n",
      "2             1.5640         1.0821                   7.9653              NaN   \n",
      "3             1.5651         1.0803                   7.9315              NaN   \n",
      "4             1.5621         1.0811                   7.9484              NaN   \n",
      "\n",
      "  [Czech koruna ] [Danish krone ]  ... [Romanian leu ] [Russian rouble ]  \\\n",
      "0          26.163          7.4369  ...          4.8708           90.8000   \n",
      "1          26.147          7.4392  ...          4.8712           91.2000   \n",
      "2          26.145          7.4393  ...          4.8720           90.8175   \n",
      "3          26.227          7.4387  ...          4.8721           91.6715   \n",
      "4          26.141          7.4379  ...          4.8713           90.3420   \n",
      "\n",
      "  [Swedish krona ] [Singapore dollar ] [Slovenian tolar ] [Slovak koruna ]  \\\n",
      "0          10.0510              1.6228                NaN              NaN   \n",
      "1          10.0575              1.6253                NaN              NaN   \n",
      "2          10.0653              1.6246                NaN              NaN   \n",
      "3          10.0570              1.6180                NaN              NaN   \n",
      "4          10.0895              1.6198                NaN              NaN   \n",
      "\n",
      "  [Thai baht ] [Turkish lira ] [US dollar ]  [South African rand ]  \n",
      "0      36.8480          9.0146       1.2250                18.7212  \n",
      "1      36.8590          8.9987       1.2276                18.7919  \n",
      "2      36.9210          9.0554       1.2338                18.5123  \n",
      "3      36.7760          9.0694       1.2271                18.4194  \n",
      "4      36.7280          9.0579       1.2296                17.9214  \n",
      "\n",
      "[5 rows x 41 columns]\n",
      "     Period\\Unit: [Australian dollar ] [Bulgarian lev ] [Brazilian real ]  \\\n",
      "5694   1999-01-08               1.8406              NaN               NaN   \n",
      "5695   1999-01-07               1.8474              NaN               NaN   \n",
      "5696   1999-01-06               1.8820              NaN               NaN   \n",
      "5697   1999-01-05               1.8944              NaN               NaN   \n",
      "5698   1999-01-04               1.9100              NaN               NaN   \n",
      "\n",
      "     [Canadian dollar ] [Swiss franc ] [Chinese yuan renminbi ]  \\\n",
      "5694             1.7643         1.6138                      NaN   \n",
      "5695             1.7602         1.6165                      NaN   \n",
      "5696             1.7711         1.6116                      NaN   \n",
      "5697             1.7965         1.6123                      NaN   \n",
      "5698             1.8004         1.6168                      NaN   \n",
      "\n",
      "     [Cypriot pound ] [Czech koruna ] [Danish krone ]  ... [Romanian leu ]  \\\n",
      "5694          0.58187          34.938          7.4433  ...          1.3143   \n",
      "5695          0.58187          34.886          7.4431  ...          1.3092   \n",
      "5696          0.58200          34.850          7.4452  ...          1.3168   \n",
      "5697          0.58230          34.917          7.4495  ...          1.3168   \n",
      "5698          0.58231          35.107          7.4501  ...          1.3111   \n",
      "\n",
      "     [Russian rouble ] [Swedish krona ] [Singapore dollar ]  \\\n",
      "5694           27.2075           9.1650              1.9537   \n",
      "5695           26.9876           9.1800              1.9436   \n",
      "5696           27.4315           9.3050              1.9699   \n",
      "5697           26.5876           9.4025              1.9655   \n",
      "5698           25.2875           9.4696              1.9554   \n",
      "\n",
      "     [Slovenian tolar ] [Slovak koruna ] [Thai baht ] [Turkish lira ]  \\\n",
      "5694           188.8400           42.560      42.5590          0.3718   \n",
      "5695           188.8000           42.765      42.1678          0.3701   \n",
      "5696           188.7000           42.778      42.6949          0.3722   \n",
      "5697           188.7750           42.848      42.5048          0.3728   \n",
      "5698           189.0450           42.991      42.6799          0.3723   \n",
      "\n",
      "     [US dollar ]  [South African rand ]  \n",
      "5694       1.1659                 6.7855  \n",
      "5695       1.1632                 6.8283  \n",
      "5696       1.1743                 6.7307  \n",
      "5697       1.1790                 6.7975  \n",
      "5698       1.1789                 6.9358  \n",
      "\n",
      "[5 rows x 41 columns]\n",
      "<class 'pandas.core.frame.DataFrame'>\n",
      "RangeIndex: 5699 entries, 0 to 5698\n",
      "Data columns (total 41 columns):\n",
      " #   Column                    Non-Null Count  Dtype  \n",
      "---  ------                    --------------  -----  \n",
      " 0   Period\\Unit:              5699 non-null   object \n",
      " 1   [Australian dollar ]      5699 non-null   object \n",
      " 2   [Bulgarian lev ]          5297 non-null   object \n",
      " 3   [Brazilian real ]         5431 non-null   object \n",
      " 4   [Canadian dollar ]        5699 non-null   object \n",
      " 5   [Swiss franc ]            5699 non-null   object \n",
      " 6   [Chinese yuan renminbi ]  5431 non-null   object \n",
      " 7   [Cypriot pound ]          2346 non-null   object \n",
      " 8   [Czech koruna ]           5699 non-null   object \n",
      " 9   [Danish krone ]           5699 non-null   object \n",
      " 10  [Estonian kroon ]         3130 non-null   object \n",
      " 11  [UK pound sterling ]      5699 non-null   object \n",
      " 12  [Greek drachma ]          520 non-null    object \n",
      " 13  [Hong Kong dollar ]       5699 non-null   object \n",
      " 14  [Croatian kuna ]          5431 non-null   object \n",
      " 15  [Hungarian forint ]       5699 non-null   object \n",
      " 16  [Indonesian rupiah ]      5699 non-null   object \n",
      " 17  [Israeli shekel ]         5431 non-null   object \n",
      " 18  [Indian rupee ]           5431 non-null   object \n",
      " 19  [Iceland krona ]          3292 non-null   float64\n",
      " 20  [Japanese yen ]           5699 non-null   object \n",
      " 21  [Korean won ]             5699 non-null   object \n",
      " 22  [Lithuanian litas ]       4159 non-null   object \n",
      " 23  [Latvian lats ]           3904 non-null   object \n",
      " 24  [Maltese lira ]           2346 non-null   object \n",
      " 25  [Mexican peso ]           5699 non-null   object \n",
      " 26  [Malaysian ringgit ]      5699 non-null   object \n",
      " 27  [Norwegian krone ]        5699 non-null   object \n",
      " 28  [New Zealand dollar ]     5699 non-null   object \n",
      " 29  [Philippine peso ]        5699 non-null   object \n",
      " 30  [Polish zloty ]           5699 non-null   object \n",
      " 31  [Romanian leu ]           5637 non-null   float64\n",
      " 32  [Russian rouble ]         5699 non-null   object \n",
      " 33  [Swedish krona ]          5699 non-null   object \n",
      " 34  [Singapore dollar ]       5699 non-null   object \n",
      " 35  [Slovenian tolar ]        2085 non-null   object \n",
      " 36  [Slovak koruna ]          2608 non-null   object \n",
      " 37  [Thai baht ]              5699 non-null   object \n",
      " 38  [Turkish lira ]           5637 non-null   float64\n",
      " 39  [US dollar ]              5699 non-null   object \n",
      " 40  [South African rand ]     5699 non-null   object \n",
      "dtypes: float64(3), object(38)\n",
      "memory usage: 1.8+ MB\n",
      "None\n"
     ]
    }
   ],
   "source": [
    "import pandas as pd\n",
    "exchange_rates = pd.read_csv('euro-daily-hist_1999_2020.csv')\n",
    "print(exchange_rates.head(5))\n",
    "print(exchange_rates.tail(5))\n",
    "print(exchange_rates.info())"
   ]
  },
  {
   "cell_type": "markdown",
   "metadata": {},
   "source": [
    "## Data cleaning"
   ]
  },
  {
   "cell_type": "markdown",
   "metadata": {},
   "source": [
    "In this section we are going to clean the data for our purposes. We are only focusing on exchange rates between US dollar and Euro."
   ]
  },
  {
   "cell_type": "code",
   "execution_count": 35,
   "metadata": {},
   "outputs": [],
   "source": [
    "#Changing column names\n",
    "exchange_rates.rename(columns={'[US dollar ]': 'US_dollar',\n",
    "                               'Period\\\\Unit:': 'Time'},\n",
    "                      inplace=True)\n",
    "#Time to datetime\n",
    "exchange_rates['Time'] = pd.to_datetime(exchange_rates['Time'])\n",
    "#Sorting by time\n",
    "exchange_rates.sort_values('Time', inplace=True)\n",
    "#Reseting indexes\n",
    "exchange_rates.reset_index(drop=True, inplace=True)"
   ]
  },
  {
   "cell_type": "code",
   "execution_count": 36,
   "metadata": {
    "scrolled": true
   },
   "outputs": [
    {
     "data": {
      "text/plain": [
       "-         62\n",
       "1.2276     9\n",
       "1.1215     8\n",
       "1.1305     7\n",
       "1.0867     6\n",
       "          ..\n",
       "0.9974     1\n",
       "0.9565     1\n",
       "1.0488     1\n",
       "0.9717     1\n",
       "1.2814     1\n",
       "Name: US_dollar, Length: 3528, dtype: int64"
      ]
     },
     "execution_count": 36,
     "metadata": {},
     "output_type": "execute_result"
    }
   ],
   "source": [
    "#Assigning new dataframe\n",
    "euro_to_dollar = exchange_rates[['US_dollar', 'Time']]\n",
    "euro_to_dollar['US_dollar'].value_counts()"
   ]
  },
  {
   "cell_type": "code",
   "execution_count": 37,
   "metadata": {},
   "outputs": [
    {
     "data": {
      "text/plain": [
       "0       1.1789\n",
       "1       1.1790\n",
       "2       1.1743\n",
       "3       1.1632\n",
       "4       1.1659\n",
       "         ...  \n",
       "5694    1.2296\n",
       "5695    1.2271\n",
       "5696    1.2338\n",
       "5697    1.2276\n",
       "5698    1.2250\n",
       "Name: US_dollar, Length: 5637, dtype: float64"
      ]
     },
     "execution_count": 37,
     "metadata": {},
     "output_type": "execute_result"
    }
   ],
   "source": [
    "#Deleting 62 \"-\" values, converting to float\n",
    "euro_to_dollar = euro_to_dollar.drop(euro_to_dollar[euro_to_dollar['US_dollar'] == \"-\"].index)\n",
    "euro_to_dollar['US_dollar'].value_counts()\n",
    "euro_to_dollar['US_dollar'].astype(float)"
   ]
  },
  {
   "cell_type": "markdown",
   "metadata": {},
   "source": [
    "# Data Visualization"
   ]
  },
  {
   "cell_type": "markdown",
   "metadata": {},
   "source": [
    "Next we are going to plot how the exchange rate changed from 2019 to 2021. To begin, we are going to create a new column that has the rolling mean for the US dollar. Moving window for the rolling mean is 30 days."
   ]
  },
  {
   "cell_type": "code",
   "execution_count": 38,
   "metadata": {},
   "outputs": [],
   "source": [
    "euro_to_dollar['rolling_mean'] = euro_to_dollar['US_dollar'].rolling(30).mean()"
   ]
  },
  {
   "cell_type": "markdown",
   "metadata": {},
   "source": [
    "### How Covid-19 Affected Euro-Dollar rate"
   ]
  },
  {
   "cell_type": "code",
   "execution_count": 228,
   "metadata": {},
   "outputs": [
    {
     "data": {
      "image/png": "[encoded data removed]",
      "text/plain": [
       "<Figure size 600x400 with 1 Axes>"
      ]
     },
     "metadata": {},
     "output_type": "display_data"
    }
   ],
   "source": [
    "import matplotlib.pyplot as pl\n",
    "%matplotlib inline \n",
    "filtered_data = euro_to_dollar[euro_to_dollar['Time'].dt.year >= 2019]\n",
    "covid_data = euro_to_dollar[euro_to_dollar['Time'].dt.year >= 2020]\n",
    "\n",
    "#plotting\n",
    "plt.style.use('fivethirtyeight')\n",
    "plt.plot(filtered_data['Time'], filtered_data['rolling_mean'],linewidth=1)\n",
    "plt.plot(covid_data['Time'], covid_data['rolling_mean'], color = 'r', linewidth=2)\n",
    "plt.ylim(0.98, 1.27)\n",
    "#changing xticks to years only\n",
    "plt.axvspan(xmin=737420, xmax = 737820, alpha=0.3, color='grey')\n",
    "plt.xticks([])\n",
    "x = 737020\n",
    "for year in [2019, 2020, 2021]:\n",
    "    plt.text(x=x, y =0.96, s=year)\n",
    "    x += 370\n",
    "plt.text(x=737500, y= 0.94, s='Source: European Central Bank', fontsize=10)\n",
    "plt.text(x=737540, y= 1.065, s=round(min(covid_data['rolling_mean']),2), fontsize=10)\n",
    "plt.text(x=737770, y= 1.225, s=round(max(covid_data['rolling_mean']),2), fontsize=10)\n",
    "plt.axvline(x=737560, ymin = 0.33, ymax=0.4, linewidth = 0.7, color = 'r')\n",
    "plt.axvline(x=737798, ymin = 0.76, ymax=0.84, linewidth = 0.7, color = 'r')\n",
    "plt.title('EURO-USD rate during Covid-19')\n",
    "plt.show()"
   ]
  },
  {
   "cell_type": "markdown",
   "metadata": {},
   "source": [
    "From the graph above we can see that Covid-19 increased the EURO-USD exchange rate from around 1.10 to 1.22. The lowest exchange rate was 1.08, but after that it increased up to 1.22."
   ]
  }
 ],
 "metadata": {
  "kernelspec": {
   "display_name": "Python 3",
   "language": "python",
   "name": "python3"
  },
  "language_info": {
   "codemirror_mode": {
    "name": "ipython",
    "version": 3
   },
   "file_extension": ".py",
   "mimetype": "text/x-python",
   "name": "python",
   "nbconvert_exporter": "python",
   "pygments_lexer": "ipython3",
   "version": "3.8.2"
  }
 },
 "nbformat": 4,
 "nbformat_minor": 4
}
