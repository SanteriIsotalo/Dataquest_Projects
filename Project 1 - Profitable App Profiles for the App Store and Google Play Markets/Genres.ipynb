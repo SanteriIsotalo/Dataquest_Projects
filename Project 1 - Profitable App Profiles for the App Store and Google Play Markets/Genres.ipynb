{
 "cells": [
  {
   "cell_type": "markdown",
   "metadata": {},
   "source": [
    "# Analyzing Mobile App Data"
   ]
  },
  {
   "cell_type": "markdown",
   "metadata": {},
   "source": [
    "In this project we are going to analyze mobile app data with a goal to find apps that are likely to attract more users. We are using two datasets:\n",
    "- Android dataset with approximately 10,000 apps from Google play. [Source](https://dq-content.s3.amazonaws.com/350/googleplaystore.csv)\n",
    "- iOS apps dataset with approximately 7,000 apps from App Store. [Source](https://dq-content.s3.amazonaws.com/350/AppleStore.csv)"
   ]
  },
  {
   "cell_type": "markdown",
   "metadata": {},
   "source": [
    "## Opening and exploring the datasets"
   ]
  },
  {
   "cell_type": "code",
   "execution_count": 1,
   "metadata": {},
   "outputs": [],
   "source": [
    "open_ios = open('AppleStore.csv')\n",
    "open_android = open('googleplaystore.csv')\n",
    "from csv import reader\n",
    "read_ios = reader(open_ios)\n",
    "read_android = reader(open_android)\n",
    "ios_list = list(read_ios)\n",
    "android_list = list(read_android)\n"
   ]
  },
  {
   "cell_type": "code",
   "execution_count": 2,
   "metadata": {},
   "outputs": [],
   "source": [
    "def explore_data(dataset, start, end, rows_and_columns=False):\n",
    "    dataset_slice = dataset[start:end]    \n",
    "    for row in dataset_slice:\n",
    "        print(row)\n",
    "        print('\\n') # adds a new (empty) line after each row\n",
    "\n",
    "    if rows_and_columns:\n",
    "        print('Number of rows:', len(dataset))\n",
    "        print('Number of columns:', len(dataset[0]))"
   ]
  },
  {
   "cell_type": "markdown",
   "metadata": {},
   "source": [
    "## Exploring datasets"
   ]
  },
  {
   "cell_type": "markdown",
   "metadata": {},
   "source": [
    "### First three rows of iOS dataset"
   ]
  },
  {
   "cell_type": "code",
   "execution_count": 3,
   "metadata": {},
   "outputs": [
    {
     "name": "stdout",
     "output_type": "stream",
     "text": [
      "['284882215', 'Facebook', '389879808', 'USD', '0.0', '2974676', '212', '3.5', '3.5', '95.0', '4+', 'Social Networking', '37', '1', '29', '1']\n",
      "\n",
      "\n",
      "['389801252', 'Instagram', '113954816', 'USD', '0.0', '2161558', '1289', '4.5', '4.0', '10.23', '12+', 'Photo & Video', '37', '0', '29', '1']\n",
      "\n",
      "\n",
      "['529479190', 'Clash of Clans', '116476928', 'USD', '0.0', '2130805', '579', '4.5', '4.5', '9.24.12', '9+', 'Games', '38', '5', '18', '1']\n",
      "\n",
      "\n"
     ]
    }
   ],
   "source": [
    "explore_data(ios_list,1,4)"
   ]
  },
  {
   "cell_type": "markdown",
   "metadata": {},
   "source": [
    "### First three rows of Android dataset"
   ]
  },
  {
   "cell_type": "code",
   "execution_count": 4,
   "metadata": {},
   "outputs": [
    {
     "name": "stdout",
     "output_type": "stream",
     "text": [
      "['Photo Editor & Candy Camera & Grid & ScrapBook', 'ART_AND_DESIGN', '4.1', '159', '19M', '10,000+', 'Free', '0', 'Everyone', 'Art & Design', 'January 7, 2018', '1.0.0', '4.0.3 and up']\n",
      "\n",
      "\n",
      "['Coloring book moana', 'ART_AND_DESIGN', '3.9', '967', '14M', '500,000+', 'Free', '0', 'Everyone', 'Art & Design;Pretend Play', 'January 15, 2018', '2.0.0', '4.0.3 and up']\n",
      "\n",
      "\n",
      "['U Launcher Lite – FREE Live Cool Themes, Hide Apps', 'ART_AND_DESIGN', '4.7', '87510', '8.7M', '5,000,000+', 'Free', '0', 'Everyone', 'Art & Design', 'August 1, 2018', '1.2.4', '4.0.3 and up']\n",
      "\n",
      "\n"
     ]
    }
   ],
   "source": [
    "explore_data(android_list,1,4)"
   ]
  },
  {
   "cell_type": "markdown",
   "metadata": {},
   "source": [
    "### Amount of rows and columns"
   ]
  },
  {
   "cell_type": "code",
   "execution_count": 5,
   "metadata": {},
   "outputs": [
    {
     "name": "stdout",
     "output_type": "stream",
     "text": [
      "Number of rows: 7198\n",
      "Number of columns: 16\n"
     ]
    }
   ],
   "source": [
    "explore_data(ios_list, 0, 0, rows_and_columns = True)"
   ]
  },
  {
   "cell_type": "code",
   "execution_count": 6,
   "metadata": {},
   "outputs": [
    {
     "name": "stdout",
     "output_type": "stream",
     "text": [
      "Number of rows: 10842\n",
      "Number of columns: 13\n"
     ]
    }
   ],
   "source": [
    "explore_data(android_list, 0, 0, rows_and_columns = True)"
   ]
  },
  {
   "cell_type": "markdown",
   "metadata": {},
   "source": [
    "### Column names"
   ]
  },
  {
   "cell_type": "code",
   "execution_count": 7,
   "metadata": {},
   "outputs": [
    {
     "name": "stdout",
     "output_type": "stream",
     "text": [
      "['id', 'track_name', 'size_bytes', 'currency', 'price', 'rating_count_tot', 'rating_count_ver', 'user_rating', 'user_rating_ver', 'ver', 'cont_rating', 'prime_genre', 'sup_devices.num', 'ipadSc_urls.num', 'lang.num', 'vpp_lic']\n",
      "\n",
      "\n"
     ]
    }
   ],
   "source": [
    "explore_data(ios_list,0,1)"
   ]
  },
  {
   "cell_type": "code",
   "execution_count": 8,
   "metadata": {},
   "outputs": [
    {
     "name": "stdout",
     "output_type": "stream",
     "text": [
      "['App', 'Category', 'Rating', 'Reviews', 'Size', 'Installs', 'Type', 'Price', 'Content Rating', 'Genres', 'Last Updated', 'Current Ver', 'Android Ver']\n",
      "\n",
      "\n"
     ]
    }
   ],
   "source": [
    "explore_data(android_list,0,1)"
   ]
  },
  {
   "cell_type": "markdown",
   "metadata": {},
   "source": [
    "For our goal of finding attractive apps, we are using columns track_name, rating_count_tot, user_rating and prime_genre for iOS apps. For android the same columns are called App, Reviews, Rating, and Category"
   ]
  },
  {
   "cell_type": "markdown",
   "metadata": {},
   "source": [
    "# Data Cleaning"
   ]
  },
  {
   "cell_type": "markdown",
   "metadata": {},
   "source": [
    "Let's check if any of the apps are missing values. We can do that by checking if the length of the app row is the same as the length of header row."
   ]
  },
  {
   "cell_type": "code",
   "execution_count": 9,
   "metadata": {},
   "outputs": [
    {
     "name": "stdout",
     "output_type": "stream",
     "text": [
      "Corrupted data on row: 10473\n"
     ]
    }
   ],
   "source": [
    "row_number = 0\n",
    "for app in android_list:\n",
    "    if len(app) != len(android_list[0]):\n",
    "        print('Corrupted data on row: ' + str(row_number))\n",
    "    row_number += 1"
   ]
  },
  {
   "cell_type": "code",
   "execution_count": 10,
   "metadata": {},
   "outputs": [],
   "source": [
    "for app in ios_list[1:]:\n",
    "    if len(app) != len(ios_list[0]):\n",
    "        print(app)"
   ]
  },
  {
   "cell_type": "markdown",
   "metadata": {},
   "source": [
    "We can see that one android file is indeed missing a value. We are going to delete that corrupted row from our dataset."
   ]
  },
  {
   "cell_type": "code",
   "execution_count": 11,
   "metadata": {},
   "outputs": [],
   "source": [
    "del android_list[10473]"
   ]
  },
  {
   "cell_type": "markdown",
   "metadata": {},
   "source": [
    "From the App Store dataset [Discussion page](https://www.kaggle.com/datasets/ramamet4/app-store-apple-data-set-10k-apps/discussion/106176) we can find out that there is a duplicate file. Two fix this we have to delete it."
   ]
  },
  {
   "cell_type": "code",
   "execution_count": 12,
   "metadata": {},
   "outputs": [
    {
     "name": "stdout",
     "output_type": "stream",
     "text": [
      "['Mannequin Challenge', 'VR Roller Coaster']\n"
     ]
    }
   ],
   "source": [
    "duplicate_list = []\n",
    "unique_list = []\n",
    "for app in ios_list:\n",
    "    if app[1] in unique_list:\n",
    "        duplicate_list.append(app[1])\n",
    "    else:\n",
    "        unique_list.append(app[1])\n",
    "print(duplicate_list)"
   ]
  },
  {
   "cell_type": "markdown",
   "metadata": {},
   "source": [
    "There seems to be two duplicates, let's print them out to explore more."
   ]
  },
  {
   "cell_type": "code",
   "execution_count": 13,
   "metadata": {},
   "outputs": [
    {
     "name": "stdout",
     "output_type": "stream",
     "text": [
      "['id', 'track_name', 'size_bytes', 'currency', 'price', 'rating_count_tot', 'rating_count_ver', 'user_rating', 'user_rating_ver', 'ver', 'cont_rating', 'prime_genre', 'sup_devices.num', 'ipadSc_urls.num', 'lang.num', 'vpp_lic']\n",
      "['1173990889', 'Mannequin Challenge', '109705216', 'USD', '0.0', '668', '87', '3.0', '3.0', '1.4', '9+', 'Games', '37', '4', '1', '1']\n",
      "['952877179', 'VR Roller Coaster', '169523200', 'USD', '0.0', '107', '102', '3.5', '3.5', '2.0.0', '4+', 'Games', '37', '5', '1', '1']\n",
      "['1178454060', 'Mannequin Challenge', '59572224', 'USD', '0.0', '105', '58', '4.0', '4.5', '1.0.1', '4+', 'Games', '38', '5', '1', '1']\n",
      "['1089824278', 'VR Roller Coaster', '240964608', 'USD', '0.0', '67', '44', '3.5', '4.0', '0.81', '4+', 'Games', '38', '0', '1', '1']\n"
     ]
    }
   ],
   "source": [
    "print(ios_list[0])\n",
    "for app in ios_list:\n",
    "    if app[1] in duplicate_list:\n",
    "        print(app)"
   ]
  },
  {
   "cell_type": "markdown",
   "metadata": {},
   "source": [
    "Here we can see that there are differences in columns. Based on rating_count_tot we can see that the other version is more recent, because it has more ratings. Let's delete the older duplicates."
   ]
  },
  {
   "cell_type": "code",
   "execution_count": 14,
   "metadata": {},
   "outputs": [
    {
     "name": "stdout",
     "output_type": "stream",
     "text": [
      "With duplicates: 7197\n",
      "Without duplicates:7195\n"
     ]
    }
   ],
   "source": [
    "print(\"With duplicates: \" + str(len(ios_list[1:])))\n",
    "reviews_max = {}\n",
    "for app in ios_list[1:]:\n",
    "    name = app[1]\n",
    "    reviews = float(app[5])\n",
    "    reviews_max[name] = reviews\n",
    "    if name in reviews_max and reviews_max[name] < reviews:\n",
    "        reviews_max[name] = reviews\n",
    "    elif name not in reviews_max:\n",
    "        reviews_max[name] = reviews\n",
    "\n",
    "print(\"Without duplicates:\" + str(len(reviews_max)))"
   ]
  },
  {
   "cell_type": "markdown",
   "metadata": {},
   "source": [
    "We can see that our new dictionary contains correct amount of values. Now we can use it to make a clean ios_list."
   ]
  },
  {
   "cell_type": "code",
   "execution_count": 15,
   "metadata": {},
   "outputs": [
    {
     "name": "stdout",
     "output_type": "stream",
     "text": [
      "7195\n",
      "[['284882215', 'Facebook', '389879808', 'USD', '0.0', '2974676', '212', '3.5', '3.5', '95.0', '4+', 'Social Networking', '37', '1', '29', '1'], ['389801252', 'Instagram', '113954816', 'USD', '0.0', '2161558', '1289', '4.5', '4.0', '10.23', '12+', 'Photo & Video', '37', '0', '29', '1']]\n"
     ]
    }
   ],
   "source": [
    "ios_clean = []\n",
    "already_added = []\n",
    "\n",
    "for app in ios_list[1:]:\n",
    "    name = app[1]\n",
    "    n_reviews = float(app[5])\n",
    "    if n_reviews == reviews_max[name] and name not in already_added:\n",
    "        ios_clean.append(app)\n",
    "        already_added.append(app)\n",
    "print(len(ios_clean))\n",
    "print(ios_clean[0:2])"
   ]
  },
  {
   "cell_type": "markdown",
   "metadata": {},
   "source": [
    "Ios has now been cleaned. It contains 7195 values, meaning that two duplicates were deleted. Let's also check if Android dataset has any duplicates."
   ]
  },
  {
   "cell_type": "code",
   "execution_count": 16,
   "metadata": {},
   "outputs": [
    {
     "name": "stdout",
     "output_type": "stream",
     "text": [
      "There are 1181 duplicate values.\n"
     ]
    }
   ],
   "source": [
    "duplicate_list = []\n",
    "unique_list = []\n",
    "for app in android_list:\n",
    "    name = app[0]\n",
    "    if name in unique_list:\n",
    "        duplicate_list.append(name)\n",
    "    else:\n",
    "        unique_list.append(name)\n",
    "print(\"There are \" + str(len(duplicate_list)) + \" duplicate values.\")"
   ]
  },
  {
   "cell_type": "markdown",
   "metadata": {},
   "source": [
    "Android dataset has a lot of duplicate values. Let's print a one of them and explain why."
   ]
  },
  {
   "cell_type": "code",
   "execution_count": 17,
   "metadata": {},
   "outputs": [
    {
     "name": "stdout",
     "output_type": "stream",
     "text": [
      "['App', 'Category', 'Rating', 'Reviews', 'Size', 'Installs', 'Type', 'Price', 'Content Rating', 'Genres', 'Last Updated', 'Current Ver', 'Android Ver']\n",
      "['Quick PDF Scanner + OCR FREE', 'BUSINESS', '4.2', '80805', 'Varies with device', '5,000,000+', 'Free', '0', 'Everyone', 'Business', 'February 26, 2018', 'Varies with device', '4.0.3 and up']\n",
      "['Quick PDF Scanner + OCR FREE', 'BUSINESS', '4.2', '80805', 'Varies with device', '5,000,000+', 'Free', '0', 'Everyone', 'Business', 'February 26, 2018', 'Varies with device', '4.0.3 and up']\n",
      "['Quick PDF Scanner + OCR FREE', 'BUSINESS', '4.2', '80804', 'Varies with device', '5,000,000+', 'Free', '0', 'Everyone', 'Business', 'February 26, 2018', 'Varies with device', '4.0.3 and up']\n"
     ]
    }
   ],
   "source": [
    "print(android_list[0])\n",
    "for app in android_list:\n",
    "    name = app[0]\n",
    "    if name == duplicate_list[0]:\n",
    "        print(app)"
   ]
  },
  {
   "cell_type": "markdown",
   "metadata": {},
   "source": [
    "As with iOS, we can see that the \"Reviews\" column has different values, meaning that there are newer versions of the same app. Let's delete the older ones that have less reviews."
   ]
  },
  {
   "cell_type": "code",
   "execution_count": 18,
   "metadata": {},
   "outputs": [
    {
     "name": "stdout",
     "output_type": "stream",
     "text": [
      "Before deleting duplicates: 10840\n",
      "Afte deleting duplicates: 9659\n",
      "The difference is: 1181\n"
     ]
    }
   ],
   "source": [
    "#Creating a dictionary with name: reviews\n",
    "print(\"Before deleting duplicates: \" + str(len(android_list[1:])))\n",
    "max_reviews = {}\n",
    "for app in android_list[1:]:\n",
    "    name = app[0]\n",
    "    reviews = app[3]\n",
    "    if name not in max_reviews:\n",
    "        max_reviews[name] = reviews\n",
    "    elif name in max_reviews and max_reviews[name] <= reviews:\n",
    "        max_reviews[name] = reviews\n",
    "print(\"Afte deleting duplicates: \" + str(len(max_reviews)))\n",
    "print(\"The difference is: \" + str(len(android_list[1:]) - len(max_reviews)))"
   ]
  },
  {
   "cell_type": "markdown",
   "metadata": {},
   "source": [
    "Now we have the correct amount of apps in the dictionary, so let's turn the dictionary into a clean android list."
   ]
  },
  {
   "cell_type": "code",
   "execution_count": 19,
   "metadata": {},
   "outputs": [
    {
     "name": "stdout",
     "output_type": "stream",
     "text": [
      "9659\n"
     ]
    }
   ],
   "source": [
    "android_clean = []\n",
    "already_added = []\n",
    "for app in android_list[1:]:\n",
    "    name = app[0]\n",
    "    reviews = app[3]\n",
    "    if name not in already_added and reviews == max_reviews[name]:\n",
    "        android_clean.append(app)\n",
    "        already_added.append(name)\n",
    "print(len(android_clean))"
   ]
  },
  {
   "cell_type": "markdown",
   "metadata": {},
   "source": [
    "Now we have a clean data. Next we want to get rid of all the apps that are not in English. To do this we will check which apps use alphabets that do not belong in English ASCII system, meaning all of those that have ASCII value of over 127. Let's create a function for this."
   ]
  },
  {
   "cell_type": "code",
   "execution_count": 20,
   "metadata": {},
   "outputs": [],
   "source": [
    "def english_word(word):\n",
    "    for character in word:\n",
    "        if ord(character) > 127:\n",
    "            return False\n",
    "    return True"
   ]
  },
  {
   "cell_type": "code",
   "execution_count": 21,
   "metadata": {},
   "outputs": [
    {
     "name": "stdout",
     "output_type": "stream",
     "text": [
      "True\n",
      "False\n"
     ]
    }
   ],
   "source": [
    "print(english_word(\"Instagram\"))\n",
    "print(english_word(\"ääööåå\"))"
   ]
  },
  {
   "cell_type": "markdown",
   "metadata": {},
   "source": [
    "While this seems to be working as expected, we do have a problem with some names involving symbols like emojis. For example a problem occurs with the following app:"
   ]
  },
  {
   "cell_type": "code",
   "execution_count": 22,
   "metadata": {},
   "outputs": [
    {
     "name": "stdout",
     "output_type": "stream",
     "text": [
      "False\n"
     ]
    }
   ],
   "source": [
    "print(english_word(\"Docs To Go™ Free Office Suite\"))"
   ]
  },
  {
   "cell_type": "markdown",
   "metadata": {},
   "source": [
    "To bypass this problem, the easiest solution is that we will only remove those than contain more than three characters outside our ASCII range. It is not perfect way, but fairly effective."
   ]
  },
  {
   "cell_type": "code",
   "execution_count": 23,
   "metadata": {},
   "outputs": [],
   "source": [
    "def english_word(word):\n",
    "    amount = 0\n",
    "    for character in word:\n",
    "        if ord(character) > 127:\n",
    "            amount += 1\n",
    "    if amount > 3:\n",
    "        return False\n",
    "    return True\n",
    "        "
   ]
  },
  {
   "cell_type": "code",
   "execution_count": 24,
   "metadata": {
    "scrolled": true
   },
   "outputs": [
    {
     "name": "stdout",
     "output_type": "stream",
     "text": [
      "True\n",
      "False\n"
     ]
    }
   ],
   "source": [
    "print(english_word(\"Docs To Go™ Free Office Suite\"))\n",
    "print(english_word('爱奇艺PPS -《欢乐颂2》电视剧热播'))"
   ]
  },
  {
   "cell_type": "markdown",
   "metadata": {},
   "source": [
    "Let's now clean both datasets by deleting non-English apps."
   ]
  },
  {
   "cell_type": "code",
   "execution_count": 25,
   "metadata": {},
   "outputs": [
    {
     "name": "stdout",
     "output_type": "stream",
     "text": [
      "The length of iOS dataset is now: 6181.\n",
      "The length of Android dataset is now: 9614.\n"
     ]
    }
   ],
   "source": [
    "ios_english = []\n",
    "android_english = []\n",
    "\n",
    "for app in ios_clean:\n",
    "    name = app[1]\n",
    "    if english_word(name) == True:\n",
    "        ios_english.append(app)\n",
    "\n",
    "for app in android_clean:\n",
    "    name = app[0]\n",
    "    if english_word(name) == True:\n",
    "        android_english.append(app)\n",
    "\n",
    "print(\"The length of iOS dataset is now: \" + str(len(ios_english)) + \".\")\n",
    "print(\"The length of Android dataset is now: \" + str(len(android_english)) + \".\")"
   ]
  },
  {
   "cell_type": "markdown",
   "metadata": {},
   "source": [
    "## Filtering free apps"
   ]
  },
  {
   "cell_type": "code",
   "execution_count": 26,
   "metadata": {},
   "outputs": [
    {
     "name": "stdout",
     "output_type": "stream",
     "text": [
      "The length of iOS dataset is now: 3221.\n",
      "The length of Android dataset is now: 8863.\n"
     ]
    }
   ],
   "source": [
    "#iOS price index 4, android 7\n",
    "#Let's add headers\n",
    "ios_free = [ios_list[0]]\n",
    "android_free = [android_list[0]]\n",
    "for app in ios_english:\n",
    "    price = app[4]\n",
    "    if price == '0.0':\n",
    "        ios_free.append(app)\n",
    "\n",
    "for app in android_english:\n",
    "    price = app[7]\n",
    "    if price == '0':\n",
    "        android_free.append(app)\n",
    "        \n",
    "print(\"The length of iOS dataset is now: \" + str(len(ios_free)) + \".\")\n",
    "print(\"The length of Android dataset is now: \" + str(len(android_free)) + \".\")"
   ]
  },
  {
   "cell_type": "markdown",
   "metadata": {},
   "source": [
    "## Finding the correct App for our project"
   ]
  },
  {
   "cell_type": "markdown",
   "metadata": {},
   "source": [
    "Our goal is to create an app for both versions: Android and iOS. Because of this, we need to find apps that perform well in both datasets. To do this we will create a frequency table for a few columns in our datasets. The columns we are going to use are App(track_name), Genres(prime_genre), Installs(rating_count_tot) and Rating(user_rating)."
   ]
  },
  {
   "cell_type": "code",
   "execution_count": 27,
   "metadata": {},
   "outputs": [],
   "source": [
    "#A function that makes a frequency table with 2 columns\n",
    "def freq_table(dataset, index):\n",
    "    dictionary_2_columns = {}\n",
    "    total = 0\n",
    "    \n",
    "    for app in dataset:\n",
    "        total += 1\n",
    "        column = app[index]\n",
    "        if column in dictionary_2_columns:\n",
    "            dictionary_2_columns[column] += 1\n",
    "        else:\n",
    "            dictionary_2_columns[column] = 1\n",
    "            \n",
    "    table_percentages = {}\n",
    "    for key in dictionary_2_columns:\n",
    "        percentage = (dictionary_2_columns[key] / total) * 100\n",
    "        table_percentages[key] = percentage\n",
    "        \n",
    "    return table_percentages"
   ]
  },
  {
   "cell_type": "code",
   "execution_count": 28,
   "metadata": {},
   "outputs": [],
   "source": [
    "#A function that turns our dictionary to sorted table\n",
    "def display_table(dataset, index):\n",
    "    table = freq_table(dataset, index)\n",
    "    table_display = []\n",
    "    for key in table:\n",
    "        key_val_as_tuple = (table[key], key)\n",
    "        table_display.append(key_val_as_tuple)\n",
    "\n",
    "    table_sorted = sorted(table_display, reverse = True)\n",
    "    for entry in table_sorted:\n",
    "        print(entry[1], ':', entry[0])"
   ]
  },
  {
   "cell_type": "markdown",
   "metadata": {},
   "source": [
    "Let's try our functions with prime_genre, Genres and Category."
   ]
  },
  {
   "cell_type": "code",
   "execution_count": 29,
   "metadata": {
    "scrolled": true
   },
   "outputs": [
    {
     "name": "stdout",
     "output_type": "stream",
     "text": [
      "Tools : 8.591637195756189\n",
      "Entertainment : 5.793634283336801\n",
      "Education : 5.231953401289786\n",
      "Business : 4.358227584772207\n",
      "Medical : 4.108591637195756\n",
      "Personalization : 3.900561680882047\n",
      "Productivity : 3.879758685250676\n",
      "Lifestyle : 3.775743707093822\n",
      "Finance : 3.588516746411483\n",
      "Sports : 3.442895776991887\n",
      "Communication : 3.2660703141252343\n",
      "Action : 3.110047846889952\n",
      "Health & Fitness : 2.995631370917412\n",
      "Photography : 2.9124193883919283\n",
      "News & Magazines : 2.600374453921365\n",
      "Social : 2.485957977948825\n",
      "Travel & Local : 2.26752652381943\n",
      "Books & Reference : 2.26752652381943\n",
      "Shopping : 2.090701060952777\n",
      "Simulation : 1.9762845849802373\n",
      "Arcade : 1.9138755980861244\n",
      "Dating : 1.7786561264822136\n",
      "Casual : 1.7058456417724153\n",
      "Video Players & Editors : 1.674641148325359\n",
      "Maps & Navigation : 1.3417932182234242\n",
      "Puzzle : 1.2377782400665696\n",
      "Food & Drink : 1.1649677553567712\n",
      "Role Playing : 1.0817557728312877\n",
      "Strategy : 0.9777407946744331\n",
      "Racing : 0.9465363012273768\n",
      "Libraries & Demo : 0.8737258165175785\n",
      "Auto & Vehicles : 0.8737258165175785\n",
      "Weather : 0.8217183274391513\n",
      "House & Home : 0.7593093405450385\n",
      "Adventure : 0.748907842729353\n",
      "Events : 0.6656958602038693\n",
      "Art & Design : 0.5824838776783856\n",
      "Comics : 0.5616808820470147\n",
      "Beauty : 0.5512793842313293\n",
      "Parenting : 0.4784688995215311\n",
      "Card : 0.4784688995215311\n",
      "Board : 0.4264614104431038\n",
      "Casino : 0.40565841481173287\n",
      "Educational;Education : 0.3952569169960474\n",
      "Trivia : 0.384855419180362\n",
      "Educational : 0.384855419180362\n",
      "Education;Education : 0.36405242354899103\n",
      "Casual;Pretend Play : 0.26003744539213647\n",
      "Word : 0.23923444976076555\n",
      "Music : 0.1976284584980237\n",
      "Puzzle;Brain Games : 0.18722696068233824\n",
      "Education;Pretend Play : 0.1768254628666528\n",
      "Racing;Action & Adventure : 0.16642396505096732\n",
      "Entertainment;Music & Video : 0.15602246723528188\n",
      "Board;Brain Games : 0.15602246723528188\n",
      "Arcade;Action & Adventure : 0.1456209694195964\n",
      "Educational;Pretend Play : 0.13521947160391096\n",
      "Casual;Action & Adventure : 0.13521947160391096\n",
      "Casual;Brain Games : 0.1248179737882255\n",
      "Action;Action & Adventure : 0.1248179737882255\n",
      "Simulation;Action & Adventure : 0.0728104847097982\n",
      "Parenting;Education : 0.0728104847097982\n",
      "Entertainment;Brain Games : 0.0728104847097982\n",
      "Parenting;Music & Video : 0.06240898689411275\n",
      "Educational;Brain Games : 0.06240898689411275\n",
      "Education;Creativity : 0.06240898689411275\n",
      "Casual;Creativity : 0.06240898689411275\n",
      "Art & Design;Creativity : 0.06240898689411275\n",
      "Educational;Creativity : 0.052007489078427296\n",
      "Adventure;Action & Adventure : 0.052007489078427296\n",
      "Sports;Action & Adventure : 0.04160599126274183\n",
      "Role Playing;Pretend Play : 0.04160599126274183\n",
      "Role Playing;Action & Adventure : 0.04160599126274183\n",
      "Education;Brain Games : 0.04160599126274183\n",
      "Education;Action & Adventure : 0.04160599126274183\n",
      "Simulation;Pretend Play : 0.031204493447056374\n",
      "Simulation;Education : 0.031204493447056374\n",
      "Puzzle;Action & Adventure : 0.031204493447056374\n",
      "Music;Music & Video : 0.031204493447056374\n",
      "Entertainment;Creativity : 0.031204493447056374\n",
      "Entertainment;Action & Adventure : 0.031204493447056374\n",
      "Educational;Action & Adventure : 0.031204493447056374\n",
      "Education;Music & Video : 0.031204493447056374\n",
      "Casual;Education : 0.031204493447056374\n",
      "Board;Action & Adventure : 0.031204493447056374\n",
      "Video Players & Editors;Music & Video : 0.020802995631370915\n",
      "Strategy;Action & Adventure : 0.020802995631370915\n",
      "Puzzle;Creativity : 0.020802995631370915\n",
      "Entertainment;Pretend Play : 0.020802995631370915\n",
      "Card;Action & Adventure : 0.020802995631370915\n",
      "Books & Reference;Education : 0.020802995631370915\n",
      "Video Players & Editors;Creativity : 0.010401497815685458\n",
      "Trivia;Education : 0.010401497815685458\n",
      "Travel & Local;Action & Adventure : 0.010401497815685458\n",
      "Tools;Education : 0.010401497815685458\n",
      "Strategy;Education : 0.010401497815685458\n",
      "Strategy;Creativity : 0.010401497815685458\n",
      "Role Playing;Education : 0.010401497815685458\n",
      "Role Playing;Brain Games : 0.010401497815685458\n",
      "Racing;Pretend Play : 0.010401497815685458\n",
      "Puzzle;Education : 0.010401497815685458\n",
      "Parenting;Brain Games : 0.010401497815685458\n",
      "Music & Audio;Music & Video : 0.010401497815685458\n",
      "Lifestyle;Pretend Play : 0.010401497815685458\n",
      "Lifestyle;Education : 0.010401497815685458\n",
      "Health & Fitness;Education : 0.010401497815685458\n",
      "Health & Fitness;Action & Adventure : 0.010401497815685458\n",
      "Entertainment;Education : 0.010401497815685458\n",
      "Communication;Creativity : 0.010401497815685458\n",
      "Comics;Creativity : 0.010401497815685458\n",
      "Casual;Music & Video : 0.010401497815685458\n",
      "Card;Brain Games : 0.010401497815685458\n",
      "Books & Reference;Creativity : 0.010401497815685458\n",
      "Board;Pretend Play : 0.010401497815685458\n",
      "Art & Design;Pretend Play : 0.010401497815685458\n",
      "Art & Design;Action & Adventure : 0.010401497815685458\n",
      "Arcade;Pretend Play : 0.010401497815685458\n",
      "Adventure;Education : 0.010401497815685458\n",
      "Adventure;Brain Games : 0.010401497815685458\n"
     ]
    }
   ],
   "source": [
    "display_table(android_english, 9) #Genres"
   ]
  },
  {
   "cell_type": "code",
   "execution_count": 30,
   "metadata": {},
   "outputs": [
    {
     "name": "stdout",
     "output_type": "stream",
     "text": [
      "FAMILY : 19.346785937174953\n",
      "GAME : 9.787809444560017\n",
      "TOOLS : 8.602038693571874\n",
      "BUSINESS : 4.358227584772207\n",
      "MEDICAL : 4.108591637195756\n",
      "PERSONALIZATION : 3.900561680882047\n",
      "PRODUCTIVITY : 3.879758685250676\n",
      "LIFESTYLE : 3.786145204909507\n",
      "FINANCE : 3.588516746411483\n",
      "SPORTS : 3.3804867900977738\n",
      "COMMUNICATION : 3.2660703141252343\n",
      "HEALTH_AND_FITNESS : 2.995631370917412\n",
      "PHOTOGRAPHY : 2.9124193883919283\n",
      "NEWS_AND_MAGAZINES : 2.600374453921365\n",
      "SOCIAL : 2.485957977948825\n",
      "TRAVEL_AND_LOCAL : 2.2779280216351157\n",
      "BOOKS_AND_REFERENCE : 2.26752652381943\n",
      "SHOPPING : 2.090701060952777\n",
      "DATING : 1.7786561264822136\n",
      "VIDEO_PLAYERS : 1.6954441439567296\n",
      "MAPS_AND_NAVIGATION : 1.3417932182234242\n",
      "FOOD_AND_DRINK : 1.1649677553567712\n",
      "EDUCATION : 1.1129602662783442\n",
      "ENTERTAINMENT : 0.9049303099646349\n",
      "LIBRARIES_AND_DEMO : 0.8737258165175785\n",
      "AUTO_AND_VEHICLES : 0.8737258165175785\n",
      "WEATHER : 0.8217183274391513\n",
      "HOUSE_AND_HOME : 0.7593093405450385\n",
      "EVENTS : 0.6656958602038693\n",
      "PARENTING : 0.6240898689411275\n",
      "ART_AND_DESIGN : 0.6240898689411275\n",
      "COMICS : 0.5720823798627002\n",
      "BEAUTY : 0.5512793842313293\n"
     ]
    }
   ],
   "source": [
    "display_table(android_english, 1) #Category"
   ]
  },
  {
   "cell_type": "code",
   "execution_count": 31,
   "metadata": {},
   "outputs": [
    {
     "name": "stdout",
     "output_type": "stream",
     "text": [
      "Games : 54.84549425659279\n",
      "Entertainment : 7.264196731920401\n",
      "Education : 6.633230868791458\n",
      "Photo & Video : 5.516906649409481\n",
      "Utilities : 3.446044329396538\n",
      "Productivity : 2.7180067950169877\n",
      "Health & Fitness : 2.6694709593916843\n",
      "Music : 2.216469826888853\n",
      "Social Networking : 2.0385050962627407\n",
      "Sports : 1.682575635010516\n",
      "Lifestyle : 1.6016825756350106\n",
      "Shopping : 1.375182009383595\n",
      "Weather : 1.116324219381977\n",
      "Travel : 0.970716712506067\n",
      "News : 0.9221808768807637\n",
      "Book : 0.8898236531305614\n",
      "Reference : 0.8574664293803592\n",
      "Business : 0.8574664293803592\n",
      "Finance : 0.7927519818799547\n",
      "Food & Drink : 0.7118589225044492\n",
      "Navigation : 0.4530011325028313\n",
      "Medical : 0.33975084937712347\n",
      "Catalogs : 0.08089305937550557\n"
     ]
    }
   ],
   "source": [
    "display_table(ios_english, 11) #prime_genre"
   ]
  },
  {
   "cell_type": "markdown",
   "metadata": {},
   "source": [
    "For iOS games is the most common genre with almost 55% of apps being games. After that comes entertainment (7.3%) and education (6.6%). For Android genres tools comes first (8.6%), then comes entertainment (5.8%) and education (5.2%). For Android categories the top 3 are: Family (19.3%), Games (9.8%) and tools (8.6%). The general impression seems that most of the apps are created for the following reasons: Gaming, entertainment, education, or productivity.\n",
    "\n",
    "Looking at the data, we can see that Android Genres is the same as Categories, but with more detailed information. For our purposes Categories is enough, so we will continue using that frequency table from now on."
   ]
  },
  {
   "cell_type": "markdown",
   "metadata": {},
   "source": [
    "## Finding the genres with most users"
   ]
  },
  {
   "cell_type": "markdown",
   "metadata": {},
   "source": [
    "Even though games are dominating App Store, it doesn't mean that every game has a lot of players. Because of this we are going to make frequency tables based on installations. For Google Play data we can do this easily with 'Installs' column, but for App Store we have to use rating_count_tot as a workaround."
   ]
  },
  {
   "cell_type": "code",
   "execution_count": 32,
   "metadata": {
    "scrolled": false
   },
   "outputs": [
    {
     "name": "stdout",
     "output_type": "stream",
     "text": [
      "Social Networking 36938.472\n",
      "Photo & Video 14688.715542521993\n",
      "Games 15595.726548672566\n",
      "Music 29047.109489051094\n",
      "Reference 27037.188679245282\n",
      "Health & Fitness 10802.157575757576\n",
      "Weather 23145.246376811596\n",
      "Utilities 7927.525821596244\n",
      "Travel 19030.183333333334\n",
      "Shopping 26635.011764705883\n",
      "News 16980.315789473683\n",
      "Navigation 19370.821428571428\n",
      "Lifestyle 8930.373737373737\n",
      "Entertainment 8862.409799554565\n",
      "Food & Drink 19934.386363636364\n",
      "Sports 15350.913461538461\n",
      "Book 10359.2\n",
      "Finance 23353.530612244896\n",
      "Education 2472.278048780488\n",
      "Productivity 8508.089285714286\n",
      "Business 5149.320754716981\n",
      "Catalogs 3465.0\n",
      "Medical 648.952380952381\n"
     ]
    }
   ],
   "source": [
    "prime_genre = freq_table(ios_english,11)\n",
    "\n",
    "for genre in prime_genre:\n",
    "    total = 0\n",
    "    len_genre = 0\n",
    "    for row in ios_english[1:]:\n",
    "        genre_app = row[11]\n",
    "        if genre_app == genre:\n",
    "            n_ratings = float(row[5])\n",
    "            total += n_ratings\n",
    "            len_genre += 1\n",
    "            \n",
    "    avg_n_users = total / len_genre\n",
    "    print(str(genre) + \" \" + str(avg_n_users))"
   ]
  },
  {
   "cell_type": "markdown",
   "metadata": {},
   "source": [
    "Most average users seem to be in category 'Social Networking', but considering that this includes app like Instagram, Facebook, Twitter, etc. this isn't really a category we want to compete in. Music includes apps like Spotify etc. so that's not really viable category either. Some recommendations could be apps in categories like Health & Fitness, Lifestyle, Book or Sports."
   ]
  },
  {
   "cell_type": "markdown",
   "metadata": {},
   "source": [
    "Now let's take a look at Google Play data. If we look at one row, we can see that installations aren't as straightforward as expected."
   ]
  },
  {
   "cell_type": "code",
   "execution_count": 33,
   "metadata": {
    "scrolled": true
   },
   "outputs": [
    {
     "name": "stdout",
     "output_type": "stream",
     "text": [
      "['U Launcher Lite – FREE Live Cool Themes, Hide Apps', 'ART_AND_DESIGN', '4.7', '87510', '8.7M', '5,000,000+', 'Free', '0', 'Everyone', 'Art & Design', 'August 1, 2018', '1.2.4', '4.0.3 and up']\n"
     ]
    }
   ],
   "source": [
    "print(android_english[1])"
   ]
  },
  {
   "cell_type": "markdown",
   "metadata": {},
   "source": [
    "The app above has installations of '5,000,000+'. We need to change this values from strings to integers. We also can't now exactly what 5,000,000+ means, it could be 5,000,001 or even 5,999,999. Because of this we are going to assume that all of the intervals mean exactly that amount, so 100,000+ for example means 100,000."
   ]
  },
  {
   "cell_type": "code",
   "execution_count": 40,
   "metadata": {},
   "outputs": [
    {
     "name": "stdout",
     "output_type": "stream",
     "text": [
      "ART_AND_DESIGN 1919103.3898305085\n",
      "AUTO_AND_VEHICLES 632501.3214285715\n",
      "BEAUTY 513151.88679245283\n",
      "BOOKS_AND_REFERENCE 7641777.871559633\n",
      "BUSINESS 1663758.627684964\n",
      "COMICS 817657.2727272727\n",
      "COMMUNICATION 35153714.17515924\n",
      "DATING 824129.2807017544\n",
      "EDUCATION 1770579.4392523365\n",
      "ENTERTAINMENT 11375402.298850575\n",
      "EVENTS 249580.640625\n",
      "FINANCE 1319851.4028985507\n",
      "FOOD_AND_DRINK 1891060.2767857143\n",
      "HEALTH_AND_FITNESS 3972300.388888889\n",
      "HOUSE_AND_HOME 1331540.5616438356\n",
      "LIBRARIES_AND_DEMO 630903.6904761905\n",
      "LIFESTYLE 1369954.7774725275\n",
      "GAME 14227278.868225291\n",
      "FAMILY 3344163.6580645163\n",
      "MEDICAL 96691.58734177215\n",
      "SOCIAL 22961790.384937238\n",
      "SHOPPING 6966908.880597015\n",
      "PHOTOGRAPHY 16604098.410714285\n",
      "SPORTS 3373767.6861538463\n",
      "TRAVEL_AND_LOCAL 13218662.767123288\n",
      "TOOLS 9676869.30471584\n",
      "PERSONALIZATION 4086652.4853333333\n",
      "PRODUCTIVITY 15530942.008042896\n",
      "PARENTING 525351.8333333334\n",
      "WEATHER 4570892.658227848\n",
      "VIDEO_PLAYERS 24121489.079754602\n",
      "NEWS_AND_MAGAZINES 9472807.04\n",
      "MAPS_AND_NAVIGATION 3900634.7286821706\n"
     ]
    }
   ],
   "source": [
    "android_genres = freq_table(android_english, 1)\n",
    "\n",
    "for genre in android_genres:\n",
    "    total = 0\n",
    "    len_category = 0\n",
    "    for row in android_english[1:]:\n",
    "        category_app = row[1]\n",
    "        if category_app == genre:\n",
    "            n_installs = row[5]\n",
    "            n_installs = n_installs.replace(\"+\", \"\")\n",
    "            n_installs = n_installs.replace(\",\", \"\")\n",
    "            total += float(n_installs)\n",
    "            len_category += 1\n",
    "    avg_n_installs = total / len_category\n",
    "    print(genre + \" \" + str(avg_n_installs))"
   ]
  },
  {
   "cell_type": "markdown",
   "metadata": {},
   "source": [
    "One genre that stands out is books and reference with over 7.6 million installations. Books was also one of the genres in iOS recommendations. One app we could build on could be something that combines books and productivity together."
   ]
  }
 ],
 "metadata": {
  "kernelspec": {
   "display_name": "Python 3",
   "language": "python",
   "name": "python3"
  },
  "language_info": {
   "codemirror_mode": {
    "name": "ipython",
    "version": 3
   },
   "file_extension": ".py",
   "mimetype": "text/x-python",
   "name": "python",
   "nbconvert_exporter": "python",
   "pygments_lexer": "ipython3",
   "version": "3.8.2"
  }
 },
 "nbformat": 4,
 "nbformat_minor": 2
}
