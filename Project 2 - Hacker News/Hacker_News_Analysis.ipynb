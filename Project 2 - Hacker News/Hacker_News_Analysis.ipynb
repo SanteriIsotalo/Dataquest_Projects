{
 "cells": [
  {
   "cell_type": "markdown",
   "id": "4ad9cc3c",
   "metadata": {},
   "source": [
    "# Hacker News Project"
   ]
  },
  {
   "cell_type": "markdown",
   "id": "7573d708",
   "metadata": {},
   "source": [
    "In this project we are diving into Hacker News website. We are going to find which posts perform better, Ask posts or Show posts. We are also going to find the best times to publish the posts that generate more engagement."
   ]
  },
  {
   "cell_type": "code",
   "execution_count": 19,
   "id": "aeaeb543",
   "metadata": {},
   "outputs": [],
   "source": [
    "from csv import reader\n",
    "open_file = open('hacker_news.csv')\n",
    "read_file = reader(open_file)\n",
    "hn = list(read_file)"
   ]
  },
  {
   "cell_type": "code",
   "execution_count": 20,
   "id": "6b006dcc",
   "metadata": {
    "scrolled": true
   },
   "outputs": [
    {
     "name": "stdout",
     "output_type": "stream",
     "text": [
      "[['id', 'title', 'url', 'num_points', 'num_comments', 'author', 'created_at'], ['12224879', 'Interactive Dynamic Video', 'http://www.interactivedynamicvideo.com/', '386', '52', 'ne0phyte', '8/4/2016 11:52'], ['10975351', 'How to Use Open Source and Shut the Fuck Up at the Same Time', 'http://hueniverse.com/2016/01/26/how-to-use-open-source-and-shut-the-fuck-up-at-the-same-time/', '39', '10', 'josep2', '1/26/2016 19:30'], ['11964716', \"Florida DJs May Face Felony for April Fools' Water Joke\", 'http://www.thewire.com/entertainment/2013/04/florida-djs-april-fools-water-joke/63798/', '2', '1', 'vezycash', '6/23/2016 22:20'], ['11919867', 'Technology ventures: From Idea to Enterprise', 'https://www.amazon.com/Technology-Ventures-Enterprise-Thomas-Byers/dp/0073523429', '3', '1', 'hswarna', '6/17/2016 0:01']]\n"
     ]
    }
   ],
   "source": [
    "#First five rows of our data:\n",
    "print(hn[0:5])"
   ]
  },
  {
   "cell_type": "markdown",
   "id": "54734f5b",
   "metadata": {},
   "source": [
    "Let's remove the headers row from our data"
   ]
  },
  {
   "cell_type": "code",
   "execution_count": 21,
   "id": "517a96b0",
   "metadata": {},
   "outputs": [
    {
     "name": "stdout",
     "output_type": "stream",
     "text": [
      "['id', 'title', 'url', 'num_points', 'num_comments', 'author', 'created_at']\n"
     ]
    }
   ],
   "source": [
    "headers = hn[0]\n",
    "hn = hn[1:]\n",
    "print(headers)"
   ]
  },
  {
   "cell_type": "code",
   "execution_count": 22,
   "id": "ae811c93",
   "metadata": {},
   "outputs": [
    {
     "name": "stdout",
     "output_type": "stream",
     "text": [
      "[['12224879', 'Interactive Dynamic Video', 'http://www.interactivedynamicvideo.com/', '386', '52', 'ne0phyte', '8/4/2016 11:52'], ['10975351', 'How to Use Open Source and Shut the Fuck Up at the Same Time', 'http://hueniverse.com/2016/01/26/how-to-use-open-source-and-shut-the-fuck-up-at-the-same-time/', '39', '10', 'josep2', '1/26/2016 19:30'], ['11964716', \"Florida DJs May Face Felony for April Fools' Water Joke\", 'http://www.thewire.com/entertainment/2013/04/florida-djs-april-fools-water-joke/63798/', '2', '1', 'vezycash', '6/23/2016 22:20'], ['11919867', 'Technology ventures: From Idea to Enterprise', 'https://www.amazon.com/Technology-Ventures-Enterprise-Thomas-Byers/dp/0073523429', '3', '1', 'hswarna', '6/17/2016 0:01'], ['10301696', 'Note by Note: The Making of Steinway L1037 (2007)', 'http://www.nytimes.com/2007/11/07/movies/07stein.html?_r=0', '8', '2', 'walterbell', '9/30/2015 4:12']]\n"
     ]
    }
   ],
   "source": [
    "print(hn[0:5])"
   ]
  },
  {
   "cell_type": "markdown",
   "id": "39418acf",
   "metadata": {},
   "source": [
    "## Extracting Ask HN and Show HN Posts"
   ]
  },
  {
   "cell_type": "markdown",
   "id": "335c2645",
   "metadata": {},
   "source": [
    "We want to filter our data to only show posts that begin with titles Ask HN or Show HN. To do this we are going to use startswith and lower methods."
   ]
  },
  {
   "cell_type": "code",
   "execution_count": 23,
   "id": "89d74b74",
   "metadata": {},
   "outputs": [
    {
     "name": "stdout",
     "output_type": "stream",
     "text": [
      "Length of ask_posts: 1744\n",
      "Length of show_posts: 1162\n",
      "Length of other_posts: 17194\n"
     ]
    }
   ],
   "source": [
    "ask_posts = []\n",
    "show_posts = []\n",
    "other_posts = []\n",
    "\n",
    "for row in hn:\n",
    "    title = row[1]\n",
    "    title = title.lower()\n",
    "    if title.startswith(\"ask hn\"):\n",
    "        ask_posts.append(row)\n",
    "    elif title.startswith(\"show hn\"):\n",
    "        show_posts.append(row)\n",
    "    else:\n",
    "        other_posts.append(row)\n",
    "\n",
    "print(\"Length of ask_posts: \" + str(len(ask_posts)))\n",
    "print(\"Length of show_posts: \" + str(len(show_posts)))\n",
    "print(\"Length of other_posts: \" + str(len(other_posts)))"
   ]
  },
  {
   "cell_type": "markdown",
   "id": "ea8c1d5b",
   "metadata": {},
   "source": [
    "## Finding comments for each category"
   ]
  },
  {
   "cell_type": "markdown",
   "id": "eb40e194",
   "metadata": {},
   "source": [
    "Next we are going to find the total number of comments for ask_posts and show_posts"
   ]
  },
  {
   "cell_type": "code",
   "execution_count": 28,
   "id": "2eeeabef",
   "metadata": {},
   "outputs": [
    {
     "name": "stdout",
     "output_type": "stream",
     "text": [
      "Ask posts have a total of 24483 comments.\n",
      "Show posts have a total of 11988 comments.\n",
      "Ask posts have 14.038417431192661 comments on average.\n",
      "Show posts have 10.31669535283993 comments on average.\n"
     ]
    }
   ],
   "source": [
    "total_ask_comments = 0\n",
    "total_show_comments = 0\n",
    "\n",
    "for row in ask_posts:\n",
    "    n_comments_ask = int(row[4])\n",
    "    total_ask_comments += n_comments_ask\n",
    "    \n",
    "for row in show_posts:\n",
    "    n_comments_show = int(row[4])\n",
    "    total_show_comments += n_comments_show\n",
    "    \n",
    "print(\"Ask posts have a total of \" + str(total_ask_comments) + \" comments.\")\n",
    "print(\"Show posts have a total of \" + str(total_show_comments) + \" comments.\")\n",
    "\n",
    "#Calculating average comments\n",
    "avg_ask_comments = total_ask_comments / len(ask_posts)\n",
    "avg_show_comments = total_show_comments / len(show_posts)\n",
    "\n",
    "print(\"Ask posts have \" + str(avg_ask_comments) + \" comments on average.\")\n",
    "print(\"Show posts have \" + str(avg_show_comments) + \" comments on average.\")"
   ]
  },
  {
   "cell_type": "markdown",
   "id": "0bfb2736",
   "metadata": {},
   "source": [
    "As we can see ask posts get 14 comments on average, while show posts get 10 comments on average, meaning that ask posts create more engagement."
   ]
  },
  {
   "cell_type": "markdown",
   "id": "239ce9d2",
   "metadata": {},
   "source": [
    "# Does time matter?"
   ]
  },
  {
   "cell_type": "markdown",
   "id": "4ad8fa53",
   "metadata": {},
   "source": [
    "Next we are going to check if time of posting matters for the engagement. Because ask posts generated more comments, we are only going to use them from now on."
   ]
  },
  {
   "cell_type": "code",
   "execution_count": 30,
   "id": "b80d3456",
   "metadata": {},
   "outputs": [
    {
     "name": "stdout",
     "output_type": "stream",
     "text": [
      "[['8/16/2016 9:55', 6]]\n"
     ]
    }
   ],
   "source": [
    "import datetime as dt\n",
    "\n",
    "result_list = []\n",
    "\n",
    "for row in ask_posts:\n",
    "    created_at = row[6]\n",
    "    n_comments = int(row[4])\n",
    "    result_list.append([created_at, n_comments])\n",
    "#Printing first row \n",
    "print(result_list[0:1])"
   ]
  },
  {
   "cell_type": "markdown",
   "id": "1652b2ec",
   "metadata": {},
   "source": [
    "Above we created a list that shows the time a post was created and the amount of comments it generated. Now we are going to add these into dictionaries."
   ]
  },
  {
   "cell_type": "code",
   "execution_count": 46,
   "id": "f6bdf44d",
   "metadata": {},
   "outputs": [
    {
     "name": "stdout",
     "output_type": "stream",
     "text": [
      "{'09': 45, '13': 85, '10': 59, '14': 107, '16': 108, '23': 68, '12': 73, '17': 100, '15': 116, '21': 109, '20': 80, '02': 58, '18': 109, '03': 54, '05': 46, '19': 110, '01': 60, '22': 71, '08': 48, '04': 47, '00': 55, '06': 44, '07': 34, '11': 58}\n",
      "{'09': 251, '13': 1253, '10': 793, '14': 1416, '16': 1814, '23': 543, '12': 687, '17': 1146, '15': 4477, '21': 1745, '20': 1722, '02': 1381, '18': 1439, '03': 421, '05': 464, '19': 1188, '01': 683, '22': 479, '08': 492, '04': 337, '00': 447, '06': 397, '07': 267, '11': 641}\n"
     ]
    }
   ],
   "source": [
    "counts_by_hour = {}\n",
    "comments_by_hour = {}\n",
    "\n",
    "for row in result_list:\n",
    "    time = row[0]\n",
    "    time = dt.datetime.strptime(time, \"%m/%d/%Y %H:%M\")\n",
    "    time = time.strftime(\"%H\")\n",
    "    n_comments = row[1]\n",
    "    \n",
    "    if time in counts_by_hour:\n",
    "        counts_by_hour[time] += 1\n",
    "    else:\n",
    "        counts_by_hour[time] = 1\n",
    "    if time in comments_by_hour:\n",
    "        comments_by_hour[time] += n_comments\n",
    "    else:\n",
    "        comments_by_hour[time] = n_comments\n",
    "print(counts_by_hour)\n",
    "print(comments_by_hour)"
   ]
  },
  {
   "cell_type": "markdown",
   "id": "c2177cc8",
   "metadata": {},
   "source": [
    "Let's now create a list of lists that contains the hours when posts were created, and the average number of comments for those posts. This can be done by dividing comments_per_hour by counts_by_hour."
   ]
  },
  {
   "cell_type": "code",
   "execution_count": 52,
   "id": "57cd57cd",
   "metadata": {
    "scrolled": true
   },
   "outputs": [
    {
     "name": "stdout",
     "output_type": "stream",
     "text": [
      "[['09', 5.5777777777777775], ['13', 14.741176470588234], ['10', 13.440677966101696], ['14', 13.233644859813085], ['16', 16.796296296296298], ['23', 7.985294117647059], ['12', 9.41095890410959], ['17', 11.46], ['15', 38.5948275862069], ['21', 16.009174311926607], ['20', 21.525], ['02', 23.810344827586206], ['18', 13.20183486238532], ['03', 7.796296296296297], ['05', 10.08695652173913], ['19', 10.8], ['01', 11.383333333333333], ['22', 6.746478873239437], ['08', 10.25], ['04', 7.170212765957447], ['00', 8.127272727272727], ['06', 9.022727272727273], ['07', 7.852941176470588], ['11', 11.051724137931034]]\n"
     ]
    }
   ],
   "source": [
    "average_list = []\n",
    "for hour in counts_by_hour:\n",
    "    n_count = counts_by_hour[hour]\n",
    "    n_comments = comments_by_hour[hour]\n",
    "    average = n_comments / n_count\n",
    "    average_list.append([hour, average])\n",
    "print(average_list)"
   ]
  },
  {
   "cell_type": "markdown",
   "id": "895a930d",
   "metadata": {},
   "source": [
    "Now we have average comments by hour, but on this format it is difficult to see any information from the list. Let's sort the list and printing the highest values in a format that is easier to read."
   ]
  },
  {
   "cell_type": "code",
   "execution_count": 57,
   "id": "ac431828",
   "metadata": {},
   "outputs": [
    {
     "name": "stdout",
     "output_type": "stream",
     "text": [
      "[[5.5777777777777775, '11'], [14.741176470588234, '13'], [13.440677966101696, '10'], [13.233644859813085, '14'], [16.796296296296298, '16'], [7.985294117647059, '23'], [9.41095890410959, '12'], [11.46, '17'], [38.5948275862069, '15'], [16.009174311926607, '21'], [21.525, '20'], [23.810344827586206, '02'], [13.20183486238532, '18'], [7.796296296296297, '03'], [10.08695652173913, '05'], [10.8, '19'], [11.383333333333333, '01'], [6.746478873239437, '22'], [10.25, '08'], [7.170212765957447, '04'], [8.127272727272727, '00'], [9.022727272727273, '06'], [7.852941176470588, '07'], [11.051724137931034, '11']]\n"
     ]
    }
   ],
   "source": [
    "swap_average_list = []\n",
    "\n",
    "for row in average_list:\n",
    "    hour = row[0]\n",
    "    comments = row[1]\n",
    "    swap_average_list.append([comments, hour])\n",
    "print(swap_average_list)"
   ]
  },
  {
   "cell_type": "code",
   "execution_count": 61,
   "id": "bf877c5d",
   "metadata": {},
   "outputs": [
    {
     "name": "stdout",
     "output_type": "stream",
     "text": [
      "Top 5 Hours for Ask Posts Comments\n",
      "15:00: 38.59 average comments per post\n",
      "02:00: 23.81 average comments per post\n",
      "20:00: 21.52 average comments per post\n",
      "16:00: 16.80 average comments per post\n",
      "21:00: 16.01 average comments per post\n"
     ]
    }
   ],
   "source": [
    "#Sorting in descending order:\n",
    "\n",
    "sorted_swap = sorted(swap_average_list, reverse=True)\n",
    "print(\"Top 5 Hours for Ask Posts Comments\")\n",
    "template = \"{time}: {avg_comments:.2f} average comments per post\"\n",
    "for value in sorted_swap[0:5]:\n",
    "    hour = value[1]\n",
    "    hour = dt.datetime.strptime(hour, \"%H\")\n",
    "    hour = hour.strftime(\"%H:%M\")\n",
    "    comments = value[0]\n",
    "    print(template.format(time=hour, avg_comments = comments))"
   ]
  },
  {
   "cell_type": "markdown",
   "id": "8ba21ba5",
   "metadata": {},
   "source": [
    "From this we can see that the top 5 times for Ask posts are 15:00, 02:00, 20:00, 16:00 and 21:00."
   ]
  }
 ],
 "metadata": {
  "kernelspec": {
   "display_name": "Python 3 (ipykernel)",
   "language": "python",
   "name": "python3"
  },
  "language_info": {
   "codemirror_mode": {
    "name": "ipython",
    "version": 3
   },
   "file_extension": ".py",
   "mimetype": "text/x-python",
   "name": "python",
   "nbconvert_exporter": "python",
   "pygments_lexer": "ipython3",
   "version": "3.11.5"
  }
 },
 "nbformat": 4,
 "nbformat_minor": 5
}
