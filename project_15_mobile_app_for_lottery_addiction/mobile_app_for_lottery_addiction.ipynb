{
 "cells": [
  {
   "cell_type": "markdown",
   "id": "0ad1263e-8884-44a0-ba31-60a81d96e823",
   "metadata": {},
   "source": [
    "# Project 15 - Mobile App for Lottery Addiction"
   ]
  },
  {
   "cell_type": "markdown",
   "id": "92ac180e-2051-41f7-94d7-9078ce636141",
   "metadata": {},
   "source": [
    "Many people start playing the lottery for fun, but for some this activity turns into a habit which eventually escalates into addiction. Like other compulsive gamblers, lottery addicts soon begin spending from their savings and loans, they start to accumulate debts, and eventually engage in desperate behaviors like theft."
   ]
  },
  {
   "cell_type": "markdown",
   "id": "5c28606d-4b1e-433e-868a-5fb619c80212",
   "metadata": {},
   "source": [
    "## Goal of this project"
   ]
  },
  {
   "cell_type": "markdown",
   "id": "3b82efb4-c65e-4bc8-ae81-b4c0d227ef40",
   "metadata": {},
   "source": [
    "A fictional medical institute that aims to prevent and treat gambling addictions wants to build a dedicated mobile app to help lottery addicts better estimate their chances of winning. The institute has a team of engineers that will build the app, but they need us to create the logical core of the app and calculate probabilities.\n",
    "\n",
    "For the first version of the app, they want us to focus on the 6/49 lottery and build functions that can answer users the following questions:\n",
    "\n",
    "- What is the probability of winning the big prize with a single ticket?\n",
    "- What is the probability of winning the big prize if we play 40 different tickets (or any other number)?\n",
    "- What is the probability of having at least five (or four, or three) winning numbers on a single ticket?\n",
    "\n",
    "<b>In short, the main purpose of this project is to practice applying probability and combinatorics (permutations and combinations) concepts in a setting that simulates a real-world scenario.</b>"
   ]
  },
  {
   "cell_type": "markdown",
   "id": "942b4ca5-e17f-4d49-949e-530549108624",
   "metadata": {},
   "source": [
    "## Core Functions"
   ]
  },
  {
   "cell_type": "markdown",
   "id": "a44b900e-6d2c-45aa-9137-285d1e10be63",
   "metadata": {},
   "source": [
    "We will start by writing two functions that are needed often. These are\n",
    "- a function that calculates factorials\n",
    "- a function that calculates combinations"
   ]
  },
  {
   "cell_type": "code",
   "execution_count": 15,
   "id": "a2ff2e24-42e9-41bb-8384-d895011a4077",
   "metadata": {},
   "outputs": [
    {
     "name": "stdout",
     "output_type": "stream",
     "text": [
      "6\n",
      "3628800\n"
     ]
    }
   ],
   "source": [
    "#n! = n*(n-1)*(n-2)*...*2*1\n",
    "def factorial(n):\n",
    "    answer = 1\n",
    "    start_number = 1\n",
    "    for number in range(1, n+1): #n+1 because otherwise we would stop one number too early\n",
    "        answer = start_number*answer\n",
    "        start_number += 1\n",
    "    return answer\n",
    "\n",
    "#this should be 3*2*1 = 6\n",
    "print(factorial(3))\n",
    "#this should be 10*9*8...*1 = 3628800\n",
    "print(factorial(10))"
   ]
  },
  {
   "cell_type": "code",
   "execution_count": 20,
   "id": "00ceff79-68c8-4148-94de-3af0bcfb121f",
   "metadata": {},
   "outputs": [
    {
     "name": "stdout",
     "output_type": "stream",
     "text": [
      "2760681\n"
     ]
    }
   ],
   "source": [
    "# n!/(k!*(n-k)!\n",
    "def combinations(n, k):\n",
    "    return int(factorial(n)/(factorial(k)*factorial(n-k))) #can be int since there won't be decimals\n",
    "\n",
    "#this should be 2760681\n",
    "print(combinations(38,6))"
   ]
  },
  {
   "cell_type": "markdown",
   "id": "3f70682d-e5a3-4a75-88d0-3595f2fe9196",
   "metadata": {},
   "source": [
    "We now have two core functions that we're going to need repeatedly moving forward."
   ]
  },
  {
   "cell_type": "markdown",
   "id": "703f6b5a-1c6c-4eb7-86c9-eedc7c9c4661",
   "metadata": {},
   "source": [
    "## One-ticket Probability"
   ]
  },
  {
   "cell_type": "markdown",
   "id": "e8c22d06-d027-4883-946e-624b4ac7f9ab",
   "metadata": {},
   "source": [
    "Now we are going to write a function that calculates the probability of winning the big prize.\n",
    "\n",
    "In the 6/49 lottery, six numbers are drawn from a set of 49 numbers that range from 1 to 49. A player wins the big prize if the six numbers on their tickets match all the six numbers drawn. If a player has a ticket with the numbers {13, 22, 24, 27, 42, 44}, he only wins the big prize if the numbers drawn are {13, 22, 24, 27, 42, 44}. If only one number differs, he doesn't win."
   ]
  },
  {
   "cell_type": "code",
   "execution_count": 37,
   "id": "40f281a6-1946-49ee-b5df-bdbc0f4223dc",
   "metadata": {},
   "outputs": [
    {
     "name": "stdout",
     "output_type": "stream",
     "text": [
      "There are 13983816 possible combinations in lottery.\n",
      "The chance to win the lottery with one ticket is only 0.0000072%.\n"
     ]
    }
   ],
   "source": [
    "def one_ticket_probability(list_of_six_numbers):\n",
    "    lottery_list = list_of_six_numbers\n",
    "    if len(lottery_list) != 6:\n",
    "        print('The list has to have 6 numbers')\n",
    "    else:\n",
    "        #total number of possible outcomes: 49 numbers, 6 numbers are sampled\n",
    "        ttl_outcomes = combinations(49,6)\n",
    "        #person only playes one ticket in this one, so probability is 1/ttl_outcomes\n",
    "        probability = 1/ttl_outcomes\n",
    "        prob_as_pct = 100*probability\n",
    "        #format to easier number, instead of 7.2e-06% shows 0.00000072%\n",
    "        prob_as_pct = \"{:.7f}\".format(prob_as_pct)\n",
    "        #printing the result in a way that should be easy to understand\n",
    "        print(f\"There are {ttl_outcomes} possible combinations in lottery.\")\n",
    "        print(f\"The chance to win the lottery with one ticket is only {prob_as_pct}%.\")\n",
    "    \n",
    "    \n",
    "one_ticket_probability([1,2,3,4,5,6])"
   ]
  },
  {
   "cell_type": "markdown",
   "id": "5064ad8f-61db-4192-b858-3b67ae361fe5",
   "metadata": {},
   "source": [
    "Above I created a function that calculates the probability to win the big prize with one ticket. The function tries to print the probability in a way that shows addicted players that winning the lottery is close to impossible."
   ]
  },
  {
   "cell_type": "markdown",
   "id": "1cc2165b-591c-46eb-be7d-ca986c074e9f",
   "metadata": {},
   "source": [
    "## Historical Data Check for Canada Lottery"
   ]
  },
  {
   "cell_type": "markdown",
   "id": "b3d80a9e-f301-4cb8-8529-54fd2c299bd1",
   "metadata": {},
   "source": [
    "Users should be able to compare their ticket against the historical lottery data in Canada and determine whether they would have ever won by now. To do that, we are downloading the data set from [Kaggle](https://www.kaggle.com/datasets/datascienceai/lottery-dataset)."
   ]
  },
  {
   "cell_type": "code",
   "execution_count": 32,
   "id": "42e400b4-d101-419a-ae7d-7a99857073bf",
   "metadata": {},
   "outputs": [
    {
     "name": "stdout",
     "output_type": "stream",
     "text": [
      "(3665, 11)\n",
      "   PRODUCT  DRAW NUMBER  SEQUENCE NUMBER  DRAW DATE  NUMBER DRAWN 1  \\\n",
      "0      649            1                0  6/12/1982               3   \n",
      "1      649            2                0  6/19/1982               8   \n",
      "\n",
      "   NUMBER DRAWN 2  NUMBER DRAWN 3  NUMBER DRAWN 4  NUMBER DRAWN 5  \\\n",
      "0              11              12              14              41   \n",
      "1              33              36              37              39   \n",
      "\n",
      "   NUMBER DRAWN 6  BONUS NUMBER  \n",
      "0              43            13  \n",
      "1              41             9  \n"
     ]
    },
    {
     "data": {
      "text/html": [
       "<div>\n",
       "<style scoped>\n",
       "    .dataframe tbody tr th:only-of-type {\n",
       "        vertical-align: middle;\n",
       "    }\n",
       "\n",
       "    .dataframe tbody tr th {\n",
       "        vertical-align: top;\n",
       "    }\n",
       "\n",
       "    .dataframe thead th {\n",
       "        text-align: right;\n",
       "    }\n",
       "</style>\n",
       "<table border=\"1\" class=\"dataframe\">\n",
       "  <thead>\n",
       "    <tr style=\"text-align: right;\">\n",
       "      <th></th>\n",
       "      <th>PRODUCT</th>\n",
       "      <th>DRAW NUMBER</th>\n",
       "      <th>SEQUENCE NUMBER</th>\n",
       "      <th>DRAW DATE</th>\n",
       "      <th>NUMBER DRAWN 1</th>\n",
       "      <th>NUMBER DRAWN 2</th>\n",
       "      <th>NUMBER DRAWN 3</th>\n",
       "      <th>NUMBER DRAWN 4</th>\n",
       "      <th>NUMBER DRAWN 5</th>\n",
       "      <th>NUMBER DRAWN 6</th>\n",
       "      <th>BONUS NUMBER</th>\n",
       "    </tr>\n",
       "  </thead>\n",
       "  <tbody>\n",
       "    <tr>\n",
       "      <th>3663</th>\n",
       "      <td>649</td>\n",
       "      <td>3590</td>\n",
       "      <td>0</td>\n",
       "      <td>6/16/2018</td>\n",
       "      <td>2</td>\n",
       "      <td>15</td>\n",
       "      <td>21</td>\n",
       "      <td>31</td>\n",
       "      <td>38</td>\n",
       "      <td>49</td>\n",
       "      <td>8</td>\n",
       "    </tr>\n",
       "    <tr>\n",
       "      <th>3664</th>\n",
       "      <td>649</td>\n",
       "      <td>3591</td>\n",
       "      <td>0</td>\n",
       "      <td>6/20/2018</td>\n",
       "      <td>14</td>\n",
       "      <td>24</td>\n",
       "      <td>31</td>\n",
       "      <td>35</td>\n",
       "      <td>37</td>\n",
       "      <td>48</td>\n",
       "      <td>17</td>\n",
       "    </tr>\n",
       "  </tbody>\n",
       "</table>\n",
       "</div>"
      ],
      "text/plain": [
       "      PRODUCT  DRAW NUMBER  SEQUENCE NUMBER  DRAW DATE  NUMBER DRAWN 1  \\\n",
       "3663      649         3590                0  6/16/2018               2   \n",
       "3664      649         3591                0  6/20/2018              14   \n",
       "\n",
       "      NUMBER DRAWN 2  NUMBER DRAWN 3  NUMBER DRAWN 4  NUMBER DRAWN 5  \\\n",
       "3663              15              21              31              38   \n",
       "3664              24              31              35              37   \n",
       "\n",
       "      NUMBER DRAWN 6  BONUS NUMBER  \n",
       "3663              49             8  \n",
       "3664              48            17  "
      ]
     },
     "execution_count": 32,
     "metadata": {},
     "output_type": "execute_result"
    }
   ],
   "source": [
    "import pandas as pd\n",
    "data = pd.read_csv('649.csv')\n",
    "print(data.shape)\n",
    "print(data.head(2))\n",
    "data.tail(2)"
   ]
  },
  {
   "cell_type": "markdown",
   "id": "d149b7a3-b73b-4342-844d-a924afaf6608",
   "metadata": {},
   "source": [
    "The dataset contains 3665 rows, meaning that there are 3665 different lottery drawings. The first date is from 1982 and the last date is from 2018. We can find the numbers drawn from different columns, named `NUMBER DRAWN`. For each row there is also a bonus number, which can affect the winning prize."
   ]
  },
  {
   "cell_type": "markdown",
   "id": "a06b39f6-77e3-4f48-a697-19daceafb627",
   "metadata": {},
   "source": [
    "## Function for Historical Data Check"
   ]
  },
  {
   "cell_type": "markdown",
   "id": "79334796-30d4-49ec-acb3-805d1d0248db",
   "metadata": {},
   "source": [
    "Next we are going to write a function that enables users to compare their current ticket against the historical lotter data and determine whether they would have ever won by now."
   ]
  },
  {
   "cell_type": "code",
   "execution_count": 63,
   "id": "17dc5f1f-fcec-44c7-b2da-222643fcc677",
   "metadata": {},
   "outputs": [
    {
     "data": {
      "text/plain": [
       "0    {3, 41, 11, 12, 43, 14}\n",
       "1    {33, 36, 37, 39, 8, 41}\n",
       "2     {1, 6, 39, 23, 24, 27}\n",
       "3     {3, 9, 10, 43, 13, 20}\n",
       "4    {34, 5, 14, 47, 21, 31}\n",
       "dtype: object"
      ]
     },
     "execution_count": 63,
     "metadata": {},
     "output_type": "execute_result"
    }
   ],
   "source": [
    "#This function extracts numbers from the historical dataset in a list form\n",
    "def extract_numbers(row_number):\n",
    "    #empty set for numbers\n",
    "    ## numbers 1-6 (not taking the bonus number) are in columns 5-10\n",
    "    historical_list = row_number[4:10]\n",
    "    historical_list = set(historical_list)\n",
    "    return historical_list\n",
    "\n",
    "winning_numbers = data.apply(extract_numbers, axis=1)\n",
    "winning_numbers.head()"
   ]
  },
  {
   "cell_type": "markdown",
   "id": "c6863ab8-258f-4e64-8c92-63504695e30c",
   "metadata": {},
   "source": [
    "The function above returns all the winning numbers for the dataset. Let's now write a function that checks user's numbers with the historical winning numbers."
   ]
  },
  {
   "cell_type": "code",
   "execution_count": 91,
   "id": "46f0600b-468c-4db0-9d38-685ac3648a56",
   "metadata": {},
   "outputs": [
    {
     "name": "stdout",
     "output_type": "stream",
     "text": [
      "There has been over 3665 lottery games from 1982. \n",
      "In over 42 years, your lottery ticket win count is: 0\n",
      "\n",
      "There has been over 3665 lottery games from 1982. \n",
      "In over 42 years, your lottery ticket win count is: 1\n"
     ]
    }
   ],
   "source": [
    "def check_historical_occurence(user_numbers, historical_numbers):\n",
    "    user_numbers_set = set(user_numbers)\n",
    "    wins = 0\n",
    "    for numbers in historical_numbers:\n",
    "        if user_numbers_set == historical_numbers[0]: #0 so we ignore index\n",
    "            wins += 1\n",
    "            break\n",
    "    historical_count = historical_numbers.count()        \n",
    "    return f'There has been over {historical_count} lottery games from 1982. \\nIn over {2024-1982} years, your lottery ticket win count is: {wins}'\n",
    "    \n",
    "print(check_historical_occurence([1,2,3,4,5,6], winning_numbers))\n",
    "print(\"\")\n",
    "print(check_historical_occurence([3,41,14,12,43,11], winning_numbers))"
   ]
  },
  {
   "cell_type": "markdown",
   "id": "ce0b489c-1059-4ed1-a3d8-1ef5ee3d3708",
   "metadata": {},
   "source": [
    "The function above works as intended, it check whether or not user's numbers would have won already. The return tries to be as clear as possible, and tries to highlight how many lottery games and years the ticket has already (most likely) missed."
   ]
  },
  {
   "cell_type": "markdown",
   "id": "269566b7-4ca2-4e44-a8ac-5b12c65fdca5",
   "metadata": {},
   "source": [
    "## Multi-ticket Probability"
   ]
  },
  {
   "cell_type": "markdown",
   "id": "bce95f82-eca0-4560-bb77-454ea20bdfa9",
   "metadata": {},
   "source": [
    "Lottery addicts usually play more than one ticket on a single drawing, thinking that this might increase their chances of winning significantly. Our purpose is to help them better estimate their chances of winning. \n",
    "\n",
    "Next we are going to write a function that will allow the users to calculate the chances of winning for any number of different tickets."
   ]
  },
  {
   "cell_type": "code",
   "execution_count": 103,
   "id": "3cad9b75-645e-4fbb-88b2-994a5a2747b1",
   "metadata": {},
   "outputs": [
    {
     "name": "stdout",
     "output_type": "stream",
     "text": [
      "There are 13983816 possible combinations in lottery.\n",
      "The chance to win the lottery with 1 tickets is only 0.0000072%.\n",
      "\n",
      "There are 13983816 possible combinations in lottery.\n",
      "The chance to win the lottery with 10 tickets is only 0.0000715%.\n",
      "\n",
      "There are 13983816 possible combinations in lottery.\n",
      "The chance to win the lottery with 100 tickets is only 0.0007151%.\n",
      "\n",
      "There are 13983816 possible combinations in lottery.\n",
      "The chance to win the lottery with 10000 tickets is only 0.0715112%.\n",
      "\n",
      "There are 13983816 possible combinations in lottery.\n",
      "The chance to win the lottery with 1000000 tickets is only 7.1511238%.\n",
      "\n",
      "There are 13983816 possible combinations in lottery.\n",
      "The chance to win the lottery with 6991908 tickets is only 50.0000000%.\n",
      "\n",
      "There are 13983816 possible combinations in lottery.\n",
      "The chance to win the lottery with 13983816 tickets is only 100.0000000%.\n",
      "\n"
     ]
    }
   ],
   "source": [
    "#prints the probability of winning the big prize depending on the number of tickets\n",
    "def multi_ticket_probability(n_of_tickets):\n",
    "    #all the possible outcomes from 49 numbers\n",
    "    ttl_outcomes = combinations(49,6)\n",
    "    probability = n_of_tickets/ttl_outcomes\n",
    "    prob_as_pct = 100*probability\n",
    "    #clearer format\n",
    "    prob_as_pct = \"{:.7f}\".format(prob_as_pct)\n",
    "    return(f\"There are {ttl_outcomes} possible combinations in lottery.\\nThe chance to win the lottery with {n_of_tickets} tickets is only {prob_as_pct}%.\")\n",
    "\n",
    "test_probabilities = [1, 10, 100, 10000, 1000000, 6991908, 13983816]\n",
    "for n in test_probabilities:\n",
    "    print(multi_ticket_probability(n))\n",
    "    print(\"\")"
   ]
  },
  {
   "cell_type": "markdown",
   "id": "19e4bdbf-5f06-4517-a52d-64d2d9788bb1",
   "metadata": {},
   "source": [
    "From above we can see that the function works as intended. 10 tickets has 10 times the chance of winning than 1 ticket. If we would buy all the possible tickets (13983816 tickets), we would have a 100% chance of winning."
   ]
  },
  {
   "cell_type": "markdown",
   "id": "6104a745-be60-4ede-b48c-97c75c7b6690",
   "metadata": {},
   "source": [
    "## Less Winning Numbers - Function"
   ]
  },
  {
   "cell_type": "markdown",
   "id": "12df61e3-2d4c-4830-bdf6-807bfba9252c",
   "metadata": {},
   "source": [
    "Now we are going to write one more function to allow the users to calculate probabilities for two, three, four, or five winning numbers.\n",
    "\n",
    "For extra context, in most 6/49 lotteries there are smaller prizes if a player's ticket match two, three, four, or five of the six numbers drawn. As a consequence, the users might be interested in knowing the probability of having two, three, four, or five winning numbers."
   ]
  },
  {
   "cell_type": "code",
   "execution_count": 141,
   "id": "4dcfdd67-5cbb-499d-b5bf-2e455db2504f",
   "metadata": {},
   "outputs": [
    {
     "name": "stdout",
     "output_type": "stream",
     "text": [
      "Your chance to win smaller price with matching 2 numbers is 13.237803%\n",
      "Your chance to win smaller price with matching 3 numbers is 1.765040%\n",
      "Your chance to win smaller price with matching 4 numbers is 0.096862%\n",
      "Your chance to win smaller price with matching 5 numbers is 0.001845%\n"
     ]
    }
   ],
   "source": [
    "def probability_less_6(n):\n",
    "    #possible combinations for the ticket with n numbers\n",
    "    n_combinations_ticket = combinations(6, n)\n",
    "    n_combinations_remaining = combinations(43, 6-n)\n",
    "    successful_outcomes = n_combinations_ticket * n_combinations_remaining\n",
    "\n",
    "    ttl_outcomes = combinations(49,6)\n",
    "    probability = (successful_outcomes / ttl_outcomes)*100\n",
    "    #easier format\n",
    "    probability = \"{:.6f}\".format(probability)\n",
    "    return f'Your chance to win smaller price with matching {n} numbers is {probability}%'\n",
    "        \n",
    "for n in range(2, 6):\n",
    "    print(probability_less_6(n))"
   ]
  },
  {
   "cell_type": "markdown",
   "id": "7661566c-0a7d-4001-b6c1-81a9db959988",
   "metadata": {},
   "source": [
    "The main purpose of this project was to practice applying probability and combinatorics (permutations and combinations) concepts in a setting that simulates a real-world scenario. \n",
    "\n",
    "Now we have coded functions that\n",
    "- calculate factorials and combinations which are needed in other functions\n",
    "- calculates the probability for big prize win with one ticket\n",
    "- calculates the probability for big prize win with multiple tickets\n",
    "- checks if user's numbers have already won in the past 42 years\n",
    "- calculates the probability for any possible win with 2 to 5 winning numbers\n",
    "\n",
    "All the functions try to return values in such a way, that lottery addicts can see that winning the lottery is not likely going to happen."
   ]
  }
 ],
 "metadata": {
  "kernelspec": {
   "display_name": "Python 3 (ipykernel)",
   "language": "python",
   "name": "python3"
  },
  "language_info": {
   "codemirror_mode": {
    "name": "ipython",
    "version": 3
   },
   "file_extension": ".py",
   "mimetype": "text/x-python",
   "name": "python",
   "nbconvert_exporter": "python",
   "pygments_lexer": "ipython3",
   "version": "3.11.5"
  }
 },
 "nbformat": 4,
 "nbformat_minor": 5
}
